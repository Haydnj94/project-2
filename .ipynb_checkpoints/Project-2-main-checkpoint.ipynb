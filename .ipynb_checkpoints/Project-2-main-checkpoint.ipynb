{
 "cells": [
  {
   "cell_type": "markdown",
   "id": "a095df7d-128a-44ee-abab-d78438bc9f0d",
   "metadata": {
    "jp-MarkdownHeadingCollapsed": true
   },
   "source": [
    "# KPI's"
   ]
  },
  {
   "cell_type": "raw",
   "id": "706824cb-d153-4113-946c-ce17a77e42e3",
   "metadata": {},
   "source": [
    "Core KPIs (Already Mentioned)\n",
    "\t•\tCompletion Rate → % of users who finished the final stage.\n",
    "\t•\tTime Spent per Step → Avg. time spent in each phase.\n",
    "\t•\tError Rate → % of users who encountered errors.\n",
    "\n",
    "Additional KPIs to Consider\n",
    "\n",
    "A. User Engagement & Drop-off Metrics\n",
    "\t•\tDrop-off Rate per Step → % of users who abandon the test at each phase.\n",
    "\t•\tBounce Rate (First Step Exit Rate) → % of users who leave after the first step.\n",
    "\n",
    "C. Behavioral Insights\n",
    "\t•\tAverage Number of Sessions per User → How many sessions it takes to complete.\n",
    "\t•\tUser Hesitation Time → Time between actions (indicating confusion).\n",
    "\t•\tAbandonment Reasons (if logged) → Why users leave (error, confusion, timeout)."
   ]
  },
  {
   "cell_type": "markdown",
   "id": "b1f95974-2a2a-4b2a-b00b-1a996acda8b8",
   "metadata": {
    "jp-MarkdownHeadingCollapsed": true
   },
   "source": [
    "# Initialize + Clean"
   ]
  },
  {
   "cell_type": "code",
   "execution_count": 3,
   "id": "1d5d95b0-df8a-4983-aa92-daf9a912cc58",
   "metadata": {},
   "outputs": [],
   "source": [
    "import pandas as pd\n",
    "import matplotlib.pyplot as plt\n",
    "import seaborn as sns\n",
    "import numpy as np\n",
    "import scipy.stats as st\n",
    "import warnings\n",
    "warnings.filterwarnings(\"ignore\")"
   ]
  },
  {
   "cell_type": "code",
   "execution_count": 4,
   "id": "da1bcea5-3a55-4b19-9e3a-35c891ab7208",
   "metadata": {},
   "outputs": [],
   "source": [
    "final_demo = 'Data assets/df_final_demo.txt'\n",
    "experiments_clients = 'Data assets/df_final_experiment_clients.txt'\n",
    "web_1 = 'Data assets/df_final_web_data_pt_1.txt'\n",
    "web_2 = 'Data assets/df_final_web_data_pt_2.txt'\n",
    "\n",
    "# Read the text files into DataFrames\n",
    "df_final = pd.read_csv(final_demo)\n",
    "df_experiments = pd.read_csv(experiments_clients)\n",
    "df_web_1 = pd.read_csv(web_1)\n",
    "df_web_2 = pd.read_csv(web_2)\n",
    "\n",
    "# Combine the DataFrames into one (if needed)\n",
    "df_web = pd.concat([df_web_1, df_web_2], axis=0)"
   ]
  },
  {
   "cell_type": "code",
   "execution_count": 5,
   "id": "4b804edd-c437-4748-9663-77d87402010c",
   "metadata": {},
   "outputs": [],
   "source": [
    "df_final['gendr'] = df_final['gendr'].replace({'X': 'U'})\n",
    "df_final['gendr'] = df_final['gendr'].fillna('U')"
   ]
  },
  {
   "cell_type": "code",
   "execution_count": 6,
   "id": "30e0e906-e7c3-49ce-990b-d13e99849836",
   "metadata": {},
   "outputs": [
    {
     "data": {
      "text/html": [
       "<div>\n",
       "<style scoped>\n",
       "    .dataframe tbody tr th:only-of-type {\n",
       "        vertical-align: middle;\n",
       "    }\n",
       "\n",
       "    .dataframe tbody tr th {\n",
       "        vertical-align: top;\n",
       "    }\n",
       "\n",
       "    .dataframe thead th {\n",
       "        text-align: right;\n",
       "    }\n",
       "</style>\n",
       "<table border=\"1\" class=\"dataframe\">\n",
       "  <thead>\n",
       "    <tr style=\"text-align: right;\">\n",
       "      <th></th>\n",
       "      <th>client_id</th>\n",
       "      <th>visitor_id</th>\n",
       "      <th>visit_id</th>\n",
       "      <th>process_step</th>\n",
       "      <th>date_time</th>\n",
       "    </tr>\n",
       "  </thead>\n",
       "  <tbody>\n",
       "    <tr>\n",
       "      <th>0</th>\n",
       "      <td>9988021</td>\n",
       "      <td>580560515_7732621733</td>\n",
       "      <td>781255054_21935453173_531117</td>\n",
       "      <td>step_3</td>\n",
       "      <td>2017-04-17 15:27:07</td>\n",
       "    </tr>\n",
       "    <tr>\n",
       "      <th>1</th>\n",
       "      <td>9988021</td>\n",
       "      <td>580560515_7732621733</td>\n",
       "      <td>781255054_21935453173_531117</td>\n",
       "      <td>step_2</td>\n",
       "      <td>2017-04-17 15:26:51</td>\n",
       "    </tr>\n",
       "    <tr>\n",
       "      <th>2</th>\n",
       "      <td>9988021</td>\n",
       "      <td>580560515_7732621733</td>\n",
       "      <td>781255054_21935453173_531117</td>\n",
       "      <td>step_3</td>\n",
       "      <td>2017-04-17 15:19:22</td>\n",
       "    </tr>\n",
       "    <tr>\n",
       "      <th>3</th>\n",
       "      <td>9988021</td>\n",
       "      <td>580560515_7732621733</td>\n",
       "      <td>781255054_21935453173_531117</td>\n",
       "      <td>step_2</td>\n",
       "      <td>2017-04-17 15:19:13</td>\n",
       "    </tr>\n",
       "    <tr>\n",
       "      <th>4</th>\n",
       "      <td>9988021</td>\n",
       "      <td>580560515_7732621733</td>\n",
       "      <td>781255054_21935453173_531117</td>\n",
       "      <td>step_3</td>\n",
       "      <td>2017-04-17 15:18:04</td>\n",
       "    </tr>\n",
       "    <tr>\n",
       "      <th>...</th>\n",
       "      <td>...</td>\n",
       "      <td>...</td>\n",
       "      <td>...</td>\n",
       "      <td>...</td>\n",
       "      <td>...</td>\n",
       "    </tr>\n",
       "    <tr>\n",
       "      <th>755400</th>\n",
       "      <td>9668240</td>\n",
       "      <td>388766751_9038881013</td>\n",
       "      <td>922267647_3096648104_968866</td>\n",
       "      <td>start</td>\n",
       "      <td>2017-05-24 18:46:10</td>\n",
       "    </tr>\n",
       "    <tr>\n",
       "      <th>755401</th>\n",
       "      <td>9668240</td>\n",
       "      <td>388766751_9038881013</td>\n",
       "      <td>922267647_3096648104_968866</td>\n",
       "      <td>start</td>\n",
       "      <td>2017-05-24 18:45:29</td>\n",
       "    </tr>\n",
       "    <tr>\n",
       "      <th>755402</th>\n",
       "      <td>9668240</td>\n",
       "      <td>388766751_9038881013</td>\n",
       "      <td>922267647_3096648104_968866</td>\n",
       "      <td>step_1</td>\n",
       "      <td>2017-05-24 18:44:51</td>\n",
       "    </tr>\n",
       "    <tr>\n",
       "      <th>755403</th>\n",
       "      <td>9668240</td>\n",
       "      <td>388766751_9038881013</td>\n",
       "      <td>922267647_3096648104_968866</td>\n",
       "      <td>start</td>\n",
       "      <td>2017-05-24 18:44:34</td>\n",
       "    </tr>\n",
       "    <tr>\n",
       "      <th>755404</th>\n",
       "      <td>674799</td>\n",
       "      <td>947159805_81558194550</td>\n",
       "      <td>86152093_47511127657_716022</td>\n",
       "      <td>start</td>\n",
       "      <td>2017-06-03 12:17:09</td>\n",
       "    </tr>\n",
       "  </tbody>\n",
       "</table>\n",
       "<p>755405 rows × 5 columns</p>\n",
       "</div>"
      ],
      "text/plain": [
       "        client_id             visitor_id                      visit_id  \\\n",
       "0         9988021   580560515_7732621733  781255054_21935453173_531117   \n",
       "1         9988021   580560515_7732621733  781255054_21935453173_531117   \n",
       "2         9988021   580560515_7732621733  781255054_21935453173_531117   \n",
       "3         9988021   580560515_7732621733  781255054_21935453173_531117   \n",
       "4         9988021   580560515_7732621733  781255054_21935453173_531117   \n",
       "...           ...                    ...                           ...   \n",
       "755400    9668240   388766751_9038881013   922267647_3096648104_968866   \n",
       "755401    9668240   388766751_9038881013   922267647_3096648104_968866   \n",
       "755402    9668240   388766751_9038881013   922267647_3096648104_968866   \n",
       "755403    9668240   388766751_9038881013   922267647_3096648104_968866   \n",
       "755404     674799  947159805_81558194550   86152093_47511127657_716022   \n",
       "\n",
       "       process_step            date_time  \n",
       "0            step_3  2017-04-17 15:27:07  \n",
       "1            step_2  2017-04-17 15:26:51  \n",
       "2            step_3  2017-04-17 15:19:22  \n",
       "3            step_2  2017-04-17 15:19:13  \n",
       "4            step_3  2017-04-17 15:18:04  \n",
       "...             ...                  ...  \n",
       "755400        start  2017-05-24 18:46:10  \n",
       "755401        start  2017-05-24 18:45:29  \n",
       "755402       step_1  2017-05-24 18:44:51  \n",
       "755403        start  2017-05-24 18:44:34  \n",
       "755404        start  2017-06-03 12:17:09  \n",
       "\n",
       "[755405 rows x 5 columns]"
      ]
     },
     "execution_count": 6,
     "metadata": {},
     "output_type": "execute_result"
    }
   ],
   "source": [
    "df_combined = pd.merge(df_final, df_experiments, on= 'client_id').reset_index(drop = True)\n",
    "df_combined.dropna(subset=['Variation'], inplace = True)\n",
    "df_web.reset_index(drop=True)"
   ]
  },
  {
   "cell_type": "code",
   "execution_count": 7,
   "id": "e039e850-dab5-4314-bb4f-09a2eec49e10",
   "metadata": {},
   "outputs": [],
   "source": [
    "df_combined.rename(columns={\n",
    "                            'client_id': 'ClientID',\n",
    "                            'clnt_tenure_yr': 'Tenure(Y)',\n",
    "                            'clnt_tenure_mnth': 'Tenure(M)',\n",
    "                            'clnt_age': 'Age',\n",
    "                            'gendr': 'Gender',\n",
    "                            'num_accts': 'Accounts(#)',\n",
    "                            'bal': 'Balance',\n",
    "                            'calls_6_mnth': 'Calls',\n",
    "                            'logons_6_mnth': 'Logins',\n",
    "                            'Variation': 'Variation'\n",
    "                        }, inplace=True)"
   ]
  },
  {
   "cell_type": "code",
   "execution_count": 8,
   "id": "f9203ef5-d3f8-4d5a-91ed-eb34a963deb1",
   "metadata": {},
   "outputs": [
    {
     "name": "stdout",
     "output_type": "stream",
     "text": [
      "ClientID        0\n",
      "Tenure(Y)      12\n",
      "Tenure(M)      12\n",
      "Age            13\n",
      "Gender          0\n",
      "Accounts(#)    12\n",
      "Balance        12\n",
      "Calls          12\n",
      "Logins         12\n",
      "Variation       0\n",
      "dtype: int64\n"
     ]
    }
   ],
   "source": [
    "print(df_combined.isna().sum())"
   ]
  },
  {
   "cell_type": "code",
   "execution_count": 9,
   "id": "c569fbc6-1b17-40d3-982d-23b075ca7576",
   "metadata": {},
   "outputs": [],
   "source": [
    "df_combined = df_combined.dropna()"
   ]
  },
  {
   "cell_type": "code",
   "execution_count": 10,
   "id": "b88001bc-7d1f-4deb-bd62-16453a482abc",
   "metadata": {},
   "outputs": [],
   "source": [
    "# Convert columns to integers\n",
    "df_combined['Tenure(Y)'] = df_combined['Tenure(Y)'].astype(int)\n",
    "df_combined['Tenure(M)'] = df_combined['Tenure(M)'].astype(int)\n",
    "df_combined['Accounts(#)'] = df_combined['Accounts(#)'].astype(int)\n",
    "df_combined['Calls'] = df_combined['Calls'].astype(int)\n",
    "df_combined['Logins'] = df_combined['Logins'].astype(int)\n",
    "\n",
    "# Convert Age to int and round down\n",
    "df_combined['Age'] = np.floor(df_combined['Age']).astype(int)"
   ]
  },
  {
   "cell_type": "code",
   "execution_count": 11,
   "id": "d4bfb0c7-44a9-4bb0-b0ae-629022b166c5",
   "metadata": {},
   "outputs": [
    {
     "data": {
      "text/html": [
       "<div>\n",
       "<style scoped>\n",
       "    .dataframe tbody tr th:only-of-type {\n",
       "        vertical-align: middle;\n",
       "    }\n",
       "\n",
       "    .dataframe tbody tr th {\n",
       "        vertical-align: top;\n",
       "    }\n",
       "\n",
       "    .dataframe thead th {\n",
       "        text-align: right;\n",
       "    }\n",
       "</style>\n",
       "<table border=\"1\" class=\"dataframe\">\n",
       "  <thead>\n",
       "    <tr style=\"text-align: right;\">\n",
       "      <th></th>\n",
       "      <th>ClientID</th>\n",
       "      <th>Tenure(Y)</th>\n",
       "      <th>Tenure(M)</th>\n",
       "      <th>Age</th>\n",
       "      <th>Gender</th>\n",
       "      <th>Accounts(#)</th>\n",
       "      <th>Balance</th>\n",
       "      <th>Calls</th>\n",
       "      <th>Logins</th>\n",
       "      <th>Variation</th>\n",
       "    </tr>\n",
       "  </thead>\n",
       "  <tbody>\n",
       "    <tr>\n",
       "      <th>0</th>\n",
       "      <td>836976</td>\n",
       "      <td>6</td>\n",
       "      <td>73</td>\n",
       "      <td>60</td>\n",
       "      <td>U</td>\n",
       "      <td>2</td>\n",
       "      <td>45105.30</td>\n",
       "      <td>6</td>\n",
       "      <td>9</td>\n",
       "      <td>Test</td>\n",
       "    </tr>\n",
       "    <tr>\n",
       "      <th>1</th>\n",
       "      <td>2304905</td>\n",
       "      <td>7</td>\n",
       "      <td>94</td>\n",
       "      <td>58</td>\n",
       "      <td>U</td>\n",
       "      <td>2</td>\n",
       "      <td>110860.30</td>\n",
       "      <td>6</td>\n",
       "      <td>9</td>\n",
       "      <td>Control</td>\n",
       "    </tr>\n",
       "    <tr>\n",
       "      <th>2</th>\n",
       "      <td>1439522</td>\n",
       "      <td>5</td>\n",
       "      <td>64</td>\n",
       "      <td>32</td>\n",
       "      <td>U</td>\n",
       "      <td>2</td>\n",
       "      <td>52467.79</td>\n",
       "      <td>6</td>\n",
       "      <td>9</td>\n",
       "      <td>Test</td>\n",
       "    </tr>\n",
       "    <tr>\n",
       "      <th>3</th>\n",
       "      <td>1562045</td>\n",
       "      <td>16</td>\n",
       "      <td>198</td>\n",
       "      <td>49</td>\n",
       "      <td>M</td>\n",
       "      <td>2</td>\n",
       "      <td>67454.65</td>\n",
       "      <td>3</td>\n",
       "      <td>6</td>\n",
       "      <td>Test</td>\n",
       "    </tr>\n",
       "    <tr>\n",
       "      <th>4</th>\n",
       "      <td>5126305</td>\n",
       "      <td>12</td>\n",
       "      <td>145</td>\n",
       "      <td>33</td>\n",
       "      <td>F</td>\n",
       "      <td>2</td>\n",
       "      <td>103671.75</td>\n",
       "      <td>0</td>\n",
       "      <td>3</td>\n",
       "      <td>Control</td>\n",
       "    </tr>\n",
       "    <tr>\n",
       "      <th>...</th>\n",
       "      <td>...</td>\n",
       "      <td>...</td>\n",
       "      <td>...</td>\n",
       "      <td>...</td>\n",
       "      <td>...</td>\n",
       "      <td>...</td>\n",
       "      <td>...</td>\n",
       "      <td>...</td>\n",
       "      <td>...</td>\n",
       "      <td>...</td>\n",
       "    </tr>\n",
       "    <tr>\n",
       "      <th>50495</th>\n",
       "      <td>1780858</td>\n",
       "      <td>21</td>\n",
       "      <td>262</td>\n",
       "      <td>68</td>\n",
       "      <td>M</td>\n",
       "      <td>3</td>\n",
       "      <td>372100.59</td>\n",
       "      <td>6</td>\n",
       "      <td>9</td>\n",
       "      <td>Test</td>\n",
       "    </tr>\n",
       "    <tr>\n",
       "      <th>50496</th>\n",
       "      <td>6967120</td>\n",
       "      <td>21</td>\n",
       "      <td>260</td>\n",
       "      <td>68</td>\n",
       "      <td>M</td>\n",
       "      <td>3</td>\n",
       "      <td>4279873.38</td>\n",
       "      <td>6</td>\n",
       "      <td>9</td>\n",
       "      <td>Control</td>\n",
       "    </tr>\n",
       "    <tr>\n",
       "      <th>50497</th>\n",
       "      <td>5826160</td>\n",
       "      <td>20</td>\n",
       "      <td>249</td>\n",
       "      <td>56</td>\n",
       "      <td>F</td>\n",
       "      <td>2</td>\n",
       "      <td>44837.16</td>\n",
       "      <td>2</td>\n",
       "      <td>5</td>\n",
       "      <td>Test</td>\n",
       "    </tr>\n",
       "    <tr>\n",
       "      <th>50498</th>\n",
       "      <td>8739285</td>\n",
       "      <td>19</td>\n",
       "      <td>229</td>\n",
       "      <td>69</td>\n",
       "      <td>F</td>\n",
       "      <td>2</td>\n",
       "      <td>44994.24</td>\n",
       "      <td>1</td>\n",
       "      <td>4</td>\n",
       "      <td>Test</td>\n",
       "    </tr>\n",
       "    <tr>\n",
       "      <th>50499</th>\n",
       "      <td>7468138</td>\n",
       "      <td>18</td>\n",
       "      <td>222</td>\n",
       "      <td>61</td>\n",
       "      <td>F</td>\n",
       "      <td>3</td>\n",
       "      <td>209278.15</td>\n",
       "      <td>0</td>\n",
       "      <td>3</td>\n",
       "      <td>Test</td>\n",
       "    </tr>\n",
       "  </tbody>\n",
       "</table>\n",
       "<p>50487 rows × 10 columns</p>\n",
       "</div>"
      ],
      "text/plain": [
       "       ClientID  Tenure(Y)  Tenure(M)  Age Gender  Accounts(#)     Balance  \\\n",
       "0        836976          6         73   60      U            2    45105.30   \n",
       "1       2304905          7         94   58      U            2   110860.30   \n",
       "2       1439522          5         64   32      U            2    52467.79   \n",
       "3       1562045         16        198   49      M            2    67454.65   \n",
       "4       5126305         12        145   33      F            2   103671.75   \n",
       "...         ...        ...        ...  ...    ...          ...         ...   \n",
       "50495   1780858         21        262   68      M            3   372100.59   \n",
       "50496   6967120         21        260   68      M            3  4279873.38   \n",
       "50497   5826160         20        249   56      F            2    44837.16   \n",
       "50498   8739285         19        229   69      F            2    44994.24   \n",
       "50499   7468138         18        222   61      F            3   209278.15   \n",
       "\n",
       "       Calls  Logins Variation  \n",
       "0          6       9      Test  \n",
       "1          6       9   Control  \n",
       "2          6       9      Test  \n",
       "3          3       6      Test  \n",
       "4          0       3   Control  \n",
       "...      ...     ...       ...  \n",
       "50495      6       9      Test  \n",
       "50496      6       9   Control  \n",
       "50497      2       5      Test  \n",
       "50498      1       4      Test  \n",
       "50499      0       3      Test  \n",
       "\n",
       "[50487 rows x 10 columns]"
      ]
     },
     "execution_count": 11,
     "metadata": {},
     "output_type": "execute_result"
    }
   ],
   "source": [
    "df_combined"
   ]
  },
  {
   "cell_type": "code",
   "execution_count": 12,
   "id": "0f9fceca-5aee-49a6-91f7-ec3edb38e52d",
   "metadata": {},
   "outputs": [],
   "source": [
    "df_web.rename(columns={\n",
    "                        'client_id': 'ClientID',\n",
    "                        'visitor_id': 'visitor_id',\n",
    "                        'visit_id': 'visit_id',\n",
    "                        'process_step': 'process_step',\n",
    "                        'date_time': 'date_time',\n",
    "                    }, inplace=True)"
   ]
  },
  {
   "cell_type": "code",
   "execution_count": 13,
   "id": "e76ccb75-6492-4eb6-94e5-274d976b5e14",
   "metadata": {},
   "outputs": [
    {
     "data": {
      "text/html": [
       "<div>\n",
       "<style scoped>\n",
       "    .dataframe tbody tr th:only-of-type {\n",
       "        vertical-align: middle;\n",
       "    }\n",
       "\n",
       "    .dataframe tbody tr th {\n",
       "        vertical-align: top;\n",
       "    }\n",
       "\n",
       "    .dataframe thead th {\n",
       "        text-align: right;\n",
       "    }\n",
       "</style>\n",
       "<table border=\"1\" class=\"dataframe\">\n",
       "  <thead>\n",
       "    <tr style=\"text-align: right;\">\n",
       "      <th></th>\n",
       "      <th>ClientID</th>\n",
       "      <th>visitor_id</th>\n",
       "      <th>visit_id</th>\n",
       "      <th>process_step</th>\n",
       "      <th>date_time</th>\n",
       "    </tr>\n",
       "  </thead>\n",
       "  <tbody>\n",
       "    <tr>\n",
       "      <th>0</th>\n",
       "      <td>9988021</td>\n",
       "      <td>580560515_7732621733</td>\n",
       "      <td>781255054_21935453173_531117</td>\n",
       "      <td>step_3</td>\n",
       "      <td>2017-04-17 15:27:07</td>\n",
       "    </tr>\n",
       "    <tr>\n",
       "      <th>1</th>\n",
       "      <td>9988021</td>\n",
       "      <td>580560515_7732621733</td>\n",
       "      <td>781255054_21935453173_531117</td>\n",
       "      <td>step_2</td>\n",
       "      <td>2017-04-17 15:26:51</td>\n",
       "    </tr>\n",
       "    <tr>\n",
       "      <th>2</th>\n",
       "      <td>9988021</td>\n",
       "      <td>580560515_7732621733</td>\n",
       "      <td>781255054_21935453173_531117</td>\n",
       "      <td>step_3</td>\n",
       "      <td>2017-04-17 15:19:22</td>\n",
       "    </tr>\n",
       "    <tr>\n",
       "      <th>3</th>\n",
       "      <td>9988021</td>\n",
       "      <td>580560515_7732621733</td>\n",
       "      <td>781255054_21935453173_531117</td>\n",
       "      <td>step_2</td>\n",
       "      <td>2017-04-17 15:19:13</td>\n",
       "    </tr>\n",
       "    <tr>\n",
       "      <th>4</th>\n",
       "      <td>9988021</td>\n",
       "      <td>580560515_7732621733</td>\n",
       "      <td>781255054_21935453173_531117</td>\n",
       "      <td>step_3</td>\n",
       "      <td>2017-04-17 15:18:04</td>\n",
       "    </tr>\n",
       "    <tr>\n",
       "      <th>...</th>\n",
       "      <td>...</td>\n",
       "      <td>...</td>\n",
       "      <td>...</td>\n",
       "      <td>...</td>\n",
       "      <td>...</td>\n",
       "    </tr>\n",
       "    <tr>\n",
       "      <th>412259</th>\n",
       "      <td>9668240</td>\n",
       "      <td>388766751_9038881013</td>\n",
       "      <td>922267647_3096648104_968866</td>\n",
       "      <td>start</td>\n",
       "      <td>2017-05-24 18:46:10</td>\n",
       "    </tr>\n",
       "    <tr>\n",
       "      <th>412260</th>\n",
       "      <td>9668240</td>\n",
       "      <td>388766751_9038881013</td>\n",
       "      <td>922267647_3096648104_968866</td>\n",
       "      <td>start</td>\n",
       "      <td>2017-05-24 18:45:29</td>\n",
       "    </tr>\n",
       "    <tr>\n",
       "      <th>412261</th>\n",
       "      <td>9668240</td>\n",
       "      <td>388766751_9038881013</td>\n",
       "      <td>922267647_3096648104_968866</td>\n",
       "      <td>step_1</td>\n",
       "      <td>2017-05-24 18:44:51</td>\n",
       "    </tr>\n",
       "    <tr>\n",
       "      <th>412262</th>\n",
       "      <td>9668240</td>\n",
       "      <td>388766751_9038881013</td>\n",
       "      <td>922267647_3096648104_968866</td>\n",
       "      <td>start</td>\n",
       "      <td>2017-05-24 18:44:34</td>\n",
       "    </tr>\n",
       "    <tr>\n",
       "      <th>412263</th>\n",
       "      <td>674799</td>\n",
       "      <td>947159805_81558194550</td>\n",
       "      <td>86152093_47511127657_716022</td>\n",
       "      <td>start</td>\n",
       "      <td>2017-06-03 12:17:09</td>\n",
       "    </tr>\n",
       "  </tbody>\n",
       "</table>\n",
       "<p>755405 rows × 5 columns</p>\n",
       "</div>"
      ],
      "text/plain": [
       "        ClientID             visitor_id                      visit_id  \\\n",
       "0        9988021   580560515_7732621733  781255054_21935453173_531117   \n",
       "1        9988021   580560515_7732621733  781255054_21935453173_531117   \n",
       "2        9988021   580560515_7732621733  781255054_21935453173_531117   \n",
       "3        9988021   580560515_7732621733  781255054_21935453173_531117   \n",
       "4        9988021   580560515_7732621733  781255054_21935453173_531117   \n",
       "...          ...                    ...                           ...   \n",
       "412259   9668240   388766751_9038881013   922267647_3096648104_968866   \n",
       "412260   9668240   388766751_9038881013   922267647_3096648104_968866   \n",
       "412261   9668240   388766751_9038881013   922267647_3096648104_968866   \n",
       "412262   9668240   388766751_9038881013   922267647_3096648104_968866   \n",
       "412263    674799  947159805_81558194550   86152093_47511127657_716022   \n",
       "\n",
       "       process_step            date_time  \n",
       "0            step_3  2017-04-17 15:27:07  \n",
       "1            step_2  2017-04-17 15:26:51  \n",
       "2            step_3  2017-04-17 15:19:22  \n",
       "3            step_2  2017-04-17 15:19:13  \n",
       "4            step_3  2017-04-17 15:18:04  \n",
       "...             ...                  ...  \n",
       "412259        start  2017-05-24 18:46:10  \n",
       "412260        start  2017-05-24 18:45:29  \n",
       "412261       step_1  2017-05-24 18:44:51  \n",
       "412262        start  2017-05-24 18:44:34  \n",
       "412263        start  2017-06-03 12:17:09  \n",
       "\n",
       "[755405 rows x 5 columns]"
      ]
     },
     "execution_count": 13,
     "metadata": {},
     "output_type": "execute_result"
    }
   ],
   "source": [
    "df_web"
   ]
  },
  {
   "cell_type": "code",
   "execution_count": 14,
   "id": "8ce5d089-3cbc-45b5-b044-b8af3dc4e5be",
   "metadata": {},
   "outputs": [],
   "source": [
    "df_web = df_web.drop_duplicates(subset=['ClientID', 'visit_id', 'date_time'], keep='first')"
   ]
  },
  {
   "cell_type": "markdown",
   "id": "7f4b8f37-c677-4b16-908f-731cbcf6381b",
   "metadata": {
    "jp-MarkdownHeadingCollapsed": true
   },
   "source": [
    "# Initial Client behavior analysis"
   ]
  },
  {
   "cell_type": "markdown",
   "id": "5243f31b-5dd0-475e-a28b-fe26cc82622b",
   "metadata": {
    "jp-MarkdownHeadingCollapsed": true
   },
   "source": [
    "## Test vs. Control"
   ]
  },
  {
   "cell_type": "code",
   "execution_count": 17,
   "id": "de6a43b5-3f4d-40c8-a3c6-8801792d0e7b",
   "metadata": {},
   "outputs": [],
   "source": [
    "df_combined_var = df_combined['Variation'].value_counts()"
   ]
  },
  {
   "cell_type": "code",
   "execution_count": 18,
   "id": "046c6de7-47f8-49df-81d5-6a16c04cdce7",
   "metadata": {},
   "outputs": [
    {
     "data": {
      "image/png": "[encoded data removed]",
      "text/plain": [
       "<Figure size 640x480 with 1 Axes>"
      ]
     },
     "metadata": {},
     "output_type": "display_data"
    }
   ],
   "source": [
    "sns.barplot(x=df_combined_var .index, y=df_combined_var .values, palette=\"Set3\");"
   ]
  },
  {
   "cell_type": "code",
   "execution_count": 19,
   "id": "b1374b7f-fbd1-4952-90ba-15d6a46dfb3d",
   "metadata": {},
   "outputs": [
    {
     "data": {
      "text/plain": [
       "<Axes: ylabel='count'>"
      ]
     },
     "execution_count": 19,
     "metadata": {},
     "output_type": "execute_result"
    },
    {
     "data": {
      "image/png": "[encoded data removed]",
      "text/plain": [
       "<Figure size 640x480 with 1 Axes>"
      ]
     },
     "metadata": {},
     "output_type": "display_data"
    }
   ],
   "source": [
    "df_combined_var.plot.pie(autopct='%1.1f%%', startangle=360, colors=sns.color_palette(\"Set3\"))"
   ]
  },
  {
   "cell_type": "markdown",
   "id": "deae2301-fd4d-459f-a4a9-431e8f245656",
   "metadata": {
    "jp-MarkdownHeadingCollapsed": true
   },
   "source": [
    "## Clients Ages"
   ]
  },
  {
   "cell_type": "code",
   "execution_count": 21,
   "id": "f5aba5e7-dfa2-4bd2-8f28-f0072a01769e",
   "metadata": {},
   "outputs": [],
   "source": [
    "bins = [0, 20, 40, 60, df_combined['Age'].max()]\n",
    "labels = ['0 - 20', '21 - 40', '41 - 60', '60+']\n",
    "df_combined_cat_added = pd.cut(df_combined['Age'], bins=bins, labels=labels, include_lowest=True)\n",
    "df_combined_cat_added = df_combined_cat_added.value_counts()"
   ]
  },
  {
   "cell_type": "code",
   "execution_count": 22,
   "id": "def87ecf-ffe7-438d-8eb0-3e5013bc4cb0",
   "metadata": {},
   "outputs": [
    {
     "data": {
      "image/png": "[encoded data removed]",
      "text/plain": [
       "<Figure size 640x480 with 1 Axes>"
      ]
     },
     "metadata": {},
     "output_type": "display_data"
    }
   ],
   "source": [
    "sns.barplot(x=df_combined_cat_added.index, y=df_combined_cat_added.values, palette=\"Set3\");"
   ]
  },
  {
   "cell_type": "markdown",
   "id": "55a82576-b510-4942-a719-647b8c4bf17a",
   "metadata": {
    "jp-MarkdownHeadingCollapsed": true
   },
   "source": [
    "## Clients Sex"
   ]
  },
  {
   "cell_type": "code",
   "execution_count": 24,
   "id": "ba7be1db-85c0-42dd-8f6b-7da57f63529d",
   "metadata": {},
   "outputs": [],
   "source": [
    "df_combined_gendr_cat = df_combined['Gender'].value_counts()"
   ]
  },
  {
   "cell_type": "code",
   "execution_count": 25,
   "id": "a3e39a25-120c-4c7f-bb3d-8ca8a8619692",
   "metadata": {},
   "outputs": [
    {
     "data": {
      "image/png": "[encoded data removed]",
      "text/plain": [
       "<Figure size 640x480 with 1 Axes>"
      ]
     },
     "metadata": {},
     "output_type": "display_data"
    }
   ],
   "source": [
    "sns.barplot(x=df_combined_gendr_cat.index, y=df_combined_gendr_cat.values, palette=\"Set3\");"
   ]
  },
  {
   "cell_type": "markdown",
   "id": "d7f4a540-298c-4578-8b25-8cbbf2e46034",
   "metadata": {
    "jp-MarkdownHeadingCollapsed": true
   },
   "source": [
    "## Clients Tenure"
   ]
  },
  {
   "cell_type": "code",
   "execution_count": 27,
   "id": "87545a18-dc0f-4343-b463-7fd5ac606d9e",
   "metadata": {},
   "outputs": [
    {
     "data": {
      "text/plain": [
       "count    50487.000000\n",
       "mean        12.031810\n",
       "std          6.860326\n",
       "min          2.000000\n",
       "25%          6.000000\n",
       "50%         11.000000\n",
       "75%         16.000000\n",
       "max         55.000000\n",
       "Name: Tenure(Y), dtype: float64"
      ]
     },
     "execution_count": 27,
     "metadata": {},
     "output_type": "execute_result"
    }
   ],
   "source": [
    "df_combined['Tenure(Y)'].describe()"
   ]
  },
  {
   "cell_type": "code",
   "execution_count": 28,
   "id": "c992ad10-be2f-44d4-b54b-3788f9dc5571",
   "metadata": {},
   "outputs": [],
   "source": [
    "bins = [0, 5, 10, 15, 20, 25, 30, 35, 40, df_combined['Tenure(Y)'].max()]\n",
    "labels = ['up to 5', '6 - 10', '11 - 15', '16 - 20', '21 - 25', '26 - 30', '31 - 35', '36 - 40', '41+']\n",
    "df_tenure_cat = pd.cut(df_combined['Tenure(Y)'], bins=bins, labels=labels, include_lowest=True)\n",
    "df_tenure_cat = df_tenure_cat.value_counts()"
   ]
  },
  {
   "cell_type": "code",
   "execution_count": 29,
   "id": "e912afca-1281-4aca-b0f8-936df9fc8599",
   "metadata": {},
   "outputs": [
    {
     "data": {
      "text/plain": [
       "Tenure(Y)\n",
       "6 - 10     15975\n",
       "11 - 15    13109\n",
       "up to 5     8729\n",
       "16 - 20     5710\n",
       "21 - 25     4487\n",
       "26 - 30     1762\n",
       "31 - 35      570\n",
       "36 - 40       93\n",
       "41+           52\n",
       "Name: count, dtype: int64"
      ]
     },
     "execution_count": 29,
     "metadata": {},
     "output_type": "execute_result"
    }
   ],
   "source": [
    "df_tenure_cat"
   ]
  },
  {
   "cell_type": "code",
   "execution_count": 30,
   "id": "1e91f19e-2af3-4473-b740-bff32711d4f4",
   "metadata": {},
   "outputs": [
    {
     "data": {
      "image/png": "[encoded data removed]",
      "text/plain": [
       "<Figure size 640x480 with 1 Axes>"
      ]
     },
     "metadata": {},
     "output_type": "display_data"
    }
   ],
   "source": [
    "sns.barplot(x=df_tenure_cat.index, y=df_tenure_cat.values, palette=\"Set3\");"
   ]
  },
  {
   "cell_type": "markdown",
   "id": "5b26d640-2385-4e34-970e-1d80239cba2d",
   "metadata": {},
   "source": [
    "# Performance Metrics"
   ]
  },
  {
   "cell_type": "markdown",
   "id": "453c6dbc-46a2-4b58-935e-40b521c32d52",
   "metadata": {
    "jp-MarkdownHeadingCollapsed": true
   },
   "source": [
    "#### **Core KPIs (Already Mentioned)**\n",
    "\t•\tCompletion Rate → % of users who finished the final stage\n",
    "\t•\tTime Spent per Step → Avg. time spent in each phase\n",
    "\t•\tAverage Number of Sessions per User → How many sessions it takes to complete"
   ]
  },
  {
   "cell_type": "code",
   "execution_count": 33,
   "id": "8510f0f9-7e9b-4b60-8eee-ca556c800880",
   "metadata": {},
   "outputs": [],
   "source": [
    "df_web = df_web.merge(df_combined[['ClientID', 'Variation']], on='ClientID', how='inner')"
   ]
  },
  {
   "cell_type": "markdown",
   "id": "79442dff-95f8-4341-a5b6-e29127ea6a5a",
   "metadata": {},
   "source": [
    "## Completion Rate:"
   ]
  },
  {
   "cell_type": "code",
   "execution_count": 35,
   "id": "2a082e1a-a99e-49bd-8b0a-93c3fc2a3f3b",
   "metadata": {},
   "outputs": [
    {
     "data": {
      "text/html": [
       "<div>\n",
       "<style scoped>\n",
       "    .dataframe tbody tr th:only-of-type {\n",
       "        vertical-align: middle;\n",
       "    }\n",
       "\n",
       "    .dataframe tbody tr th {\n",
       "        vertical-align: top;\n",
       "    }\n",
       "\n",
       "    .dataframe thead th {\n",
       "        text-align: right;\n",
       "    }\n",
       "</style>\n",
       "<table border=\"1\" class=\"dataframe\">\n",
       "  <thead>\n",
       "    <tr style=\"text-align: right;\">\n",
       "      <th></th>\n",
       "      <th>Total Visits</th>\n",
       "      <th>Visits Reached Confirm</th>\n",
       "      <th>Percentage of Visits Reached Confirm</th>\n",
       "    </tr>\n",
       "  </thead>\n",
       "  <tbody>\n",
       "    <tr>\n",
       "      <th>0</th>\n",
       "      <td>37122</td>\n",
       "      <td>21707</td>\n",
       "      <td>58.47%</td>\n",
       "    </tr>\n",
       "  </tbody>\n",
       "</table>\n",
       "</div>"
      ],
      "text/plain": [
       "   Total Visits  Visits Reached Confirm Percentage of Visits Reached Confirm\n",
       "0         37122                   21707                               58.47%"
      ]
     },
     "execution_count": 35,
     "metadata": {},
     "output_type": "execute_result"
    }
   ],
   "source": [
    "# Filter data for 'Test' group and add Variation column immediately\n",
    "df_test = df_web[df_web['Variation'] == 'Test'].copy()\n",
    "df_test['Variation'] = 'Test'\n",
    "\n",
    "# Calculate for 'Test' group using 'visit_id'\n",
    "total_visits_test = df_test['visit_id'].nunique()\n",
    "confirm_visits_test = df_test[df_test['process_step'] == 'confirm']['visit_id'].nunique()\n",
    "\n",
    "completion_rate_test = pd.DataFrame({\n",
    "    'Total Visits': [total_visits_test],\n",
    "    'Visits Reached Confirm': [confirm_visits_test]\n",
    "})\n",
    "\n",
    "percentage_reached_confirm_test = (confirm_visits_test / total_visits_test) * 100\n",
    "completion_rate_test['Percentage of Visits Reached Confirm'] = [f'{percentage_reached_confirm_test:.2f}%']\n",
    "\n",
    "# Filter data for 'Control' group and add Variation column immediately\n",
    "df_control = df_web[df_web['Variation'] == 'Control'].copy()\n",
    "df_control['Variation'] = 'Control'\n",
    "\n",
    "# Calculate for 'Control' group using 'visit_id'\n",
    "total_visits_control = df_control['visit_id'].nunique()\n",
    "confirm_visits_control = df_control[df_control['process_step'] == 'confirm']['visit_id'].nunique()\n",
    "\n",
    "completion_rate_control = pd.DataFrame({\n",
    "    'Total Visits': [total_visits_control],\n",
    "    'Visits Reached Confirm': [confirm_visits_control]\n",
    "})\n",
    "\n",
    "percentage_reached_confirm_control = (confirm_visits_control / total_visits_control) * 100\n",
    "completion_rate_control['Percentage of Visits Reached Confirm'] = [f'{percentage_reached_confirm_control:.2f}%']\n",
    "\n",
    "completion_rate_test"
   ]
  },
  {
   "cell_type": "code",
   "execution_count": 123,
   "id": "533dd9e8-ae9b-4241-a550-a6e9c37c3542",
   "metadata": {},
   "outputs": [
    {
     "data": {
      "text/html": [
       "<div>\n",
       "<style scoped>\n",
       "    .dataframe tbody tr th:only-of-type {\n",
       "        vertical-align: middle;\n",
       "    }\n",
       "\n",
       "    .dataframe tbody tr th {\n",
       "        vertical-align: top;\n",
       "    }\n",
       "\n",
       "    .dataframe thead th {\n",
       "        text-align: right;\n",
       "    }\n",
       "</style>\n",
       "<table border=\"1\" class=\"dataframe\">\n",
       "  <thead>\n",
       "    <tr style=\"text-align: right;\">\n",
       "      <th></th>\n",
       "      <th>Total Visits</th>\n",
       "      <th>Visits Reached Confirm</th>\n",
       "      <th>Percentage of Visits Reached Confirm</th>\n",
       "    </tr>\n",
       "  </thead>\n",
       "  <tbody>\n",
       "    <tr>\n",
       "      <th>0</th>\n",
       "      <td>32181</td>\n",
       "      <td>15947</td>\n",
       "      <td>49.55%</td>\n",
       "    </tr>\n",
       "  </tbody>\n",
       "</table>\n",
       "</div>"
      ],
      "text/plain": [
       "   Total Visits  Visits Reached Confirm Percentage of Visits Reached Confirm\n",
       "0         32181                   15947                               49.55%"
      ]
     },
     "execution_count": 123,
     "metadata": {},
     "output_type": "execute_result"
    }
   ],
   "source": [
    "completion_rate_control"
   ]
  },
  {
   "cell_type": "code",
   "execution_count": 125,
   "id": "d2e52620-0236-47ee-af1d-e3b76c89ae36",
   "metadata": {},
   "outputs": [
    {
     "ename": "NameError",
     "evalue": "name 'completion_rate_combined' is not defined",
     "output_type": "error",
     "traceback": [
      "\u001b[0;31m---------------------------------------------------------------------------\u001b[0m",
      "\u001b[0;31mNameError\u001b[0m                                 Traceback (most recent call last)",
      "Cell \u001b[0;32mIn[125], line 1\u001b[0m\n\u001b[0;32m----> 1\u001b[0m completion_rate_combined\n",
      "\u001b[0;31mNameError\u001b[0m: name 'completion_rate_combined' is not defined"
     ]
    }
   ],
   "source": [
    "completion_rate_combined"
   ]
  },
  {
   "cell_type": "code",
   "execution_count": 36,
   "id": "851086c6-831a-4c02-ab2b-9adae83b9e2f",
   "metadata": {},
   "outputs": [
    {
     "name": "stdout",
     "output_type": "stream",
     "text": [
      "Test Completion Rate: 58.4748%\n",
      "Required Completion Rate for Cost-Effectiveness: 52.0318%\n",
      "Z-statistic: 23.5128\n",
      "P-value: 0.0000\n",
      "Reject the null hypothesis: Test group completion rate is significantly higher than Control group by at least 5%. The new UI is cost-effective.\n"
     ]
    }
   ],
   "source": [
    "import numpy as np\n",
    "from statsmodels.stats.proportion import proportions_ztest\n",
    "\n",
    "# Number of visits that completed the \"confirm\" step\n",
    "test_completed = completion_rate_test[\"Visits Reached Confirm\"].sum()\n",
    "control_completed = completion_rate_control[\"Visits Reached Confirm\"].sum()\n",
    "\n",
    "# Total number of visits in each group\n",
    "total_visits_test = completion_rate_test[\"Total Visits\"].sum()\n",
    "total_visits_control = completion_rate_control[\"Total Visits\"].sum()\n",
    "\n",
    "# Calculate proportions\n",
    "test_proportion = test_completed / total_visits_test\n",
    "control_proportion = control_completed / total_visits_control\n",
    "\n",
    "# Adjust control proportion by adding 5% threshold\n",
    "required_control_proportion = control_proportion * 1.05  # 5% increase\n",
    "\n",
    "# Run a one-tailed proportions z-test\n",
    "count = np.array([test_completed, control_completed])\n",
    "nobs = np.array([total_visits_test, total_visits_control])\n",
    "stat, p_value = proportions_ztest(count, nobs, alternative=\"larger\")  # One-tailed test\n",
    "\n",
    "# Display results\n",
    "print(f\"Test Completion Rate: {test_proportion:.4%}\")\n",
    "print(f\"Required Completion Rate for Cost-Effectiveness: {required_control_proportion:.4%}\")\n",
    "print(f\"Z-statistic: {stat:.4f}\")\n",
    "print(f\"P-value: {p_value:.4f}\")\n",
    "\n",
    "# Significance level\n",
    "alpha = 0.05\n",
    "if p_value < alpha and test_proportion >= required_control_proportion:\n",
    "    print(\"Reject the null hypothesis: Test group completion rate is significantly higher than Control group by at least 5%. The new UI is cost-effective.\")\n",
    "else:\n",
    "    print(\"Fail to reject the null hypothesis: Test group completion rate is not significantly higher than Control group by 5%. The new UI is not yet cost-effective.\")"
   ]
  },
  {
   "cell_type": "markdown",
   "id": "04d0d1c5-c0e7-48e2-a9cd-647d9d3c2fcc",
   "metadata": {
    "jp-MarkdownHeadingCollapsed": true
   },
   "source": [
    "## Time Spent on Each Step"
   ]
  },
  {
   "cell_type": "code",
   "execution_count": 38,
   "id": "327633dc-e280-4222-b3eb-dcde9eda893d",
   "metadata": {},
   "outputs": [
    {
     "data": {
      "text/html": [
       "<div>\n",
       "<style scoped>\n",
       "    .dataframe tbody tr th:only-of-type {\n",
       "        vertical-align: middle;\n",
       "    }\n",
       "\n",
       "    .dataframe tbody tr th {\n",
       "        vertical-align: top;\n",
       "    }\n",
       "\n",
       "    .dataframe thead th {\n",
       "        text-align: right;\n",
       "    }\n",
       "</style>\n",
       "<table border=\"1\" class=\"dataframe\">\n",
       "  <thead>\n",
       "    <tr style=\"text-align: right;\">\n",
       "      <th></th>\n",
       "      <th>visit_id</th>\n",
       "      <th>Variation</th>\n",
       "      <th>step_1</th>\n",
       "      <th>step_2</th>\n",
       "      <th>step_3</th>\n",
       "      <th>confirm</th>\n",
       "      <th>total_time</th>\n",
       "    </tr>\n",
       "  </thead>\n",
       "  <tbody>\n",
       "    <tr>\n",
       "      <th>0</th>\n",
       "      <td>100012776_37918976071_457913</td>\n",
       "      <td>Test</td>\n",
       "      <td>0.00</td>\n",
       "      <td>0.00</td>\n",
       "      <td>0.00</td>\n",
       "      <td>0.87</td>\n",
       "      <td>0.87</td>\n",
       "    </tr>\n",
       "    <tr>\n",
       "      <th>1</th>\n",
       "      <td>100019538_17884295066_43909</td>\n",
       "      <td>Test</td>\n",
       "      <td>0.68</td>\n",
       "      <td>0.22</td>\n",
       "      <td>1.88</td>\n",
       "      <td>0.95</td>\n",
       "      <td>3.73</td>\n",
       "    </tr>\n",
       "    <tr>\n",
       "      <th>2</th>\n",
       "      <td>100022086_87870757897_149620</td>\n",
       "      <td>Test</td>\n",
       "      <td>0.37</td>\n",
       "      <td>0.75</td>\n",
       "      <td>0.88</td>\n",
       "      <td>1.00</td>\n",
       "      <td>3.00</td>\n",
       "    </tr>\n",
       "    <tr>\n",
       "      <th>3</th>\n",
       "      <td>100030127_47967100085_936361</td>\n",
       "      <td>Control</td>\n",
       "      <td>0.00</td>\n",
       "      <td>0.00</td>\n",
       "      <td>0.00</td>\n",
       "      <td>0.00</td>\n",
       "      <td>0.00</td>\n",
       "    </tr>\n",
       "    <tr>\n",
       "      <th>4</th>\n",
       "      <td>100037962_47432393712_705583</td>\n",
       "      <td>Control</td>\n",
       "      <td>0.65</td>\n",
       "      <td>0.00</td>\n",
       "      <td>0.00</td>\n",
       "      <td>0.00</td>\n",
       "      <td>0.65</td>\n",
       "    </tr>\n",
       "    <tr>\n",
       "      <th>...</th>\n",
       "      <td>...</td>\n",
       "      <td>...</td>\n",
       "      <td>...</td>\n",
       "      <td>...</td>\n",
       "      <td>...</td>\n",
       "      <td>...</td>\n",
       "      <td>...</td>\n",
       "    </tr>\n",
       "    <tr>\n",
       "      <th>69298</th>\n",
       "      <td>999971096_28827267783_236076</td>\n",
       "      <td>Test</td>\n",
       "      <td>0.92</td>\n",
       "      <td>0.15</td>\n",
       "      <td>0.78</td>\n",
       "      <td>0.47</td>\n",
       "      <td>2.32</td>\n",
       "    </tr>\n",
       "    <tr>\n",
       "      <th>69299</th>\n",
       "      <td>999976049_95772503197_182554</td>\n",
       "      <td>Test</td>\n",
       "      <td>2.27</td>\n",
       "      <td>0.58</td>\n",
       "      <td>6.56</td>\n",
       "      <td>2.72</td>\n",
       "      <td>12.13</td>\n",
       "    </tr>\n",
       "    <tr>\n",
       "      <th>69300</th>\n",
       "      <td>999984454_18731538378_781808</td>\n",
       "      <td>Test</td>\n",
       "      <td>0.30</td>\n",
       "      <td>0.68</td>\n",
       "      <td>0.85</td>\n",
       "      <td>0.73</td>\n",
       "      <td>2.56</td>\n",
       "    </tr>\n",
       "    <tr>\n",
       "      <th>69301</th>\n",
       "      <td>999985675_64610694964_443659</td>\n",
       "      <td>Control</td>\n",
       "      <td>1.13</td>\n",
       "      <td>0.63</td>\n",
       "      <td>1.68</td>\n",
       "      <td>14.05</td>\n",
       "      <td>17.49</td>\n",
       "    </tr>\n",
       "    <tr>\n",
       "      <th>69302</th>\n",
       "      <td>999988789_76411676596_272843</td>\n",
       "      <td>Test</td>\n",
       "      <td>0.91</td>\n",
       "      <td>0.90</td>\n",
       "      <td>0.00</td>\n",
       "      <td>0.00</td>\n",
       "      <td>1.81</td>\n",
       "    </tr>\n",
       "  </tbody>\n",
       "</table>\n",
       "<p>69303 rows × 7 columns</p>\n",
       "</div>"
      ],
      "text/plain": [
       "                           visit_id Variation  step_1  step_2  step_3  \\\n",
       "0      100012776_37918976071_457913      Test    0.00    0.00    0.00   \n",
       "1       100019538_17884295066_43909      Test    0.68    0.22    1.88   \n",
       "2      100022086_87870757897_149620      Test    0.37    0.75    0.88   \n",
       "3      100030127_47967100085_936361   Control    0.00    0.00    0.00   \n",
       "4      100037962_47432393712_705583   Control    0.65    0.00    0.00   \n",
       "...                             ...       ...     ...     ...     ...   \n",
       "69298  999971096_28827267783_236076      Test    0.92    0.15    0.78   \n",
       "69299  999976049_95772503197_182554      Test    2.27    0.58    6.56   \n",
       "69300  999984454_18731538378_781808      Test    0.30    0.68    0.85   \n",
       "69301  999985675_64610694964_443659   Control    1.13    0.63    1.68   \n",
       "69302  999988789_76411676596_272843      Test    0.91    0.90    0.00   \n",
       "\n",
       "       confirm  total_time  \n",
       "0         0.87        0.87  \n",
       "1         0.95        3.73  \n",
       "2         1.00        3.00  \n",
       "3         0.00        0.00  \n",
       "4         0.00        0.65  \n",
       "...        ...         ...  \n",
       "69298     0.47        2.32  \n",
       "69299     2.72       12.13  \n",
       "69300     0.73        2.56  \n",
       "69301    14.05       17.49  \n",
       "69302     0.00        1.81  \n",
       "\n",
       "[69303 rows x 7 columns]"
      ]
     },
     "execution_count": 38,
     "metadata": {},
     "output_type": "execute_result"
    }
   ],
   "source": [
    "# Ensure that 'date_time' is in datetime format\n",
    "df_web['date_time'] = pd.to_datetime(df_web['date_time'])\n",
    "\n",
    "# Sort by visit_id and date_time\n",
    "df_web = df_web.sort_values(by=['visit_id', 'date_time'])\n",
    "\n",
    "# Group process steps into categories\n",
    "step_mapping = {\n",
    "    'start': 'start',  # Assuming 'start' is the initial category\n",
    "    'step_1': 'step_1',\n",
    "    'step_2': 'step_2',\n",
    "    'step_3': 'step_3',\n",
    "    'confirm': 'confirm'  # Adjust mappings as needed\n",
    "}\n",
    "\n",
    "# Apply the mapping to the 'process_step' column\n",
    "df_web['process_step'] = df_web['process_step'].map(step_mapping)\n",
    "\n",
    "# Calculate the time difference between consecutive rows (steps)\n",
    "df_web['time_diff'] = df_web.groupby(['visit_id'])['date_time'].diff()\n",
    "\n",
    "# Convert time difference to minutes\n",
    "df_web['time_diff_minutes'] = round(df_web['time_diff'].dt.total_seconds() / 60, 2)\n",
    "\n",
    "# Now, sum the time differences for each category ('process_step') by visit_id and variation\n",
    "time_summary = df_web.groupby(['visit_id', 'Variation', 'process_step'])['time_diff_minutes'].sum().reset_index()\n",
    "\n",
    "# Pivot to have process_step as columns and visit_id as index\n",
    "df_web_time_spent = time_summary.pivot_table(index='visit_id', columns='process_step', values='time_diff_minutes', aggfunc='sum')\n",
    "\n",
    "# Add Variation column back to the DataFrame\n",
    "df_web_time_spent = df_web_time_spent.reset_index()\n",
    "df_web_time_spent = df_web_time_spent.merge(df_web[['visit_id', 'Variation']].drop_duplicates(), on='visit_id', how='left')\n",
    "\n",
    "# Ensure the desired process steps are present and in the correct order\n",
    "df_web_time_spent = df_web_time_spent[['visit_id', 'Variation', 'step_1', 'step_2', 'step_3', 'confirm']]\n",
    "\n",
    "# Calculate the total time per visit_id\n",
    "df_web_time_spent['total_time'] = df_web_time_spent[['step_1', 'step_2', 'step_3', 'confirm']].sum(axis=1)\n",
    "\n",
    "# Fill any missing values with 0\n",
    "df_web_time_spent = df_web_time_spent.fillna(0)\n",
    "\n",
    "# Show the resulting DataFrame\n",
    "df_web_time_spent"
   ]
  },
  {
   "cell_type": "code",
   "execution_count": 39,
   "id": "485511ee-6864-4002-983e-9e02252e05c2",
   "metadata": {},
   "outputs": [
    {
     "data": {
      "text/html": [
       "<div>\n",
       "<style scoped>\n",
       "    .dataframe tbody tr th:only-of-type {\n",
       "        vertical-align: middle;\n",
       "    }\n",
       "\n",
       "    .dataframe tbody tr th {\n",
       "        vertical-align: top;\n",
       "    }\n",
       "\n",
       "    .dataframe thead th {\n",
       "        text-align: right;\n",
       "    }\n",
       "</style>\n",
       "<table border=\"1\" class=\"dataframe\">\n",
       "  <thead>\n",
       "    <tr style=\"text-align: right;\">\n",
       "      <th></th>\n",
       "      <th>Average Time</th>\n",
       "      <th>Variation</th>\n",
       "    </tr>\n",
       "  </thead>\n",
       "  <tbody>\n",
       "    <tr>\n",
       "      <th>step_1</th>\n",
       "      <td>0.651899</td>\n",
       "      <td>Test</td>\n",
       "    </tr>\n",
       "    <tr>\n",
       "      <th>step_2</th>\n",
       "      <td>0.667880</td>\n",
       "      <td>Test</td>\n",
       "    </tr>\n",
       "    <tr>\n",
       "      <th>step_3</th>\n",
       "      <td>1.117956</td>\n",
       "      <td>Test</td>\n",
       "    </tr>\n",
       "    <tr>\n",
       "      <th>confirm</th>\n",
       "      <td>1.296569</td>\n",
       "      <td>Test</td>\n",
       "    </tr>\n",
       "    <tr>\n",
       "      <th>step_1</th>\n",
       "      <td>0.656741</td>\n",
       "      <td>Control</td>\n",
       "    </tr>\n",
       "    <tr>\n",
       "      <th>step_2</th>\n",
       "      <td>0.518064</td>\n",
       "      <td>Control</td>\n",
       "    </tr>\n",
       "    <tr>\n",
       "      <th>step_3</th>\n",
       "      <td>1.093551</td>\n",
       "      <td>Control</td>\n",
       "    </tr>\n",
       "    <tr>\n",
       "      <th>confirm</th>\n",
       "      <td>1.121495</td>\n",
       "      <td>Control</td>\n",
       "    </tr>\n",
       "  </tbody>\n",
       "</table>\n",
       "</div>"
      ],
      "text/plain": [
       "         Average Time Variation\n",
       "step_1       0.651899      Test\n",
       "step_2       0.667880      Test\n",
       "step_3       1.117956      Test\n",
       "confirm      1.296569      Test\n",
       "step_1       0.656741   Control\n",
       "step_2       0.518064   Control\n",
       "step_3       1.093551   Control\n",
       "confirm      1.121495   Control"
      ]
     },
     "execution_count": 39,
     "metadata": {},
     "output_type": "execute_result"
    }
   ],
   "source": [
    "# Filter DataFrames for 'Test' and 'Control' groups\n",
    "df_test_time = df_web_time_spent[df_web_time_spent['Variation'] == 'Test']\n",
    "df_control_time = df_web_time_spent[df_web_time_spent['Variation'] == 'Control']\n",
    "\n",
    "# Calculate average time spent for 'Test' group\n",
    "average_time_per_step_test = df_test_time[['step_1', 'step_2', 'step_3', 'confirm']].mean()\n",
    "\n",
    "# Create a DataFrame for 'Test' group\n",
    "average_time_spent_test = pd.DataFrame({\n",
    "    'Average Time': average_time_per_step_test\n",
    "})\n",
    "average_time_spent_test['Variation'] = 'Test'\n",
    "\n",
    "# Calculate average time spent for 'Control' group\n",
    "average_time_per_step_control = df_control_time[['step_1', 'step_2', 'step_3', 'confirm']].mean()\n",
    "\n",
    "# Create a DataFrame for 'Control' group\n",
    "average_time_spent_control = pd.DataFrame({\n",
    "    'Average Time': average_time_per_step_control\n",
    "})\n",
    "average_time_spent_control['Variation'] = 'Control'\n",
    "\n",
    "# Combine both DataFramesdf_web_time_spent\n",
    "average_time_spent_combined = pd.concat([average_time_spent_test, average_time_spent_control])\n",
    "\n",
    "# Show the resulting DataFrame\n",
    "average_time_spent_combined"
   ]
  },
  {
   "cell_type": "markdown",
   "id": "2df2eeed-77e9-48e9-b4f6-8b5592d41c20",
   "metadata": {
    "jp-MarkdownHeadingCollapsed": true
   },
   "source": [
    "## Error Steps"
   ]
  },
  {
   "cell_type": "code",
   "execution_count": 41,
   "id": "e571e43c-e734-4be7-b979-e839df0841cc",
   "metadata": {},
   "outputs": [],
   "source": [
    "df_web = df_web.sort_values(by=['ClientID', 'visit_id', 'date_time'])"
   ]
  },
  {
   "cell_type": "code",
   "execution_count": 42,
   "id": "88bf14bc-2261-4fe3-8ca3-4d545703e7a2",
   "metadata": {},
   "outputs": [],
   "source": [
    "# Correct order of steps\n",
    "process_steps = ['start', 'step_1', 'step_2', 'step_3', 'confirm']\n",
    "\n",
    "# Create a dictionary to map each step to its index\n",
    "step_index = {step: i for i, step in enumerate(process_steps)}"
   ]
  },
  {
   "cell_type": "code",
   "execution_count": 43,
   "id": "74639089-7cf6-4984-ad2e-0aa7d3278650",
   "metadata": {},
   "outputs": [],
   "source": [
    "# Compare each step with the previous one for each client and visit\n",
    "df_web['prev_step'] = df_web.groupby(['ClientID', 'visit_id'])['process_step'].shift(1)\n",
    "\n",
    "# Flag backward steps (error: when the previous step index is greater than the current step index)\n",
    "df_web['error_flag'] = df_web.apply(\n",
    "    lambda x: step_index.get(x['process_step'], -1) < step_index.get(x['prev_step'], -1) \n",
    "    if pd.notnull(x['prev_step']) else False, axis=1\n",
    ")"
   ]
  },
  {
   "cell_type": "code",
   "execution_count": 44,
   "id": "5f0d2fbe-df68-4ab6-a06f-f98ca8a602c9",
   "metadata": {},
   "outputs": [],
   "source": [
    "test_exp = df_web[df_web['Variation'] == 'Test']\n",
    "con_exp = df_web[df_web['Variation'] == 'Control']"
   ]
  },
  {
   "cell_type": "code",
   "execution_count": 45,
   "id": "3641dc97-e9e8-488a-a473-88e69eb71677",
   "metadata": {},
   "outputs": [],
   "source": [
    "control_error_sum = con_exp.groupby('visit_id')['error_flag'].sum()"
   ]
  },
  {
   "cell_type": "code",
   "execution_count": 46,
   "id": "b517e51e-d2fa-4b9e-807a-12456a9884d8",
   "metadata": {},
   "outputs": [],
   "source": [
    "test_error_sum = test_exp.groupby('visit_id')['error_flag'].sum()"
   ]
  },
  {
   "cell_type": "code",
   "execution_count": 47,
   "id": "c979f7a8-061c-478e-847a-da6660de32de",
   "metadata": {},
   "outputs": [
    {
     "data": {
      "text/html": [
       "<div>\n",
       "<style scoped>\n",
       "    .dataframe tbody tr th:only-of-type {\n",
       "        vertical-align: middle;\n",
       "    }\n",
       "\n",
       "    .dataframe tbody tr th {\n",
       "        vertical-align: top;\n",
       "    }\n",
       "\n",
       "    .dataframe thead th {\n",
       "        text-align: right;\n",
       "    }\n",
       "</style>\n",
       "<table border=\"1\" class=\"dataframe\">\n",
       "  <thead>\n",
       "    <tr style=\"text-align: right;\">\n",
       "      <th></th>\n",
       "      <th></th>\n",
       "      <th>Variation</th>\n",
       "      <th>error_flag</th>\n",
       "    </tr>\n",
       "    <tr>\n",
       "      <th>ClientID</th>\n",
       "      <th>visit_id</th>\n",
       "      <th></th>\n",
       "      <th></th>\n",
       "    </tr>\n",
       "  </thead>\n",
       "  <tbody>\n",
       "    <tr>\n",
       "      <th>555</th>\n",
       "      <th>637149525_38041617439_716659</th>\n",
       "      <td>Test</td>\n",
       "      <td>0</td>\n",
       "    </tr>\n",
       "    <tr>\n",
       "      <th>647</th>\n",
       "      <th>40369564_40101682850_311847</th>\n",
       "      <td>Test</td>\n",
       "      <td>0</td>\n",
       "    </tr>\n",
       "    <tr>\n",
       "      <th>934</th>\n",
       "      <th>7076463_57954418406_971348</th>\n",
       "      <td>Test</td>\n",
       "      <td>0</td>\n",
       "    </tr>\n",
       "    <tr>\n",
       "      <th>1028</th>\n",
       "      <th>557292053_87239438319_391157</th>\n",
       "      <td>Control</td>\n",
       "      <td>2</td>\n",
       "    </tr>\n",
       "    <tr>\n",
       "      <th>1104</th>\n",
       "      <th>543158812_46395476577_767725</th>\n",
       "      <td>Control</td>\n",
       "      <td>0</td>\n",
       "    </tr>\n",
       "    <tr>\n",
       "      <th>...</th>\n",
       "      <th>...</th>\n",
       "      <td>...</td>\n",
       "      <td>...</td>\n",
       "    </tr>\n",
       "    <tr>\n",
       "      <th>9999626</th>\n",
       "      <th>182723364_27031318473_880901</th>\n",
       "      <td>Test</td>\n",
       "      <td>0</td>\n",
       "    </tr>\n",
       "    <tr>\n",
       "      <th rowspan=\"3\" valign=\"top\">9999729</th>\n",
       "      <th>493310979_9209676464_421146</th>\n",
       "      <td>Test</td>\n",
       "      <td>1</td>\n",
       "    </tr>\n",
       "    <tr>\n",
       "      <th>870243567_56915814033_814203</th>\n",
       "      <td>Test</td>\n",
       "      <td>0</td>\n",
       "    </tr>\n",
       "    <tr>\n",
       "      <th>99583652_41711450505_426179</th>\n",
       "      <td>Test</td>\n",
       "      <td>0</td>\n",
       "    </tr>\n",
       "    <tr>\n",
       "      <th>9999832</th>\n",
       "      <th>472154369_16714624241_585315</th>\n",
       "      <td>Test</td>\n",
       "      <td>0</td>\n",
       "    </tr>\n",
       "  </tbody>\n",
       "</table>\n",
       "<p>69425 rows × 2 columns</p>\n",
       "</div>"
      ],
      "text/plain": [
       "                                      Variation  error_flag\n",
       "ClientID visit_id                                          \n",
       "555      637149525_38041617439_716659      Test           0\n",
       "647      40369564_40101682850_311847       Test           0\n",
       "934      7076463_57954418406_971348        Test           0\n",
       "1028     557292053_87239438319_391157   Control           2\n",
       "1104     543158812_46395476577_767725   Control           0\n",
       "...                                         ...         ...\n",
       "9999626  182723364_27031318473_880901      Test           0\n",
       "9999729  493310979_9209676464_421146       Test           1\n",
       "         870243567_56915814033_814203      Test           0\n",
       "         99583652_41711450505_426179       Test           0\n",
       "9999832  472154369_16714624241_585315      Test           0\n",
       "\n",
       "[69425 rows x 2 columns]"
      ]
     },
     "execution_count": 47,
     "metadata": {},
     "output_type": "execute_result"
    }
   ],
   "source": [
    "# Group by 'ClientID' and 'Visit_ID' with 'Variation' and 'error_flag' as columns\n",
    "df_client_visit_errors = df_web.groupby(['ClientID', 'visit_id']).agg({\n",
    "    'Variation': 'first',  # Assuming we want the first occurrence of 'Variation' for each group\n",
    "    'error_flag': 'sum'    # Sum the 'error_flag' (this will give total errors per group)\n",
    "})\n",
    "\n",
    "# Show the result with multi-level index\n",
    "df_client_visit_errors"
   ]
  },
  {
   "cell_type": "code",
   "execution_count": 48,
   "id": "5010406e-d8a4-4a04-a43d-79910e8203d0",
   "metadata": {},
   "outputs": [],
   "source": [
    "# Count errors per process step for 'Test' group\n",
    "step_error_counts_test = (\n",
    "    df_web[df_web['Variation'] == 'Test']\n",
    "    .groupby('process_step', as_index=False)['error_flag']\n",
    "    .sum()\n",
    ")\n",
    "step_error_counts_test['Variation'] = 'Test'  # Add Variation column\n",
    "\n",
    "# Count errors per process step for 'Control' group\n",
    "step_error_counts_control = (\n",
    "    df_web[df_web['Variation'] == 'Control']\n",
    "    .groupby('process_step', as_index=False)['error_flag']\n",
    "    .sum()\n",
    ")\n",
    "step_error_counts_control['Variation'] = 'Control'  # Add Variation column\n",
    "\n",
    "# Combine both dataframes\n",
    "step_error_counts = pd.concat([step_error_counts_test, step_error_counts_control], ignore_index=True)"
   ]
  },
  {
   "cell_type": "code",
   "execution_count": 49,
   "id": "da979e2e-969e-4ecc-9b7f-758c1886e073",
   "metadata": {},
   "outputs": [
    {
     "data": {
      "text/html": [
       "<div>\n",
       "<style scoped>\n",
       "    .dataframe tbody tr th:only-of-type {\n",
       "        vertical-align: middle;\n",
       "    }\n",
       "\n",
       "    .dataframe tbody tr th {\n",
       "        vertical-align: top;\n",
       "    }\n",
       "\n",
       "    .dataframe thead th {\n",
       "        text-align: right;\n",
       "    }\n",
       "</style>\n",
       "<table border=\"1\" class=\"dataframe\">\n",
       "  <thead>\n",
       "    <tr style=\"text-align: right;\">\n",
       "      <th></th>\n",
       "      <th>process_step</th>\n",
       "      <th>error_flag</th>\n",
       "      <th>Variation</th>\n",
       "    </tr>\n",
       "  </thead>\n",
       "  <tbody>\n",
       "    <tr>\n",
       "      <th>0</th>\n",
       "      <td>confirm</td>\n",
       "      <td>0</td>\n",
       "      <td>Test</td>\n",
       "    </tr>\n",
       "    <tr>\n",
       "      <th>1</th>\n",
       "      <td>start</td>\n",
       "      <td>10510</td>\n",
       "      <td>Test</td>\n",
       "    </tr>\n",
       "    <tr>\n",
       "      <th>2</th>\n",
       "      <td>step_1</td>\n",
       "      <td>3364</td>\n",
       "      <td>Test</td>\n",
       "    </tr>\n",
       "    <tr>\n",
       "      <th>3</th>\n",
       "      <td>step_2</td>\n",
       "      <td>2249</td>\n",
       "      <td>Test</td>\n",
       "    </tr>\n",
       "    <tr>\n",
       "      <th>4</th>\n",
       "      <td>step_3</td>\n",
       "      <td>5</td>\n",
       "      <td>Test</td>\n",
       "    </tr>\n",
       "    <tr>\n",
       "      <th>5</th>\n",
       "      <td>confirm</td>\n",
       "      <td>0</td>\n",
       "      <td>Control</td>\n",
       "    </tr>\n",
       "    <tr>\n",
       "      <th>6</th>\n",
       "      <td>start</td>\n",
       "      <td>4808</td>\n",
       "      <td>Control</td>\n",
       "    </tr>\n",
       "    <tr>\n",
       "      <th>7</th>\n",
       "      <td>step_1</td>\n",
       "      <td>2296</td>\n",
       "      <td>Control</td>\n",
       "    </tr>\n",
       "    <tr>\n",
       "      <th>8</th>\n",
       "      <td>step_2</td>\n",
       "      <td>2301</td>\n",
       "      <td>Control</td>\n",
       "    </tr>\n",
       "    <tr>\n",
       "      <th>9</th>\n",
       "      <td>step_3</td>\n",
       "      <td>1</td>\n",
       "      <td>Control</td>\n",
       "    </tr>\n",
       "  </tbody>\n",
       "</table>\n",
       "</div>"
      ],
      "text/plain": [
       "  process_step  error_flag Variation\n",
       "0      confirm           0      Test\n",
       "1        start       10510      Test\n",
       "2       step_1        3364      Test\n",
       "3       step_2        2249      Test\n",
       "4       step_3           5      Test\n",
       "5      confirm           0   Control\n",
       "6        start        4808   Control\n",
       "7       step_1        2296   Control\n",
       "8       step_2        2301   Control\n",
       "9       step_3           1   Control"
      ]
     },
     "execution_count": 49,
     "metadata": {},
     "output_type": "execute_result"
    }
   ],
   "source": [
    "step_error_counts"
   ]
  },
  {
   "cell_type": "code",
   "execution_count": 50,
   "id": "27e74221-fd5c-4b11-8b0d-5cf460a1dafe",
   "metadata": {},
   "outputs": [
    {
     "data": {
      "text/html": [
       "<div>\n",
       "<style scoped>\n",
       "    .dataframe tbody tr th:only-of-type {\n",
       "        vertical-align: middle;\n",
       "    }\n",
       "\n",
       "    .dataframe tbody tr th {\n",
       "        vertical-align: top;\n",
       "    }\n",
       "\n",
       "    .dataframe thead th {\n",
       "        text-align: right;\n",
       "    }\n",
       "</style>\n",
       "<table border=\"1\" class=\"dataframe\">\n",
       "  <thead>\n",
       "    <tr style=\"text-align: right;\">\n",
       "      <th></th>\n",
       "      <th>process_step</th>\n",
       "      <th>error_flag</th>\n",
       "      <th>Variation</th>\n",
       "    </tr>\n",
       "  </thead>\n",
       "  <tbody>\n",
       "    <tr>\n",
       "      <th>0</th>\n",
       "      <td>confirm</td>\n",
       "      <td>0</td>\n",
       "      <td>Test</td>\n",
       "    </tr>\n",
       "    <tr>\n",
       "      <th>1</th>\n",
       "      <td>start</td>\n",
       "      <td>10510</td>\n",
       "      <td>Test</td>\n",
       "    </tr>\n",
       "    <tr>\n",
       "      <th>2</th>\n",
       "      <td>step_1</td>\n",
       "      <td>3364</td>\n",
       "      <td>Test</td>\n",
       "    </tr>\n",
       "    <tr>\n",
       "      <th>3</th>\n",
       "      <td>step_2</td>\n",
       "      <td>2249</td>\n",
       "      <td>Test</td>\n",
       "    </tr>\n",
       "    <tr>\n",
       "      <th>4</th>\n",
       "      <td>step_3</td>\n",
       "      <td>5</td>\n",
       "      <td>Test</td>\n",
       "    </tr>\n",
       "    <tr>\n",
       "      <th>5</th>\n",
       "      <td>confirm</td>\n",
       "      <td>0</td>\n",
       "      <td>Control</td>\n",
       "    </tr>\n",
       "    <tr>\n",
       "      <th>6</th>\n",
       "      <td>start</td>\n",
       "      <td>4808</td>\n",
       "      <td>Control</td>\n",
       "    </tr>\n",
       "    <tr>\n",
       "      <th>7</th>\n",
       "      <td>step_1</td>\n",
       "      <td>2296</td>\n",
       "      <td>Control</td>\n",
       "    </tr>\n",
       "    <tr>\n",
       "      <th>8</th>\n",
       "      <td>step_2</td>\n",
       "      <td>2301</td>\n",
       "      <td>Control</td>\n",
       "    </tr>\n",
       "    <tr>\n",
       "      <th>9</th>\n",
       "      <td>step_3</td>\n",
       "      <td>1</td>\n",
       "      <td>Control</td>\n",
       "    </tr>\n",
       "  </tbody>\n",
       "</table>\n",
       "</div>"
      ],
      "text/plain": [
       "  process_step  error_flag Variation\n",
       "0      confirm           0      Test\n",
       "1        start       10510      Test\n",
       "2       step_1        3364      Test\n",
       "3       step_2        2249      Test\n",
       "4       step_3           5      Test\n",
       "5      confirm           0   Control\n",
       "6        start        4808   Control\n",
       "7       step_1        2296   Control\n",
       "8       step_2        2301   Control\n",
       "9       step_3           1   Control"
      ]
     },
     "execution_count": 50,
     "metadata": {},
     "output_type": "execute_result"
    }
   ],
   "source": [
    "step_error_counts"
   ]
  },
  {
   "cell_type": "code",
   "execution_count": 51,
   "id": "8ad3876f-c0ef-404b-a2cc-c23a162efed3",
   "metadata": {},
   "outputs": [],
   "source": [
    "H0: 'Test group has no significant difference in error rate than control group'\n",
    "H1: 'The test group has significantly more errors than the control group.'"
   ]
  },
  {
   "cell_type": "code",
   "execution_count": 52,
   "id": "919570d9-24f2-43fd-a353-dc69de43da66",
   "metadata": {},
   "outputs": [
    {
     "name": "stdout",
     "output_type": "stream",
     "text": [
      "T-statistic: 0.63095589018385, P-value: 0.27639026167621394\n",
      "Fail to reject the null hypothesis\n"
     ]
    }
   ],
   "source": [
    "test_errors = step_error_counts[step_error_counts[\"Variation\"] == \"Test\"][\"error_flag\"]\n",
    "control_errors = step_error_counts[step_error_counts[\"Variation\"] == \"Control\"][\"error_flag\"]\n",
    "\n",
    "t_stat, p_value = st.ttest_ind(test_errors, control_errors, alternative='greater', equal_var=False)\n",
    "\n",
    "print(f\"T-statistic: {t_stat}, P-value: {p_value}\")\n",
    "\n",
    "# Set significance threshold\n",
    "alpha = 0.05\n",
    "\n",
    "# Interpret the result\n",
    "if p_value < alpha:\n",
    "    print(\"Reject the null hypothesis\")\n",
    "else:\n",
    "    print(\"Fail to reject the null hypothesis\")"
   ]
  },
  {
   "cell_type": "code",
   "execution_count": null,
   "id": "0e246d59-2a7f-4e8f-9640-0394f8c19c63",
   "metadata": {},
   "outputs": [],
   "source": []
  },
  {
   "cell_type": "markdown",
   "id": "f61965a7-1254-4bed-bb54-970f6159f0e4",
   "metadata": {
    "jp-MarkdownHeadingCollapsed": true
   },
   "source": [
    "## Completion Rate with a Cost-Effectiveness Threshold"
   ]
  },
  {
   "cell_type": "code",
   "execution_count": 54,
   "id": "9fe0725c-a04c-4c93-bedf-817f851c6bda",
   "metadata": {},
   "outputs": [
    {
     "data": {
      "text/html": [
       "<div>\n",
       "<style scoped>\n",
       "    .dataframe tbody tr th:only-of-type {\n",
       "        vertical-align: middle;\n",
       "    }\n",
       "\n",
       "    .dataframe tbody tr th {\n",
       "        vertical-align: top;\n",
       "    }\n",
       "\n",
       "    .dataframe thead th {\n",
       "        text-align: right;\n",
       "    }\n",
       "</style>\n",
       "<table border=\"1\" class=\"dataframe\">\n",
       "  <thead>\n",
       "    <tr style=\"text-align: right;\">\n",
       "      <th></th>\n",
       "      <th>Total Visits</th>\n",
       "      <th>Visits Reached Confirm</th>\n",
       "      <th>Percentage of Visits Reached Confirm</th>\n",
       "    </tr>\n",
       "  </thead>\n",
       "  <tbody>\n",
       "    <tr>\n",
       "      <th>0</th>\n",
       "      <td>37122</td>\n",
       "      <td>21707</td>\n",
       "      <td>58.47%</td>\n",
       "    </tr>\n",
       "  </tbody>\n",
       "</table>\n",
       "</div>"
      ],
      "text/plain": [
       "   Total Visits  Visits Reached Confirm Percentage of Visits Reached Confirm\n",
       "0         37122                   21707                               58.47%"
      ]
     },
     "execution_count": 54,
     "metadata": {},
     "output_type": "execute_result"
    }
   ],
   "source": [
    "# Filter data for 'Test' group and add Variation column immediately\n",
    "df_test = df_web[df_web['Variation'] == 'Test'].copy()\n",
    "df_test['Variation'] = 'Test'\n",
    "\n",
    "# Calculate for 'Test' group using 'visit_id'\n",
    "total_visits_test = df_test['visit_id'].nunique()\n",
    "confirm_visits_test = df_test[df_test['process_step'] == 'confirm']['visit_id'].nunique()\n",
    "\n",
    "completion_rate_test = pd.DataFrame({\n",
    "    'Total Visits': [total_visits_test],\n",
    "    'Visits Reached Confirm': [confirm_visits_test]\n",
    "})\n",
    "\n",
    "percentage_reached_confirm_test = (confirm_visits_test / total_visits_test) * 100\n",
    "completion_rate_test['Percentage of Visits Reached Confirm'] = [f'{percentage_reached_confirm_test:.2f}%']\n",
    "\n",
    "# Filter data for 'Control' group and add Variation column immediately\n",
    "df_control = df_web[df_web['Variation'] == 'Control'].copy()\n",
    "df_control['Variation'] = 'Control'\n",
    "\n",
    "# Calculate for 'Control' group using 'visit_id'\n",
    "total_visits_control = df_control['visit_id'].nunique()\n",
    "confirm_visits_control = df_control[df_control['process_step'] == 'confirm']['visit_id'].nunique()\n",
    "\n",
    "completion_rate_control = pd.DataFrame({\n",
    "    'Total Visits': [total_visits_control],\n",
    "    'Visits Reached Confirm': [confirm_visits_control]\n",
    "})\n",
    "\n",
    "percentage_reached_confirm_control = (confirm_visits_control / total_visits_control) * 100\n",
    "completion_rate_control['Percentage of Visits Reached Confirm'] = [f'{percentage_reached_confirm_control:.2f}%']\n",
    "\n",
    "completion_rate_test"
   ]
  },
  {
   "cell_type": "code",
   "execution_count": 55,
   "id": "c362adac-c11c-450b-acb4-11b887117cc8",
   "metadata": {},
   "outputs": [
    {
     "data": {
      "text/html": [
       "<div>\n",
       "<style scoped>\n",
       "    .dataframe tbody tr th:only-of-type {\n",
       "        vertical-align: middle;\n",
       "    }\n",
       "\n",
       "    .dataframe tbody tr th {\n",
       "        vertical-align: top;\n",
       "    }\n",
       "\n",
       "    .dataframe thead th {\n",
       "        text-align: right;\n",
       "    }\n",
       "</style>\n",
       "<table border=\"1\" class=\"dataframe\">\n",
       "  <thead>\n",
       "    <tr style=\"text-align: right;\">\n",
       "      <th></th>\n",
       "      <th>Total Visits</th>\n",
       "      <th>Visits Reached Confirm</th>\n",
       "      <th>Percentage of Visits Reached Confirm</th>\n",
       "    </tr>\n",
       "  </thead>\n",
       "  <tbody>\n",
       "    <tr>\n",
       "      <th>0</th>\n",
       "      <td>32181</td>\n",
       "      <td>15947</td>\n",
       "      <td>49.55%</td>\n",
       "    </tr>\n",
       "  </tbody>\n",
       "</table>\n",
       "</div>"
      ],
      "text/plain": [
       "   Total Visits  Visits Reached Confirm Percentage of Visits Reached Confirm\n",
       "0         32181                   15947                               49.55%"
      ]
     },
     "execution_count": 55,
     "metadata": {},
     "output_type": "execute_result"
    }
   ],
   "source": [
    "completion_rate_control"
   ]
  },
  {
   "cell_type": "code",
   "execution_count": 56,
   "id": "5e801907-85ce-4185-a56f-9699008af19d",
   "metadata": {},
   "outputs": [
    {
     "name": "stdout",
     "output_type": "stream",
     "text": [
      "Test Completion Rate: 58.4748%\n",
      "Required Completion Rate for Cost-Effectiveness: 52.0318%\n",
      "Z-statistic: 23.5128\n",
      "P-value: 0.0000\n",
      "Reject the null hypothesis: Test group completion rate is significantly higher than Control group by at least 5%. The new UI is cost-effective.\n"
     ]
    }
   ],
   "source": [
    "import numpy as np\n",
    "from statsmodels.stats.proportion import proportions_ztest\n",
    "\n",
    "# Number of visits that completed the \"confirm\" step\n",
    "test_completed = completion_rate_test[\"Visits Reached Confirm\"].sum()\n",
    "control_completed = completion_rate_control[\"Visits Reached Confirm\"].sum()\n",
    "\n",
    "# Total number of visits in each group\n",
    "total_visits_test = completion_rate_test[\"Total Visits\"].sum()\n",
    "total_visits_control = completion_rate_control[\"Total Visits\"].sum()\n",
    "\n",
    "# Calculate proportions\n",
    "test_proportion = test_completed / total_visits_test\n",
    "control_proportion = control_completed / total_visits_control\n",
    "\n",
    "# Adjust control proportion by adding 5% threshold\n",
    "required_control_proportion = control_proportion * 1.05  # 5% increase\n",
    "\n",
    "# Run a one-tailed proportions z-test\n",
    "count = np.array([test_completed, control_completed])\n",
    "nobs = np.array([total_visits_test, total_visits_control])\n",
    "stat, p_value = proportions_ztest(count, nobs, alternative=\"larger\")  # One-tailed test\n",
    "\n",
    "# Display results\n",
    "print(f\"Test Completion Rate: {test_proportion:.4%}\")\n",
    "print(f\"Required Completion Rate for Cost-Effectiveness: {required_control_proportion:.4%}\")\n",
    "print(f\"Z-statistic: {stat:.4f}\")\n",
    "print(f\"P-value: {p_value:.4f}\")\n",
    "\n",
    "# Significance level\n",
    "alpha = 0.05\n",
    "if p_value < alpha and test_proportion >= required_control_proportion:\n",
    "    print(\"Reject the null hypothesis: Test group completion rate is significantly higher than Control group by at least 5%. The new UI is cost-effective.\")\n",
    "else:\n",
    "    print(\"Fail to reject the null hypothesis: Test group completion rate is not significantly higher than Control group by 5%. The new UI is not yet cost-effective.\")"
   ]
  },
  {
   "cell_type": "markdown",
   "id": "2c2adaaa-9674-4250-a342-26fcfb2fbf18",
   "metadata": {
    "jp-MarkdownHeadingCollapsed": true
   },
   "source": [
    "## Average Number of Sessions per User → How many sessions it takes to complete"
   ]
  },
  {
   "cell_type": "code",
   "execution_count": 58,
   "id": "fe6878eb-df16-460e-8af1-3a6df6063f22",
   "metadata": {},
   "outputs": [
    {
     "name": "stdout",
     "output_type": "stream",
     "text": [
      "Average Sessions for Test Group: 4.771779537740423\n",
      "Average Sessions for Control Group: 4.378142382150958\n",
      "\n",
      "T-statistic: 18.30073918624012, P-value: 1.2272775174357588e-74\n",
      "Reject H₀: There is a significant difference in the average number of sessions between Test and Control groups.\n"
     ]
    }
   ],
   "source": [
    "import pandas as pd\n",
    "from scipy import stats\n",
    "\n",
    "# Hypothesis\n",
    "# H₀: The average number of sessions required to complete the process step is the same for both the Test and Control groups.\n",
    "# H₁: The average number of sessions required to complete the process step is different between the Test and Control groups.\n",
    "\n",
    "# Step 1: Identify the first and last process steps (we will assume 'start' is the first step and 'confirm' is the last step)\n",
    "# Filter the data based on visit_id to get the number of sessions per visit\n",
    "sessions_per_visit = df_web[df_web['process_step'] == 'confirm'][['visit_id', 'Variation']]\n",
    "\n",
    "# Step 2: Calculate the number of sessions required for each visit (based on the visit_id)\n",
    "# A visit to a process step means that visit_id appears in the process step sequence.\n",
    "# So, we will count the unique number of sessions each visit_id participated in to complete the process\n",
    "sessions_count = df_web.groupby('visit_id').size().reset_index(name='num_sessions')\n",
    "\n",
    "# Step 3: Merge the sessions count with the Variation column for comparison\n",
    "sessions_count = sessions_count.merge(df_web[['visit_id', 'Variation']].drop_duplicates(), on='visit_id', how='left')\n",
    "\n",
    "# Step 4: Separate the data into Test and Control groups based on Variation\n",
    "test_group_sessions = sessions_count[sessions_count['Variation'] == 'Test']\n",
    "control_group_sessions = sessions_count[sessions_count['Variation'] == 'Control']\n",
    "\n",
    "# Step 5: Calculate the average number of sessions for each group\n",
    "avg_sessions_test = test_group_sessions['num_sessions'].mean()\n",
    "avg_sessions_control = control_group_sessions['num_sessions'].mean()\n",
    "\n",
    "# Print the average sessions for each group\n",
    "print(f\"Average Sessions for Test Group: {avg_sessions_test}\")\n",
    "print(f\"Average Sessions for Control Group: {avg_sessions_control}\")\n",
    "\n",
    "# Step 6: Perform t-test to compare the average number of sessions between Test and Control groups\n",
    "t_stat, p_value = stats.ttest_ind(\n",
    "    test_group_sessions['num_sessions'],\n",
    "    control_group_sessions['num_sessions'],\n",
    "    equal_var=False  # Assuming unequal variance between groups\n",
    ")\n",
    "\n",
    "print(f\"\\nT-statistic: {t_stat}, P-value: {p_value}\")\n",
    "\n",
    "# Step 7: Decision based on p-value (typically, if p < 0.05, reject H₀)\n",
    "if p_value < 0.05:\n",
    "    print(\"Reject H₀: There is a significant difference in the average number of sessions between Test and Control groups.\")\n",
    "else:\n",
    "    print(\"Fail to reject H₀: No significant difference in the average number of sessions between Test and Control groups.\")\n"
   ]
  },
  {
   "cell_type": "code",
   "execution_count": 59,
   "id": "fd446751-bc75-424c-8f1b-c48471abffa3",
   "metadata": {},
   "outputs": [
    {
     "name": "stdout",
     "output_type": "stream",
     "text": [
      "Average sessions for Control group: 1.3701861769956645\n",
      "Average sessions for Test group: 1.379399873891918\n",
      "T-statistic: -1.255050535340125\n",
      "P-value: 0.2094662248388474\n",
      "Fail to reject the null hypothesis: There is no significant difference in the number of sessions.\n"
     ]
    }
   ],
   "source": [
    "# Hypothesis about the number of sessions required to complete a process step\n",
    "\n",
    "from scipy import stats\n",
    "\n",
    "# H₀: The average number of sessions required to complete the process step is the same for both Control and Test groups.\n",
    "# H₁: The average number of sessions required to complete the process step is different between Control and Test groups.\n",
    "\n",
    "# Step 1: Group by 'Variation' and 'ClientID' to count unique visit_ids (sessions) for each user\n",
    "sessions_by_user = df_web.groupby(['Variation', 'ClientID'])['visit_id'].nunique()\n",
    "\n",
    "# Step 2: Separate the sessions by 'Control' and 'Test' groups\n",
    "sessions_control = sessions_by_user['Control']\n",
    "sessions_test = sessions_by_user['Test']\n",
    "\n",
    "# Step 3: Calculate the average number of sessions for each group\n",
    "avg_sessions_control = sessions_control.mean()\n",
    "avg_sessions_test = sessions_test.mean()\n",
    "\n",
    "print(f'Average sessions for Control group: {avg_sessions_control}')\n",
    "print(f'Average sessions for Test group: {avg_sessions_test}')\n",
    "\n",
    "# Step 4: Perform an independent t-test to compare the two groups\n",
    "t_stat, p_value = stats.ttest_ind(sessions_control, sessions_test)\n",
    "\n",
    "print(f'T-statistic: {t_stat}')\n",
    "print(f'P-value: {p_value}')\n",
    "\n",
    "# Step 5: Interpret the result\n",
    "alpha = 0.05  # significance level\n",
    "if p_value < alpha:\n",
    "    print(\"Reject the null hypothesis: There is a significant difference in the number of sessions.\")\n",
    "else:\n",
    "    print(\"Fail to reject the null hypothesis: There is no significant difference in the number of sessions.\")"
   ]
  },
  {
   "cell_type": "code",
   "execution_count": 60,
   "id": "95491432-e85d-4fda-9084-4fb5f942fd4f",
   "metadata": {},
   "outputs": [
    {
     "name": "stdout",
     "output_type": "stream",
     "text": [
      "Average number of sessions per user: 1.375106463049894\n"
     ]
    }
   ],
   "source": [
    "# \n",
    "# Group by ClientID and count unique visit_ids (sessions per user)\n",
    "session_counts = df_web.groupby('ClientID')['visit_id'].nunique()\n",
    "\n",
    "# Calculate the average number of sessions\n",
    "avg_sessions_per_user = session_counts.mean()\n",
    "print(f'Average number of sessions per user: {avg_sessions_per_user}')"
   ]
  },
  {
   "cell_type": "code",
   "execution_count": 61,
   "id": "36d7d852-92b5-4e88-a525-f489461bc1b7",
   "metadata": {},
   "outputs": [
    {
     "name": "stdout",
     "output_type": "stream",
     "text": [
      "Average sessions per user by Variation: 34651.5\n"
     ]
    }
   ],
   "source": [
    "# Example: Average sessions for users based on 'Variation'\n",
    "avg_sessions_by_variation = df_web.groupby('Variation')['visit_id'].nunique().mean()\n",
    "print(f'Average sessions per user by Variation: {avg_sessions_by_variation}')"
   ]
  },
  {
   "cell_type": "code",
   "execution_count": 62,
   "id": "01d86f37-8df4-41ee-baef-c8284e711f0f",
   "metadata": {},
   "outputs": [
    {
     "name": "stdout",
     "output_type": "stream",
     "text": [
      "Variation\n",
      "Control    32181.0\n",
      "Test       37122.0\n",
      "Name: visit_id, dtype: float64\n"
     ]
    }
   ],
   "source": [
    "# Group by 'Variation' and 'ClientID', and count the unique 'visit_id' (sessions per user)\n",
    "sessions_per_user_by_variation = df_web.groupby(['Variation'])['visit_id'].nunique()\n",
    "\n",
    "# Now calculate the average number of sessions per user for each variation group (Test, Control)\n",
    "avg_sessions_by_variation = sessions_per_user_by_variation.groupby('Variation').mean()\n",
    "\n",
    "# Display the result\n",
    "print(avg_sessions_by_variation)"
   ]
  },
  {
   "cell_type": "markdown",
   "id": "b067e153-5769-4a22-a7c3-e59f8c5e882f",
   "metadata": {
    "jp-MarkdownHeadingCollapsed": true
   },
   "source": [
    "## **Additional KPIs to Consider: User Engagement & Drop-off Metrics**\n",
    "\t•\tDrop-off Rate per Step → % of users who abandon the test at each phase\n",
    "\t•\tBounce Rate (First Step Exit Rate) → % of users who leave after the first step"
   ]
  },
  {
   "cell_type": "markdown",
   "id": "4c843109-4855-4f57-bd22-645d3603d82f",
   "metadata": {},
   "source": [
    "##### ***Drop-off Rate per Step → % of users who abandon the test at each phase***"
   ]
  },
  {
   "cell_type": "code",
   "execution_count": 65,
   "id": "e454d0e6-f0f9-4a78-abba-40d097f0c1dd",
   "metadata": {},
   "outputs": [
    {
     "name": "stdout",
     "output_type": "stream",
     "text": [
      "Overall Bounce Rate: 20.877838436585172%\n",
      "\n",
      "Bounce Rate by Variation (Test vs Control):\n",
      "Variation\n",
      "Control    26.562466\n",
      "Test       16.252623\n",
      "Name: bounce_flag, dtype: float64\n",
      "\n",
      "T-statistic: -39.70641366766876, P-value: 0.0\n",
      "Reject H₀: There is a significant difference in the bounce rate between Test and Control groups.\n"
     ]
    }
   ],
   "source": [
    "#By VISIT_ID\n",
    "import pandas as pd\n",
    "from scipy import stats\n",
    "\n",
    "# Step 1: Filter visits that started the process (i.e., at 'start')\n",
    "start_visits = df_web[df_web['process_step'] == 'start']\n",
    "\n",
    "# Step 2: Identify visits that did not proceed to 'step_1' (these are the bounces)\n",
    "bounced_visits = start_visits[~start_visits['visit_id'].isin(df_web[df_web['process_step'] == 'step_1']['visit_id'])]\n",
    "\n",
    "# Step 3: Create a column that flags visits which bounced (1 if bounced, 0 if they proceeded to the next step)\n",
    "start_visits['bounce_flag'] = start_visits['visit_id'].isin(bounced_visits['visit_id']).astype(int)\n",
    "\n",
    "# Step 4: Calculate bounce rate overall for all visits\n",
    "overall_bounce_rate = start_visits['bounce_flag'].mean() * 100\n",
    "\n",
    "# Step 5: Calculate bounce rate by Variation (Test vs Control)\n",
    "bounce_rate_by_variation = start_visits.groupby('Variation')['bounce_flag'].mean() * 100\n",
    "\n",
    "# Print the overall bounce rate and the bounce rate by Variation (Test and Control)\n",
    "print(f\"Overall Bounce Rate: {overall_bounce_rate}%\")\n",
    "print(\"\\nBounce Rate by Variation (Test vs Control):\")\n",
    "print(bounce_rate_by_variation)\n",
    "\n",
    "# Hypothesis\n",
    "# H₀: The bounce rate is the same for both the Test and Control groups when measured by visit_id.\n",
    "# H₁: The bounce rate is different between the Test and Control groups when measured by visit_id.\n",
    "\n",
    "# Step 6: Perform t-test to compare bounce rates between the Test and Control groups\n",
    "test_group_bounce = start_visits[start_visits['Variation'] == 'Test']\n",
    "control_group_bounce = start_visits[start_visits['Variation'] == 'Control']\n",
    "\n",
    "# Perform t-test between the two groups based on bounce_flag (1 = bounced, 0 = proceeded)\n",
    "t_stat, p_value = stats.ttest_ind(\n",
    "    test_group_bounce['bounce_flag'],\n",
    "    control_group_bounce['bounce_flag'],\n",
    "    equal_var=False  # Assuming unequal variance between groups\n",
    ")\n",
    "\n",
    "print(f\"\\nT-statistic: {t_stat}, P-value: {p_value}\")\n",
    "\n",
    "# Step 7: Decision based on p-value (typically, if p < 0.05, reject H₀)\n",
    "if p_value < 0.05:\n",
    "    print(\"Reject H₀: There is a significant difference in the bounce rate between Test and Control groups.\")\n",
    "else:\n",
    "    print(\"Fail to reject H₀: No significant difference in the bounce rate between Test and Control groups.\")\n"
   ]
  },
  {
   "cell_type": "code",
   "execution_count": 66,
   "id": "dba9fdeb-02c4-48d2-877a-ade603c80596",
   "metadata": {},
   "outputs": [
    {
     "name": "stdout",
     "output_type": "stream",
     "text": [
      "\n",
      "Process Step: start\n",
      "T-statistic: -11.501683426004023, P-value: 1.3568946969326905e-30\n",
      "Reject H₀: There is a significant difference in the drop-off rate at step 'start' between Test and Control groups.\n",
      "\n",
      "Process Step: step_1\n",
      "T-statistic: -17.619532212934722, P-value: 2.734831755852001e-69\n",
      "Reject H₀: There is a significant difference in the drop-off rate at step 'step_1' between Test and Control groups.\n",
      "\n",
      "Process Step: step_2\n",
      "T-statistic: -7.823159756748126, P-value: 5.253593885920745e-15\n",
      "Reject H₀: There is a significant difference in the drop-off rate at step 'step_2' between Test and Control groups.\n",
      "\n",
      "Process Step: step_3\n",
      "T-statistic: -9.554264916504986, P-value: 1.306932487224417e-21\n",
      "Reject H₀: There is a significant difference in the drop-off rate at step 'step_3' between Test and Control groups.\n",
      "\n",
      "Process Step: confirm\n",
      "T-statistic: -20.043907223530045, P-value: 6.302372984914511e-89\n",
      "Reject H₀: There is a significant difference in the drop-off rate at step 'confirm' between Test and Control groups.\n"
     ]
    }
   ],
   "source": [
    "# By Client ID\n",
    "import pandas as pd\n",
    "from scipy import stats\n",
    "\n",
    "# Sort the dataframe by 'ClientID' and 'date_time' to ensure the order of steps\n",
    "df_web_sorted = df_web.sort_values(by=['ClientID', 'date_time'])\n",
    "\n",
    "# Identify the next process_step for each user (shift(-1) to get the next step)\n",
    "df_web_sorted['next_step'] = df_web_sorted.groupby('ClientID')['process_step'].shift(-1)\n",
    "\n",
    "# Determine if the user dropped off at the current step (True if next_step is NaN, i.e., no further steps)\n",
    "df_web_sorted['drop_off'] = df_web_sorted['next_step'].isna()\n",
    "\n",
    "# Calculate drop-off rate per step (percentage of users who abandon the process at each step)\n",
    "drop_off_per_step = df_web_sorted.groupby('process_step')['drop_off'].mean() * 100\n",
    "\n",
    "# Calculate drop-off rate by Variation (Test vs. Control) and process_step\n",
    "drop_off_by_variation = df_web_sorted.groupby(['Variation', 'process_step'])['drop_off'].mean() * 100\n",
    "\n",
    "# Hypotheis\n",
    "# H₀: The drop-off rate per step is the same for both the Test and Control groups\n",
    "# H₁: The drop-off rate per step is different between the Test and Control groups\n",
    "\n",
    "# Perform t-test for drop-off rates at each step for Test vs. Control groups\n",
    "for step in ['start', 'step_1', 'step_2', 'step_3', 'confirm']:\n",
    "    test_group_dropoff = df_web_sorted[(df_web_sorted['Variation'] == 'Test') & (df_web_sorted['process_step'] == step)]['drop_off']\n",
    "    control_group_dropoff = df_web_sorted[(df_web_sorted['Variation'] == 'Control') & (df_web_sorted['process_step'] == step)]['drop_off']\n",
    "    \n",
    "    # Perform t-test between Test and Control for the current process_step\n",
    "    t_stat, p_value = stats.ttest_ind(test_group_dropoff, control_group_dropoff, equal_var=False)\n",
    "    \n",
    "    print(f\"\\nProcess Step: {step}\")\n",
    "    print(f\"T-statistic: {t_stat}, P-value: {p_value}\")\n",
    "    \n",
    "    # Decision based on p-value (typically, if p < 0.05, reject H₀)\n",
    "    if p_value < 0.05:\n",
    "        print(f\"Reject H₀: There is a significant difference in the drop-off rate at step '{step}' between Test and Control groups.\")\n",
    "    else:\n",
    "        print(f\"Fail to reject H₀: No significant difference in drop-off rate at step '{step}' between Test and Control groups.\")\n"
   ]
  },
  {
   "cell_type": "markdown",
   "id": "5deef610-f47b-4b95-bc7c-22675fd2a956",
   "metadata": {},
   "source": [
    "Interpretation:\n",
    "If the p-value is less than 0.05, you reject the null hypothesis and conclude there is a statistically significant difference in drop-off rates between the Test and Control groups.\n",
    "If the p-value is greater than or equal to 0.05, you fail to reject the null hypothesis, indicating no significant difference in drop-off rates between the two groups."
   ]
  },
  {
   "cell_type": "markdown",
   "id": "42b89e2e-feb4-4f7e-9669-c86bc8c198ab",
   "metadata": {},
   "source": [
    "##### ***Bounce Rate (First Step Exit Rate) → users who leave after the first step***"
   ]
  },
  {
   "cell_type": "code",
   "execution_count": 69,
   "id": "5c616d47-837d-4428-b0c6-5a2bd5311851",
   "metadata": {},
   "outputs": [
    {
     "name": "stdout",
     "output_type": "stream",
     "text": [
      "Overall Bounce Rate: 20.877838436585172%\n",
      "\n",
      "Bounce Rate by Variation (Test vs Control):\n",
      "Variation\n",
      "Control    26.562466\n",
      "Test       16.252623\n",
      "Name: bounce_flag, dtype: float64\n",
      "\n",
      "T-statistic: -39.70641366766876, P-value: 0.0\n",
      "Reject H₀: There is a significant difference in the bounce rate between Test and Control groups.\n"
     ]
    }
   ],
   "source": [
    "import pandas as pd\n",
    "from scipy import stats\n",
    "\n",
    "#Bounce Detection: A visit is considered a bounce if it starts (process_step == 'start') but does not proceed to step_1.\n",
    "\n",
    "# Step 1: Filter visits that started the process (i.e., at 'start')\n",
    "start_visits = df_web[df_web['process_step'] == 'start']\n",
    "\n",
    "# Step 2: Identify visits that did not proceed to 'step_1' (these are the bounces)\n",
    "bounced_visits = start_visits[~start_visits['visit_id'].isin(df_web[df_web['process_step'] == 'step_1']['visit_id'])]\n",
    "\n",
    "# Step 3: Create a column that flags visits which bounced (1 if bounced, 0 if they proceeded to the next step)\n",
    "start_visits['bounce_flag'] = start_visits['visit_id'].isin(bounced_visits['visit_id']).astype(int)\n",
    "\n",
    "# Step 4: Calculate bounce rate overall for all visits\n",
    "overall_bounce_rate = start_visits['bounce_flag'].mean() * 100\n",
    "\n",
    "# Step 5: Calculate bounce rate by Variation (Test vs Control)\n",
    "bounce_rate_by_variation = start_visits.groupby('Variation')['bounce_flag'].mean() * 100\n",
    "\n",
    "# Print the overall bounce rate and the bounce rate by Variation (Test and Control)\n",
    "print(f\"Overall Bounce Rate: {overall_bounce_rate}%\")\n",
    "print(\"\\nBounce Rate by Variation (Test vs Control):\")\n",
    "print(bounce_rate_by_variation)\n",
    "\n",
    "# Hypothesis \n",
    "# H₀: The bounce rate (first step exit rate) is the same for both the Test and Control groups, when measured by visit (visit_id).\n",
    "# H₁: The bounce rate (first step exit rate) is different between the Test and Control groups, when measured by visit (visit_id).\n",
    "\n",
    "# Step 6: Perform t-test to compare bounce rates between the Test and Control groups\n",
    "test_group_bounce = start_visits[start_visits['Variation'] == 'Test']\n",
    "control_group_bounce = start_visits[start_visits['Variation'] == 'Control']\n",
    "\n",
    "# Perform t-test between the two groups based on bounce_flag (1 = bounced, 0 = proceeded)\n",
    "t_stat, p_value = stats.ttest_ind(\n",
    "    test_group_bounce['bounce_flag'],\n",
    "    control_group_bounce['bounce_flag'],\n",
    "    equal_var=False  # Assuming unequal variance between groups\n",
    ")\n",
    "\n",
    "print(f\"\\nT-statistic: {t_stat}, P-value: {p_value}\")\n",
    "\n",
    "# Step 7: Decision based on p-value (typically, if p < 0.05, reject H₀)\n",
    "if p_value < 0.05:\n",
    "    print(\"Reject H₀: There is a significant difference in the bounce rate between Test and Control groups.\")\n",
    "else:\n",
    "    print(\"Fail to reject H₀: No significant difference in the bounce rate between Test and Control groups.\")"
   ]
  },
  {
   "cell_type": "markdown",
   "id": "e02ce460-e671-4fc2-8d1d-fccf2853d40c",
   "metadata": {},
   "source": [
    "Interpretation:\n",
    "If the p-value is less than 0.05, you reject the null hypothesis and conclude that there is a significant difference in bounce rates between the Test and Control groups.\n",
    "If the p-value is greater than or equal to 0.05, you fail to reject the null hypothesis, meaning no significant difference in bounce rates between the two groups."
   ]
  }
 ],
 "metadata": {
  "kernelspec": {
   "display_name": "Python [conda env:base] *",
   "language": "python",
   "name": "conda-base-py"
  },
  "language_info": {
   "codemirror_mode": {
    "name": "ipython",
    "version": 3
   },
   "file_extension": ".py",
   "mimetype": "text/x-python",
   "name": "python",
   "nbconvert_exporter": "python",
   "pygments_lexer": "ipython3",
   "version": "3.12.7"
  }
 },
 "nbformat": 4,
 "nbformat_minor": 5
}
