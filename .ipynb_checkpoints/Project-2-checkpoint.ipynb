{
 "cells": [
  {
   "cell_type": "markdown",
   "id": "a095df7d-128a-44ee-abab-d78438bc9f0d",
   "metadata": {},
   "source": [
    "# KPI's"
   ]
  },
  {
   "cell_type": "raw",
   "id": "706824cb-d153-4113-946c-ce17a77e42e3",
   "metadata": {},
   "source": [
    "Core KPIs (Already Mentioned)\n",
    "\t•\tCompletion Rate → % of users who finished the final stage.\n",
    "\t•\tTime Spent per Step → Avg. time spent in each phase.\n",
    "\t•\tError Rate → % of users who encountered errors.\n",
    "\n",
    "Additional KPIs to Consider\n",
    "\n",
    "A. User Engagement & Drop-off Metrics\n",
    "\t•\tDrop-off Rate per Step → % of users who abandon the test at each phase.\n",
    "\t•\tBounce Rate (First Step Exit Rate) → % of users who leave after the first step.\n",
    "\n",
    "C. Behavioral Insights\n",
    "\t•\tAverage Number of Sessions per User → How many sessions it takes to complete.\n",
    "\t•\tUser Hesitation Time → Time between actions (indicating confusion).\n",
    "\t•\tAbandonment Reasons (if logged) → Why users leave (error, confusion, timeout)."
   ]
  },
  {
   "cell_type": "markdown",
   "id": "b1f95974-2a2a-4b2a-b00b-1a996acda8b8",
   "metadata": {},
   "source": [
    "# Initialize + Clean"
   ]
  },
  {
   "cell_type": "code",
   "execution_count": 936,
   "id": "1d5d95b0-df8a-4983-aa92-daf9a912cc58",
   "metadata": {},
   "outputs": [],
   "source": [
    "import pandas as pd\n",
    "import matplotlib.pyplot as plt\n",
    "import seaborn as sns\n",
    "import numpy as np"
   ]
  },
  {
   "cell_type": "code",
   "execution_count": 938,
   "id": "da1bcea5-3a55-4b19-9e3a-35c891ab7208",
   "metadata": {},
   "outputs": [],
   "source": [
    "final_demo = 'Data assets/df_final_demo.txt'\n",
    "experiments_clients = 'Data assets/df_final_experiment_clients.txt'\n",
    "web_1 = 'Data assets/df_final_web_data_pt_1.txt'\n",
    "web_2 = 'Data assets/df_final_web_data_pt_2.txt'\n",
    "\n",
    "# Read the text files into DataFrames\n",
    "df_final = pd.read_csv(final_demo)\n",
    "df_experiments = pd.read_csv(experiments_clients)\n",
    "df_web_1 = pd.read_csv(web_1)\n",
    "df_web_2 = pd.read_csv(web_2)\n",
    "\n",
    "# Combine the DataFrames into one (if needed)\n",
    "df_web = pd.concat([df_web_1, df_web_2], axis=0)"
   ]
  },
  {
   "cell_type": "code",
   "execution_count": 939,
   "id": "4b804edd-c437-4748-9663-77d87402010c",
   "metadata": {},
   "outputs": [],
   "source": [
    "df_final['gendr'] = df_final['gendr'].replace({'X': 'U'})\n",
    "df_final['gendr'] = df_final['gendr'].fillna('U')"
   ]
  },
  {
   "cell_type": "code",
   "execution_count": 940,
   "id": "30e0e906-e7c3-49ce-990b-d13e99849836",
   "metadata": {},
   "outputs": [
    {
     "data": {
      "text/html": [
       "<div>\n",
       "<style scoped>\n",
       "    .dataframe tbody tr th:only-of-type {\n",
       "        vertical-align: middle;\n",
       "    }\n",
       "\n",
       "    .dataframe tbody tr th {\n",
       "        vertical-align: top;\n",
       "    }\n",
       "\n",
       "    .dataframe thead th {\n",
       "        text-align: right;\n",
       "    }\n",
       "</style>\n",
       "<table border=\"1\" class=\"dataframe\">\n",
       "  <thead>\n",
       "    <tr style=\"text-align: right;\">\n",
       "      <th></th>\n",
       "      <th>client_id</th>\n",
       "      <th>visitor_id</th>\n",
       "      <th>visit_id</th>\n",
       "      <th>process_step</th>\n",
       "      <th>date_time</th>\n",
       "    </tr>\n",
       "  </thead>\n",
       "  <tbody>\n",
       "    <tr>\n",
       "      <th>0</th>\n",
       "      <td>9988021</td>\n",
       "      <td>580560515_7732621733</td>\n",
       "      <td>781255054_21935453173_531117</td>\n",
       "      <td>step_3</td>\n",
       "      <td>2017-04-17 15:27:07</td>\n",
       "    </tr>\n",
       "    <tr>\n",
       "      <th>1</th>\n",
       "      <td>9988021</td>\n",
       "      <td>580560515_7732621733</td>\n",
       "      <td>781255054_21935453173_531117</td>\n",
       "      <td>step_2</td>\n",
       "      <td>2017-04-17 15:26:51</td>\n",
       "    </tr>\n",
       "    <tr>\n",
       "      <th>2</th>\n",
       "      <td>9988021</td>\n",
       "      <td>580560515_7732621733</td>\n",
       "      <td>781255054_21935453173_531117</td>\n",
       "      <td>step_3</td>\n",
       "      <td>2017-04-17 15:19:22</td>\n",
       "    </tr>\n",
       "    <tr>\n",
       "      <th>3</th>\n",
       "      <td>9988021</td>\n",
       "      <td>580560515_7732621733</td>\n",
       "      <td>781255054_21935453173_531117</td>\n",
       "      <td>step_2</td>\n",
       "      <td>2017-04-17 15:19:13</td>\n",
       "    </tr>\n",
       "    <tr>\n",
       "      <th>4</th>\n",
       "      <td>9988021</td>\n",
       "      <td>580560515_7732621733</td>\n",
       "      <td>781255054_21935453173_531117</td>\n",
       "      <td>step_3</td>\n",
       "      <td>2017-04-17 15:18:04</td>\n",
       "    </tr>\n",
       "    <tr>\n",
       "      <th>...</th>\n",
       "      <td>...</td>\n",
       "      <td>...</td>\n",
       "      <td>...</td>\n",
       "      <td>...</td>\n",
       "      <td>...</td>\n",
       "    </tr>\n",
       "    <tr>\n",
       "      <th>755400</th>\n",
       "      <td>9668240</td>\n",
       "      <td>388766751_9038881013</td>\n",
       "      <td>922267647_3096648104_968866</td>\n",
       "      <td>start</td>\n",
       "      <td>2017-05-24 18:46:10</td>\n",
       "    </tr>\n",
       "    <tr>\n",
       "      <th>755401</th>\n",
       "      <td>9668240</td>\n",
       "      <td>388766751_9038881013</td>\n",
       "      <td>922267647_3096648104_968866</td>\n",
       "      <td>start</td>\n",
       "      <td>2017-05-24 18:45:29</td>\n",
       "    </tr>\n",
       "    <tr>\n",
       "      <th>755402</th>\n",
       "      <td>9668240</td>\n",
       "      <td>388766751_9038881013</td>\n",
       "      <td>922267647_3096648104_968866</td>\n",
       "      <td>step_1</td>\n",
       "      <td>2017-05-24 18:44:51</td>\n",
       "    </tr>\n",
       "    <tr>\n",
       "      <th>755403</th>\n",
       "      <td>9668240</td>\n",
       "      <td>388766751_9038881013</td>\n",
       "      <td>922267647_3096648104_968866</td>\n",
       "      <td>start</td>\n",
       "      <td>2017-05-24 18:44:34</td>\n",
       "    </tr>\n",
       "    <tr>\n",
       "      <th>755404</th>\n",
       "      <td>674799</td>\n",
       "      <td>947159805_81558194550</td>\n",
       "      <td>86152093_47511127657_716022</td>\n",
       "      <td>start</td>\n",
       "      <td>2017-06-03 12:17:09</td>\n",
       "    </tr>\n",
       "  </tbody>\n",
       "</table>\n",
       "<p>755405 rows × 5 columns</p>\n",
       "</div>"
      ],
      "text/plain": [
       "        client_id             visitor_id                      visit_id  \\\n",
       "0         9988021   580560515_7732621733  781255054_21935453173_531117   \n",
       "1         9988021   580560515_7732621733  781255054_21935453173_531117   \n",
       "2         9988021   580560515_7732621733  781255054_21935453173_531117   \n",
       "3         9988021   580560515_7732621733  781255054_21935453173_531117   \n",
       "4         9988021   580560515_7732621733  781255054_21935453173_531117   \n",
       "...           ...                    ...                           ...   \n",
       "755400    9668240   388766751_9038881013   922267647_3096648104_968866   \n",
       "755401    9668240   388766751_9038881013   922267647_3096648104_968866   \n",
       "755402    9668240   388766751_9038881013   922267647_3096648104_968866   \n",
       "755403    9668240   388766751_9038881013   922267647_3096648104_968866   \n",
       "755404     674799  947159805_81558194550   86152093_47511127657_716022   \n",
       "\n",
       "       process_step            date_time  \n",
       "0            step_3  2017-04-17 15:27:07  \n",
       "1            step_2  2017-04-17 15:26:51  \n",
       "2            step_3  2017-04-17 15:19:22  \n",
       "3            step_2  2017-04-17 15:19:13  \n",
       "4            step_3  2017-04-17 15:18:04  \n",
       "...             ...                  ...  \n",
       "755400        start  2017-05-24 18:46:10  \n",
       "755401        start  2017-05-24 18:45:29  \n",
       "755402       step_1  2017-05-24 18:44:51  \n",
       "755403        start  2017-05-24 18:44:34  \n",
       "755404        start  2017-06-03 12:17:09  \n",
       "\n",
       "[755405 rows x 5 columns]"
      ]
     },
     "execution_count": 940,
     "metadata": {},
     "output_type": "execute_result"
    }
   ],
   "source": [
    "df_combined = pd.merge(df_final, df_experiments, on= 'client_id').reset_index(drop = True)\n",
    "df_combined.dropna(subset=['Variation'], inplace = True)\n",
    "df_web.reset_index(drop=True)"
   ]
  },
  {
   "cell_type": "code",
   "execution_count": 941,
   "id": "e039e850-dab5-4314-bb4f-09a2eec49e10",
   "metadata": {},
   "outputs": [],
   "source": [
    "df_combined.rename(columns={\n",
    "                            'client_id': 'ClientID',\n",
    "                            'clnt_tenure_yr': 'Tenure(Y)',\n",
    "                            'clnt_tenure_mnth': 'Tenure(M)',\n",
    "                            'clnt_age': 'Age',\n",
    "                            'gendr': 'Gender',\n",
    "                            'num_accts': 'Accounts(#)',\n",
    "                            'bal': 'Balance',\n",
    "                            'calls_6_mnth': 'Calls',\n",
    "                            'logons_6_mnth': 'Logins',\n",
    "                            'Variation': 'Variation'\n",
    "                        }, inplace=True)"
   ]
  },
  {
   "cell_type": "code",
   "execution_count": 942,
   "id": "f9203ef5-d3f8-4d5a-91ed-eb34a963deb1",
   "metadata": {},
   "outputs": [
    {
     "name": "stdout",
     "output_type": "stream",
     "text": [
      "ClientID        0\n",
      "Tenure(Y)      12\n",
      "Tenure(M)      12\n",
      "Age            13\n",
      "Gender          0\n",
      "Accounts(#)    12\n",
      "Balance        12\n",
      "Calls          12\n",
      "Logins         12\n",
      "Variation       0\n",
      "dtype: int64\n"
     ]
    }
   ],
   "source": [
    "print(df_combined.isna().sum())"
   ]
  },
  {
   "cell_type": "code",
   "execution_count": 943,
   "id": "c569fbc6-1b17-40d3-982d-23b075ca7576",
   "metadata": {},
   "outputs": [],
   "source": [
    "df_combined = df_combined.dropna()"
   ]
  },
  {
   "cell_type": "code",
   "execution_count": 944,
   "id": "b88001bc-7d1f-4deb-bd62-16453a482abc",
   "metadata": {},
   "outputs": [],
   "source": [
    "# Convert columns to integers\n",
    "df_combined['Tenure(Y)'] = df_combined['Tenure(Y)'].astype(int)\n",
    "df_combined['Tenure(M)'] = df_combined['Tenure(M)'].astype(int)\n",
    "df_combined['Accounts(#)'] = df_combined['Accounts(#)'].astype(int)\n",
    "df_combined['Calls'] = df_combined['Calls'].astype(int)\n",
    "df_combined['Logins'] = df_combined['Logins'].astype(int)\n",
    "\n",
    "# Convert Age to int and round down\n",
    "df_combined['Age'] = np.floor(df_combined['Age']).astype(int)"
   ]
  },
  {
   "cell_type": "code",
   "execution_count": 945,
   "id": "d4bfb0c7-44a9-4bb0-b0ae-629022b166c5",
   "metadata": {},
   "outputs": [
    {
     "data": {
      "text/html": [
       "<div>\n",
       "<style scoped>\n",
       "    .dataframe tbody tr th:only-of-type {\n",
       "        vertical-align: middle;\n",
       "    }\n",
       "\n",
       "    .dataframe tbody tr th {\n",
       "        vertical-align: top;\n",
       "    }\n",
       "\n",
       "    .dataframe thead th {\n",
       "        text-align: right;\n",
       "    }\n",
       "</style>\n",
       "<table border=\"1\" class=\"dataframe\">\n",
       "  <thead>\n",
       "    <tr style=\"text-align: right;\">\n",
       "      <th></th>\n",
       "      <th>ClientID</th>\n",
       "      <th>Tenure(Y)</th>\n",
       "      <th>Tenure(M)</th>\n",
       "      <th>Age</th>\n",
       "      <th>Gender</th>\n",
       "      <th>Accounts(#)</th>\n",
       "      <th>Balance</th>\n",
       "      <th>Calls</th>\n",
       "      <th>Logins</th>\n",
       "      <th>Variation</th>\n",
       "    </tr>\n",
       "  </thead>\n",
       "  <tbody>\n",
       "    <tr>\n",
       "      <th>0</th>\n",
       "      <td>836976</td>\n",
       "      <td>6</td>\n",
       "      <td>73</td>\n",
       "      <td>60</td>\n",
       "      <td>U</td>\n",
       "      <td>2</td>\n",
       "      <td>45105.30</td>\n",
       "      <td>6</td>\n",
       "      <td>9</td>\n",
       "      <td>Test</td>\n",
       "    </tr>\n",
       "    <tr>\n",
       "      <th>1</th>\n",
       "      <td>2304905</td>\n",
       "      <td>7</td>\n",
       "      <td>94</td>\n",
       "      <td>58</td>\n",
       "      <td>U</td>\n",
       "      <td>2</td>\n",
       "      <td>110860.30</td>\n",
       "      <td>6</td>\n",
       "      <td>9</td>\n",
       "      <td>Control</td>\n",
       "    </tr>\n",
       "    <tr>\n",
       "      <th>2</th>\n",
       "      <td>1439522</td>\n",
       "      <td>5</td>\n",
       "      <td>64</td>\n",
       "      <td>32</td>\n",
       "      <td>U</td>\n",
       "      <td>2</td>\n",
       "      <td>52467.79</td>\n",
       "      <td>6</td>\n",
       "      <td>9</td>\n",
       "      <td>Test</td>\n",
       "    </tr>\n",
       "    <tr>\n",
       "      <th>3</th>\n",
       "      <td>1562045</td>\n",
       "      <td>16</td>\n",
       "      <td>198</td>\n",
       "      <td>49</td>\n",
       "      <td>M</td>\n",
       "      <td>2</td>\n",
       "      <td>67454.65</td>\n",
       "      <td>3</td>\n",
       "      <td>6</td>\n",
       "      <td>Test</td>\n",
       "    </tr>\n",
       "    <tr>\n",
       "      <th>4</th>\n",
       "      <td>5126305</td>\n",
       "      <td>12</td>\n",
       "      <td>145</td>\n",
       "      <td>33</td>\n",
       "      <td>F</td>\n",
       "      <td>2</td>\n",
       "      <td>103671.75</td>\n",
       "      <td>0</td>\n",
       "      <td>3</td>\n",
       "      <td>Control</td>\n",
       "    </tr>\n",
       "    <tr>\n",
       "      <th>...</th>\n",
       "      <td>...</td>\n",
       "      <td>...</td>\n",
       "      <td>...</td>\n",
       "      <td>...</td>\n",
       "      <td>...</td>\n",
       "      <td>...</td>\n",
       "      <td>...</td>\n",
       "      <td>...</td>\n",
       "      <td>...</td>\n",
       "      <td>...</td>\n",
       "    </tr>\n",
       "    <tr>\n",
       "      <th>50495</th>\n",
       "      <td>1780858</td>\n",
       "      <td>21</td>\n",
       "      <td>262</td>\n",
       "      <td>68</td>\n",
       "      <td>M</td>\n",
       "      <td>3</td>\n",
       "      <td>372100.59</td>\n",
       "      <td>6</td>\n",
       "      <td>9</td>\n",
       "      <td>Test</td>\n",
       "    </tr>\n",
       "    <tr>\n",
       "      <th>50496</th>\n",
       "      <td>6967120</td>\n",
       "      <td>21</td>\n",
       "      <td>260</td>\n",
       "      <td>68</td>\n",
       "      <td>M</td>\n",
       "      <td>3</td>\n",
       "      <td>4279873.38</td>\n",
       "      <td>6</td>\n",
       "      <td>9</td>\n",
       "      <td>Control</td>\n",
       "    </tr>\n",
       "    <tr>\n",
       "      <th>50497</th>\n",
       "      <td>5826160</td>\n",
       "      <td>20</td>\n",
       "      <td>249</td>\n",
       "      <td>56</td>\n",
       "      <td>F</td>\n",
       "      <td>2</td>\n",
       "      <td>44837.16</td>\n",
       "      <td>2</td>\n",
       "      <td>5</td>\n",
       "      <td>Test</td>\n",
       "    </tr>\n",
       "    <tr>\n",
       "      <th>50498</th>\n",
       "      <td>8739285</td>\n",
       "      <td>19</td>\n",
       "      <td>229</td>\n",
       "      <td>69</td>\n",
       "      <td>F</td>\n",
       "      <td>2</td>\n",
       "      <td>44994.24</td>\n",
       "      <td>1</td>\n",
       "      <td>4</td>\n",
       "      <td>Test</td>\n",
       "    </tr>\n",
       "    <tr>\n",
       "      <th>50499</th>\n",
       "      <td>7468138</td>\n",
       "      <td>18</td>\n",
       "      <td>222</td>\n",
       "      <td>61</td>\n",
       "      <td>F</td>\n",
       "      <td>3</td>\n",
       "      <td>209278.15</td>\n",
       "      <td>0</td>\n",
       "      <td>3</td>\n",
       "      <td>Test</td>\n",
       "    </tr>\n",
       "  </tbody>\n",
       "</table>\n",
       "<p>50487 rows × 10 columns</p>\n",
       "</div>"
      ],
      "text/plain": [
       "       ClientID  Tenure(Y)  Tenure(M)  Age Gender  Accounts(#)     Balance  \\\n",
       "0        836976          6         73   60      U            2    45105.30   \n",
       "1       2304905          7         94   58      U            2   110860.30   \n",
       "2       1439522          5         64   32      U            2    52467.79   \n",
       "3       1562045         16        198   49      M            2    67454.65   \n",
       "4       5126305         12        145   33      F            2   103671.75   \n",
       "...         ...        ...        ...  ...    ...          ...         ...   \n",
       "50495   1780858         21        262   68      M            3   372100.59   \n",
       "50496   6967120         21        260   68      M            3  4279873.38   \n",
       "50497   5826160         20        249   56      F            2    44837.16   \n",
       "50498   8739285         19        229   69      F            2    44994.24   \n",
       "50499   7468138         18        222   61      F            3   209278.15   \n",
       "\n",
       "       Calls  Logins Variation  \n",
       "0          6       9      Test  \n",
       "1          6       9   Control  \n",
       "2          6       9      Test  \n",
       "3          3       6      Test  \n",
       "4          0       3   Control  \n",
       "...      ...     ...       ...  \n",
       "50495      6       9      Test  \n",
       "50496      6       9   Control  \n",
       "50497      2       5      Test  \n",
       "50498      1       4      Test  \n",
       "50499      0       3      Test  \n",
       "\n",
       "[50487 rows x 10 columns]"
      ]
     },
     "execution_count": 945,
     "metadata": {},
     "output_type": "execute_result"
    }
   ],
   "source": [
    "df_combined"
   ]
  },
  {
   "cell_type": "code",
   "execution_count": 946,
   "id": "0f9fceca-5aee-49a6-91f7-ec3edb38e52d",
   "metadata": {},
   "outputs": [],
   "source": [
    "df_web.rename(columns={\n",
    "                        'client_id': 'ClientID',\n",
    "                        'visitor_id': 'visitor_id',\n",
    "                        'visit_id': 'visit_id',\n",
    "                        'process_step': 'process_step',\n",
    "                        'date_time': 'date_time',\n",
    "                    }, inplace=True)"
   ]
  },
  {
   "cell_type": "code",
   "execution_count": 951,
   "id": "e76ccb75-6492-4eb6-94e5-274d976b5e14",
   "metadata": {},
   "outputs": [
    {
     "data": {
      "text/html": [
       "<div>\n",
       "<style scoped>\n",
       "    .dataframe tbody tr th:only-of-type {\n",
       "        vertical-align: middle;\n",
       "    }\n",
       "\n",
       "    .dataframe tbody tr th {\n",
       "        vertical-align: top;\n",
       "    }\n",
       "\n",
       "    .dataframe thead th {\n",
       "        text-align: right;\n",
       "    }\n",
       "</style>\n",
       "<table border=\"1\" class=\"dataframe\">\n",
       "  <thead>\n",
       "    <tr style=\"text-align: right;\">\n",
       "      <th></th>\n",
       "      <th>ClientID</th>\n",
       "      <th>visitor_id</th>\n",
       "      <th>visit_id</th>\n",
       "      <th>process_step</th>\n",
       "      <th>date_time</th>\n",
       "    </tr>\n",
       "  </thead>\n",
       "  <tbody>\n",
       "    <tr>\n",
       "      <th>0</th>\n",
       "      <td>9988021</td>\n",
       "      <td>580560515_7732621733</td>\n",
       "      <td>781255054_21935453173_531117</td>\n",
       "      <td>step_3</td>\n",
       "      <td>2017-04-17 15:27:07</td>\n",
       "    </tr>\n",
       "    <tr>\n",
       "      <th>1</th>\n",
       "      <td>9988021</td>\n",
       "      <td>580560515_7732621733</td>\n",
       "      <td>781255054_21935453173_531117</td>\n",
       "      <td>step_2</td>\n",
       "      <td>2017-04-17 15:26:51</td>\n",
       "    </tr>\n",
       "    <tr>\n",
       "      <th>2</th>\n",
       "      <td>9988021</td>\n",
       "      <td>580560515_7732621733</td>\n",
       "      <td>781255054_21935453173_531117</td>\n",
       "      <td>step_3</td>\n",
       "      <td>2017-04-17 15:19:22</td>\n",
       "    </tr>\n",
       "    <tr>\n",
       "      <th>3</th>\n",
       "      <td>9988021</td>\n",
       "      <td>580560515_7732621733</td>\n",
       "      <td>781255054_21935453173_531117</td>\n",
       "      <td>step_2</td>\n",
       "      <td>2017-04-17 15:19:13</td>\n",
       "    </tr>\n",
       "    <tr>\n",
       "      <th>4</th>\n",
       "      <td>9988021</td>\n",
       "      <td>580560515_7732621733</td>\n",
       "      <td>781255054_21935453173_531117</td>\n",
       "      <td>step_3</td>\n",
       "      <td>2017-04-17 15:18:04</td>\n",
       "    </tr>\n",
       "    <tr>\n",
       "      <th>...</th>\n",
       "      <td>...</td>\n",
       "      <td>...</td>\n",
       "      <td>...</td>\n",
       "      <td>...</td>\n",
       "      <td>...</td>\n",
       "    </tr>\n",
       "    <tr>\n",
       "      <th>412259</th>\n",
       "      <td>9668240</td>\n",
       "      <td>388766751_9038881013</td>\n",
       "      <td>922267647_3096648104_968866</td>\n",
       "      <td>start</td>\n",
       "      <td>2017-05-24 18:46:10</td>\n",
       "    </tr>\n",
       "    <tr>\n",
       "      <th>412260</th>\n",
       "      <td>9668240</td>\n",
       "      <td>388766751_9038881013</td>\n",
       "      <td>922267647_3096648104_968866</td>\n",
       "      <td>start</td>\n",
       "      <td>2017-05-24 18:45:29</td>\n",
       "    </tr>\n",
       "    <tr>\n",
       "      <th>412261</th>\n",
       "      <td>9668240</td>\n",
       "      <td>388766751_9038881013</td>\n",
       "      <td>922267647_3096648104_968866</td>\n",
       "      <td>step_1</td>\n",
       "      <td>2017-05-24 18:44:51</td>\n",
       "    </tr>\n",
       "    <tr>\n",
       "      <th>412262</th>\n",
       "      <td>9668240</td>\n",
       "      <td>388766751_9038881013</td>\n",
       "      <td>922267647_3096648104_968866</td>\n",
       "      <td>start</td>\n",
       "      <td>2017-05-24 18:44:34</td>\n",
       "    </tr>\n",
       "    <tr>\n",
       "      <th>412263</th>\n",
       "      <td>674799</td>\n",
       "      <td>947159805_81558194550</td>\n",
       "      <td>86152093_47511127657_716022</td>\n",
       "      <td>start</td>\n",
       "      <td>2017-06-03 12:17:09</td>\n",
       "    </tr>\n",
       "  </tbody>\n",
       "</table>\n",
       "<p>755405 rows × 5 columns</p>\n",
       "</div>"
      ],
      "text/plain": [
       "        ClientID             visitor_id                      visit_id  \\\n",
       "0        9988021   580560515_7732621733  781255054_21935453173_531117   \n",
       "1        9988021   580560515_7732621733  781255054_21935453173_531117   \n",
       "2        9988021   580560515_7732621733  781255054_21935453173_531117   \n",
       "3        9988021   580560515_7732621733  781255054_21935453173_531117   \n",
       "4        9988021   580560515_7732621733  781255054_21935453173_531117   \n",
       "...          ...                    ...                           ...   \n",
       "412259   9668240   388766751_9038881013   922267647_3096648104_968866   \n",
       "412260   9668240   388766751_9038881013   922267647_3096648104_968866   \n",
       "412261   9668240   388766751_9038881013   922267647_3096648104_968866   \n",
       "412262   9668240   388766751_9038881013   922267647_3096648104_968866   \n",
       "412263    674799  947159805_81558194550   86152093_47511127657_716022   \n",
       "\n",
       "       process_step            date_time  \n",
       "0            step_3  2017-04-17 15:27:07  \n",
       "1            step_2  2017-04-17 15:26:51  \n",
       "2            step_3  2017-04-17 15:19:22  \n",
       "3            step_2  2017-04-17 15:19:13  \n",
       "4            step_3  2017-04-17 15:18:04  \n",
       "...             ...                  ...  \n",
       "412259        start  2017-05-24 18:46:10  \n",
       "412260        start  2017-05-24 18:45:29  \n",
       "412261       step_1  2017-05-24 18:44:51  \n",
       "412262        start  2017-05-24 18:44:34  \n",
       "412263        start  2017-06-03 12:17:09  \n",
       "\n",
       "[755405 rows x 5 columns]"
      ]
     },
     "execution_count": 951,
     "metadata": {},
     "output_type": "execute_result"
    }
   ],
   "source": [
    "df_web"
   ]
  },
  {
   "cell_type": "code",
   "execution_count": 957,
   "id": "8ce5d089-3cbc-45b5-b044-b8af3dc4e5be",
   "metadata": {},
   "outputs": [],
   "source": [
    "df_web = df_web.drop_duplicates(subset=['ClientID', 'visit_id', 'date_time'], keep='first')"
   ]
  },
  {
   "cell_type": "markdown",
   "id": "7f4b8f37-c677-4b16-908f-731cbcf6381b",
   "metadata": {},
   "source": [
    "# Initial Client behavior analysis"
   ]
  },
  {
   "cell_type": "markdown",
   "id": "5243f31b-5dd0-475e-a28b-fe26cc82622b",
   "metadata": {},
   "source": [
    "## Test vs. Control"
   ]
  },
  {
   "cell_type": "code",
   "execution_count": 961,
   "id": "de6a43b5-3f4d-40c8-a3c6-8801792d0e7b",
   "metadata": {},
   "outputs": [],
   "source": [
    "df_combined_var = df_combined['Variation'].value_counts()"
   ]
  },
  {
   "cell_type": "code",
   "execution_count": 962,
   "id": "046c6de7-47f8-49df-81d5-6a16c04cdce7",
   "metadata": {},
   "outputs": [
    {
     "name": "stderr",
     "output_type": "stream",
     "text": [
      "/var/folders/0d/nrxf3dnx3jq4b9fj3db32zgr0000gn/T/ipykernel_82413/508863236.py:1: FutureWarning: \n",
      "\n",
      "Passing `palette` without assigning `hue` is deprecated and will be removed in v0.14.0. Assign the `x` variable to `hue` and set `legend=False` for the same effect.\n",
      "\n",
      "  sns.barplot(x=df_combined_var .index, y=df_combined_var .values, palette=\"Set3\");\n"
     ]
    },
    {
     "data": {
      "image/png": "[encoded data removed]",
      "text/plain": [
       "<Figure size 640x480 with 1 Axes>"
      ]
     },
     "metadata": {},
     "output_type": "display_data"
    }
   ],
   "source": [
    "sns.barplot(x=df_combined_var .index, y=df_combined_var .values, palette=\"Set3\");"
   ]
  },
  {
   "cell_type": "code",
   "execution_count": 963,
   "id": "b1374b7f-fbd1-4952-90ba-15d6a46dfb3d",
   "metadata": {},
   "outputs": [
    {
     "data": {
      "text/plain": [
       "<Axes: ylabel='count'>"
      ]
     },
     "execution_count": 963,
     "metadata": {},
     "output_type": "execute_result"
    },
    {
     "data": {
      "image/png": "[encoded data removed]",
      "text/plain": [
       "<Figure size 640x480 with 1 Axes>"
      ]
     },
     "metadata": {},
     "output_type": "display_data"
    }
   ],
   "source": [
    "df_combined_var.plot.pie(autopct='%1.1f%%', startangle=360, colors=sns.color_palette(\"Set3\"))"
   ]
  },
  {
   "cell_type": "markdown",
   "id": "deae2301-fd4d-459f-a4a9-431e8f245656",
   "metadata": {},
   "source": [
    "## Clients Ages"
   ]
  },
  {
   "cell_type": "code",
   "execution_count": 965,
   "id": "f5aba5e7-dfa2-4bd2-8f28-f0072a01769e",
   "metadata": {},
   "outputs": [],
   "source": [
    "bins = [0, 20, 40, 60, df_combined['Age'].max()]\n",
    "labels = ['0 - 20', '21 - 40', '41 - 60', '60+']\n",
    "df_combined_cat_added = pd.cut(df_combined['Age'], bins=bins, labels=labels, include_lowest=True)\n",
    "df_combined_cat_added = df_combined_cat_added.value_counts()"
   ]
  },
  {
   "cell_type": "code",
   "execution_count": 967,
   "id": "def87ecf-ffe7-438d-8eb0-3e5013bc4cb0",
   "metadata": {},
   "outputs": [
    {
     "name": "stderr",
     "output_type": "stream",
     "text": [
      "/var/folders/0d/nrxf3dnx3jq4b9fj3db32zgr0000gn/T/ipykernel_82413/274807169.py:1: FutureWarning: \n",
      "\n",
      "Passing `palette` without assigning `hue` is deprecated and will be removed in v0.14.0. Assign the `x` variable to `hue` and set `legend=False` for the same effect.\n",
      "\n",
      "  sns.barplot(x=df_combined_cat_added.index, y=df_combined_cat_added.values, palette=\"Set3\");\n"
     ]
    },
    {
     "data": {
      "image/png": "[encoded data removed]",
      "text/plain": [
       "<Figure size 640x480 with 1 Axes>"
      ]
     },
     "metadata": {},
     "output_type": "display_data"
    }
   ],
   "source": [
    "sns.barplot(x=df_combined_cat_added.index, y=df_combined_cat_added.values, palette=\"Set3\");"
   ]
  },
  {
   "cell_type": "markdown",
   "id": "55a82576-b510-4942-a719-647b8c4bf17a",
   "metadata": {},
   "source": [
    "## Clients Sex"
   ]
  },
  {
   "cell_type": "code",
   "execution_count": 972,
   "id": "ba7be1db-85c0-42dd-8f6b-7da57f63529d",
   "metadata": {},
   "outputs": [],
   "source": [
    "df_combined_gendr_cat = df_combined['Gender'].value_counts()"
   ]
  },
  {
   "cell_type": "code",
   "execution_count": 974,
   "id": "a3e39a25-120c-4c7f-bb3d-8ca8a8619692",
   "metadata": {},
   "outputs": [
    {
     "name": "stderr",
     "output_type": "stream",
     "text": [
      "/var/folders/0d/nrxf3dnx3jq4b9fj3db32zgr0000gn/T/ipykernel_82413/3868163362.py:1: FutureWarning: \n",
      "\n",
      "Passing `palette` without assigning `hue` is deprecated and will be removed in v0.14.0. Assign the `x` variable to `hue` and set `legend=False` for the same effect.\n",
      "\n",
      "  sns.barplot(x=df_combined_gendr_cat.index, y=df_combined_gendr_cat.values, palette=\"Set3\");\n"
     ]
    },
    {
     "data": {
      "image/png": "[encoded data removed]",
      "text/plain": [
       "<Figure size 640x480 with 1 Axes>"
      ]
     },
     "metadata": {},
     "output_type": "display_data"
    }
   ],
   "source": [
    "sns.barplot(x=df_combined_gendr_cat.index, y=df_combined_gendr_cat.values, palette=\"Set3\");"
   ]
  },
  {
   "cell_type": "markdown",
   "id": "d7f4a540-298c-4578-8b25-8cbbf2e46034",
   "metadata": {},
   "source": [
    "## Clients Tenure"
   ]
  },
  {
   "cell_type": "code",
   "execution_count": 977,
   "id": "87545a18-dc0f-4343-b463-7fd5ac606d9e",
   "metadata": {},
   "outputs": [
    {
     "data": {
      "text/plain": [
       "count    50487.000000\n",
       "mean        12.031810\n",
       "std          6.860326\n",
       "min          2.000000\n",
       "25%          6.000000\n",
       "50%         11.000000\n",
       "75%         16.000000\n",
       "max         55.000000\n",
       "Name: Tenure(Y), dtype: float64"
      ]
     },
     "execution_count": 977,
     "metadata": {},
     "output_type": "execute_result"
    }
   ],
   "source": [
    "df_combined['Tenure(Y)'].describe()"
   ]
  },
  {
   "cell_type": "code",
   "execution_count": 979,
   "id": "c992ad10-be2f-44d4-b54b-3788f9dc5571",
   "metadata": {},
   "outputs": [],
   "source": [
    "bins = [0, 5, 10, 15, 20, 25, 30, 35, 40, df_combined['Tenure(Y)'].max()]\n",
    "labels = ['up to 5', '6 - 10', '11 - 15', '16 - 20', '21 - 25', '26 - 30', '31 - 35', '36 - 40', '41+']\n",
    "df_tenure_cat = pd.cut(df_combined['Tenure(Y)'], bins=bins, labels=labels, include_lowest=True)\n",
    "df_tenure_cat = df_tenure_cat.value_counts()"
   ]
  },
  {
   "cell_type": "code",
   "execution_count": 981,
   "id": "e912afca-1281-4aca-b0f8-936df9fc8599",
   "metadata": {},
   "outputs": [
    {
     "data": {
      "text/plain": [
       "Tenure(Y)\n",
       "6 - 10     15975\n",
       "11 - 15    13109\n",
       "up to 5     8729\n",
       "16 - 20     5710\n",
       "21 - 25     4487\n",
       "26 - 30     1762\n",
       "31 - 35      570\n",
       "36 - 40       93\n",
       "41+           52\n",
       "Name: count, dtype: int64"
      ]
     },
     "execution_count": 981,
     "metadata": {},
     "output_type": "execute_result"
    }
   ],
   "source": [
    "df_tenure_cat"
   ]
  },
  {
   "cell_type": "code",
   "execution_count": 983,
   "id": "1e91f19e-2af3-4473-b740-bff32711d4f4",
   "metadata": {},
   "outputs": [
    {
     "name": "stderr",
     "output_type": "stream",
     "text": [
      "/var/folders/0d/nrxf3dnx3jq4b9fj3db32zgr0000gn/T/ipykernel_82413/3156780658.py:1: FutureWarning: \n",
      "\n",
      "Passing `palette` without assigning `hue` is deprecated and will be removed in v0.14.0. Assign the `x` variable to `hue` and set `legend=False` for the same effect.\n",
      "\n",
      "  sns.barplot(x=df_tenure_cat.index, y=df_tenure_cat.values, palette=\"Set3\");\n"
     ]
    },
    {
     "data": {
      "image/png": "[encoded data removed]",
      "text/plain": [
       "<Figure size 640x480 with 1 Axes>"
      ]
     },
     "metadata": {},
     "output_type": "display_data"
    }
   ],
   "source": [
    "sns.barplot(x=df_tenure_cat.index, y=df_tenure_cat.values, palette=\"Set3\");"
   ]
  },
  {
   "cell_type": "markdown",
   "id": "5b26d640-2385-4e34-970e-1d80239cba2d",
   "metadata": {},
   "source": [
    "# Performance Metrics"
   ]
  },
  {
   "cell_type": "markdown",
   "id": "79442dff-95f8-4341-a5b6-e29127ea6a5a",
   "metadata": {},
   "source": [
    "## Completion Rate:"
   ]
  },
  {
   "cell_type": "code",
   "execution_count": 989,
   "id": "27549c84-d17c-4d61-8fe3-27c9fef7430f",
   "metadata": {},
   "outputs": [],
   "source": [
    "df_web = df_web.merge(df_combined[['ClientID', 'Variation']], on='ClientID', how='inner')"
   ]
  },
  {
   "cell_type": "code",
   "execution_count": 990,
   "id": "a48b154c-caab-478e-8ed5-345c0c864a10",
   "metadata": {},
   "outputs": [
    {
     "data": {
      "text/html": [
       "<div>\n",
       "<style scoped>\n",
       "    .dataframe tbody tr th:only-of-type {\n",
       "        vertical-align: middle;\n",
       "    }\n",
       "\n",
       "    .dataframe tbody tr th {\n",
       "        vertical-align: top;\n",
       "    }\n",
       "\n",
       "    .dataframe thead th {\n",
       "        text-align: right;\n",
       "    }\n",
       "</style>\n",
       "<table border=\"1\" class=\"dataframe\">\n",
       "  <thead>\n",
       "    <tr style=\"text-align: right;\">\n",
       "      <th></th>\n",
       "      <th>Total Clients</th>\n",
       "      <th>Clients Reached Confirm</th>\n",
       "      <th>Percentage of Clients Reached Confirm</th>\n",
       "      <th>Variation</th>\n",
       "    </tr>\n",
       "  </thead>\n",
       "  <tbody>\n",
       "    <tr>\n",
       "      <th>0</th>\n",
       "      <td>26961</td>\n",
       "      <td>18664</td>\n",
       "      <td>69.23%</td>\n",
       "      <td>Test</td>\n",
       "    </tr>\n",
       "  </tbody>\n",
       "</table>\n",
       "</div>"
      ],
      "text/plain": [
       "   Total Clients  Clients Reached Confirm  \\\n",
       "0          26961                    18664   \n",
       "\n",
       "  Percentage of Clients Reached Confirm Variation  \n",
       "0                                69.23%      Test  "
      ]
     },
     "execution_count": 990,
     "metadata": {},
     "output_type": "execute_result"
    }
   ],
   "source": [
    "# Calculate for 'Test' group\n",
    "total_clients_test = df_test['ClientID'].nunique()\n",
    "confirm_clients_test = df_test[df_test['process_step'] == 'confirm']['ClientID'].nunique()\n",
    "\n",
    "completion_rate_test = pd.DataFrame({\n",
    "    'Total Clients': [total_clients_test],\n",
    "    'Clients Reached Confirm': [confirm_clients_test]\n",
    "})\n",
    "\n",
    "percentage_reached_confirm_test = (confirm_clients_test / total_clients_test) * 100\n",
    "completion_rate_test['Percentage of Clients Reached Confirm'] = [f'{percentage_reached_confirm_test:.2f}%']\n",
    "\n",
    "# Add variation column to the 'Test' group\n",
    "completion_rate_test['Variation'] = 'Test'\n",
    "\n",
    "# Calculate for 'Control' group\n",
    "total_clients_control = df_control['ClientID'].nunique()\n",
    "confirm_clients_control = df_control[df_control['process_step'] == 'confirm']['ClientID'].nunique()\n",
    "\n",
    "completion_rate_control = pd.DataFrame({\n",
    "    'Total Clients': [total_clients_control],\n",
    "    'Clients Reached Confirm': [confirm_clients_control]\n",
    "})\n",
    "\n",
    "percentage_reached_confirm_control = (confirm_clients_control / total_clients_control) * 100\n",
    "completion_rate_control['Percentage of Clients Reached Confirm'] = [f'{percentage_reached_confirm_control:.2f}%']\n",
    "\n",
    "# Add variation column to the 'Control' group\n",
    "completion_rate_control['Variation'] = 'Control'\n",
    "\n",
    "# Show the dataframes\n",
    "completion_rate_test"
   ]
  },
  {
   "cell_type": "code",
   "execution_count": 991,
   "id": "c809a08f-337b-4c5c-917e-c392a730314e",
   "metadata": {},
   "outputs": [
    {
     "data": {
      "text/html": [
       "<div>\n",
       "<style scoped>\n",
       "    .dataframe tbody tr th:only-of-type {\n",
       "        vertical-align: middle;\n",
       "    }\n",
       "\n",
       "    .dataframe tbody tr th {\n",
       "        vertical-align: top;\n",
       "    }\n",
       "\n",
       "    .dataframe thead th {\n",
       "        text-align: right;\n",
       "    }\n",
       "</style>\n",
       "<table border=\"1\" class=\"dataframe\">\n",
       "  <thead>\n",
       "    <tr style=\"text-align: right;\">\n",
       "      <th></th>\n",
       "      <th>Total Clients</th>\n",
       "      <th>Clients Reached Confirm</th>\n",
       "      <th>Percentage of Clients Reached Confirm</th>\n",
       "      <th>Variation</th>\n",
       "    </tr>\n",
       "  </thead>\n",
       "  <tbody>\n",
       "    <tr>\n",
       "      <th>0</th>\n",
       "      <td>23526</td>\n",
       "      <td>15338</td>\n",
       "      <td>65.20%</td>\n",
       "      <td>Control</td>\n",
       "    </tr>\n",
       "  </tbody>\n",
       "</table>\n",
       "</div>"
      ],
      "text/plain": [
       "   Total Clients  Clients Reached Confirm  \\\n",
       "0          23526                    15338   \n",
       "\n",
       "  Percentage of Clients Reached Confirm Variation  \n",
       "0                                65.20%   Control  "
      ]
     },
     "execution_count": 991,
     "metadata": {},
     "output_type": "execute_result"
    }
   ],
   "source": [
    "completion_rate_control"
   ]
  },
  {
   "cell_type": "code",
   "execution_count": 995,
   "id": "e91a225c-e140-42da-b54e-9ba75fbb3a71",
   "metadata": {},
   "outputs": [
    {
     "data": {
      "image/png": "[encoded data removed]",
      "text/plain": [
       "<Figure size 800x500 with 1 Axes>"
      ]
     },
     "metadata": {},
     "output_type": "display_data"
    }
   ],
   "source": [
    "# Combine both DataFrames for easy plotting\n",
    "combined_data = pd.concat([completion_rate_test, completion_rate_control])\n",
    "\n",
    "# Plotting\n",
    "plt.figure(figsize=(8, 5))\n",
    "\n",
    "# Create bar graph\n",
    "bars = plt.bar(combined_data['Variation'], combined_data['Percentage of Clients Reached Confirm'].str.rstrip('%').astype('float'), color=['blue', 'orange'])\n",
    "\n",
    "# Add labels and title\n",
    "plt.xlabel('Variation')\n",
    "plt.ylabel('Percentage of Clients Reached Confirm (%)')\n",
    "plt.title('Completion Rate Comparison: Test vs Control')\n",
    "\n",
    "# Display the values on top of the bars\n",
    "for bar in bars:\n",
    "    height = bar.get_height()\n",
    "    plt.text(bar.get_x() + bar.get_width() / 2, height + 0.5, f'{height:.2f}%', ha='center', va='bottom')\n",
    "\n",
    "# Show the plot\n",
    "plt.tight_layout()\n",
    "plt.show()"
   ]
  },
  {
   "cell_type": "markdown",
   "id": "04d0d1c5-c0e7-48e2-a9cd-647d9d3c2fcc",
   "metadata": {
    "jp-MarkdownHeadingCollapsed": true
   },
   "source": [
    "## Time Spent on Each Step"
   ]
  },
  {
   "cell_type": "code",
   "execution_count": 1061,
   "id": "327633dc-e280-4222-b3eb-dcde9eda893d",
   "metadata": {},
   "outputs": [
    {
     "data": {
      "text/html": [
       "<div>\n",
       "<style scoped>\n",
       "    .dataframe tbody tr th:only-of-type {\n",
       "        vertical-align: middle;\n",
       "    }\n",
       "\n",
       "    .dataframe tbody tr th {\n",
       "        vertical-align: top;\n",
       "    }\n",
       "\n",
       "    .dataframe thead th {\n",
       "        text-align: right;\n",
       "    }\n",
       "</style>\n",
       "<table border=\"1\" class=\"dataframe\">\n",
       "  <thead>\n",
       "    <tr style=\"text-align: right;\">\n",
       "      <th></th>\n",
       "      <th>ClientID</th>\n",
       "      <th>Variation</th>\n",
       "      <th>step_1</th>\n",
       "      <th>step_2</th>\n",
       "      <th>step_3</th>\n",
       "      <th>confirm</th>\n",
       "      <th>total_time</th>\n",
       "    </tr>\n",
       "  </thead>\n",
       "  <tbody>\n",
       "    <tr>\n",
       "      <th>0</th>\n",
       "      <td>555</td>\n",
       "      <td>Test</td>\n",
       "      <td>0.12</td>\n",
       "      <td>0.53</td>\n",
       "      <td>1.65</td>\n",
       "      <td>0.33</td>\n",
       "      <td>2.63</td>\n",
       "    </tr>\n",
       "    <tr>\n",
       "      <th>1</th>\n",
       "      <td>647</td>\n",
       "      <td>Test</td>\n",
       "      <td>0.12</td>\n",
       "      <td>0.30</td>\n",
       "      <td>3.15</td>\n",
       "      <td>2.72</td>\n",
       "      <td>6.29</td>\n",
       "    </tr>\n",
       "    <tr>\n",
       "      <th>2</th>\n",
       "      <td>934</td>\n",
       "      <td>Test</td>\n",
       "      <td>0.00</td>\n",
       "      <td>0.00</td>\n",
       "      <td>0.00</td>\n",
       "      <td>0.00</td>\n",
       "      <td>0.00</td>\n",
       "    </tr>\n",
       "    <tr>\n",
       "      <th>3</th>\n",
       "      <td>1028</td>\n",
       "      <td>Control</td>\n",
       "      <td>4.20</td>\n",
       "      <td>0.18</td>\n",
       "      <td>4.58</td>\n",
       "      <td>0.00</td>\n",
       "      <td>8.96</td>\n",
       "    </tr>\n",
       "    <tr>\n",
       "      <th>4</th>\n",
       "      <td>1104</td>\n",
       "      <td>Control</td>\n",
       "      <td>0.00</td>\n",
       "      <td>0.00</td>\n",
       "      <td>0.00</td>\n",
       "      <td>0.00</td>\n",
       "      <td>0.00</td>\n",
       "    </tr>\n",
       "    <tr>\n",
       "      <th>...</th>\n",
       "      <td>...</td>\n",
       "      <td>...</td>\n",
       "      <td>...</td>\n",
       "      <td>...</td>\n",
       "      <td>...</td>\n",
       "      <td>...</td>\n",
       "      <td>...</td>\n",
       "    </tr>\n",
       "    <tr>\n",
       "      <th>50482</th>\n",
       "      <td>9999150</td>\n",
       "      <td>Test</td>\n",
       "      <td>0.10</td>\n",
       "      <td>0.00</td>\n",
       "      <td>0.00</td>\n",
       "      <td>0.00</td>\n",
       "      <td>0.10</td>\n",
       "    </tr>\n",
       "    <tr>\n",
       "      <th>50483</th>\n",
       "      <td>9999400</td>\n",
       "      <td>Test</td>\n",
       "      <td>0.37</td>\n",
       "      <td>0.45</td>\n",
       "      <td>0.77</td>\n",
       "      <td>0.40</td>\n",
       "      <td>1.99</td>\n",
       "    </tr>\n",
       "    <tr>\n",
       "      <th>50484</th>\n",
       "      <td>9999626</td>\n",
       "      <td>Test</td>\n",
       "      <td>0.13</td>\n",
       "      <td>0.00</td>\n",
       "      <td>0.00</td>\n",
       "      <td>0.00</td>\n",
       "      <td>0.13</td>\n",
       "    </tr>\n",
       "    <tr>\n",
       "      <th>50485</th>\n",
       "      <td>9999729</td>\n",
       "      <td>Test</td>\n",
       "      <td>1.70</td>\n",
       "      <td>4.95</td>\n",
       "      <td>0.65</td>\n",
       "      <td>0.35</td>\n",
       "      <td>7.65</td>\n",
       "    </tr>\n",
       "    <tr>\n",
       "      <th>50486</th>\n",
       "      <td>9999832</td>\n",
       "      <td>Test</td>\n",
       "      <td>0.13</td>\n",
       "      <td>0.00</td>\n",
       "      <td>0.00</td>\n",
       "      <td>0.00</td>\n",
       "      <td>0.13</td>\n",
       "    </tr>\n",
       "  </tbody>\n",
       "</table>\n",
       "<p>50487 rows × 7 columns</p>\n",
       "</div>"
      ],
      "text/plain": [
       "       ClientID Variation  step_1  step_2  step_3  confirm  total_time\n",
       "0           555      Test    0.12    0.53    1.65     0.33        2.63\n",
       "1           647      Test    0.12    0.30    3.15     2.72        6.29\n",
       "2           934      Test    0.00    0.00    0.00     0.00        0.00\n",
       "3          1028   Control    4.20    0.18    4.58     0.00        8.96\n",
       "4          1104   Control    0.00    0.00    0.00     0.00        0.00\n",
       "...         ...       ...     ...     ...     ...      ...         ...\n",
       "50482   9999150      Test    0.10    0.00    0.00     0.00        0.10\n",
       "50483   9999400      Test    0.37    0.45    0.77     0.40        1.99\n",
       "50484   9999626      Test    0.13    0.00    0.00     0.00        0.13\n",
       "50485   9999729      Test    1.70    4.95    0.65     0.35        7.65\n",
       "50486   9999832      Test    0.13    0.00    0.00     0.00        0.13\n",
       "\n",
       "[50487 rows x 7 columns]"
      ]
     },
     "execution_count": 1061,
     "metadata": {},
     "output_type": "execute_result"
    }
   ],
   "source": [
    "# Ensure that 'date_time' is in datetime format\n",
    "df_web['date_time'] = pd.to_datetime(df_web['date_time'])\n",
    "\n",
    "# Sort by ClientID, visit_id, and date_time\n",
    "df_web = df_web.sort_values(by=['ClientID', 'visit_id', 'date_time'])\n",
    "\n",
    "# Group process steps into categories\n",
    "step_mapping = {\n",
    "    'start': 'start',    # Assuming 'step_1' is the start category\n",
    "    'step_1': 'step_1',\n",
    "    'step_2': 'step_2',\n",
    "    'step_3': 'step_3',\n",
    "    'confirm': 'confirm'   # You can adjust these mappings based on your data\n",
    "}\n",
    "\n",
    "# Apply the mapping to the 'process_step' column\n",
    "df_web['process_step'] = df_web['process_step'].map(step_mapping)\n",
    "\n",
    "# Calculate the time difference between consecutive rows (steps)\n",
    "df_web['time_diff'] = df_web.groupby(['ClientID', 'visit_id'])['date_time'].diff()\n",
    "\n",
    "# Convert time difference to minutes\n",
    "df_web['time_diff_minutes'] = round(df_web['time_diff'].dt.total_seconds() / 60, 2)\n",
    "\n",
    "# Now, sum the time differences for each category ('process_step') by client_id and variation\n",
    "time_summary = df_web.groupby(['ClientID', 'Variation', 'process_step'])['time_diff_minutes'].sum().reset_index()\n",
    "\n",
    "# Pivot to have process_step as columns and ClientID as index\n",
    "df_web_time_spent = time_summary.pivot_table(index='ClientID', columns='process_step', values='time_diff_minutes', aggfunc='sum')\n",
    "\n",
    "# Add Variation column back to the DataFrame\n",
    "df_web_time_spent = df_web_time_spent.reset_index()\n",
    "df_web_time_spent = df_web_time_spent.merge(df_web[['ClientID', 'Variation']].drop_duplicates(), on='ClientID', how='left')\n",
    "\n",
    "# Ensure the desired process steps are present and in the correct order\n",
    "df_web_time_spent = df_web_time_spent[['ClientID', 'Variation', 'step_1', 'step_2', 'step_3', 'confirm']]\n",
    "\n",
    "# Calculate the total time per ClientID\n",
    "df_web_time_spent['total_time'] = df_web_time_spent[['step_1', 'step_2', 'step_3', 'confirm']].sum(axis=1)\n",
    "\n",
    "# Fill any missing values with 0\n",
    "df_web_time_spent = df_web_time_spent.fillna(0)\n",
    "\n",
    "# Show the resulting DataFrame\n",
    "df_web_time_spent"
   ]
  },
  {
   "cell_type": "code",
   "execution_count": 1065,
   "id": "485511ee-6864-4002-983e-9e02252e05c2",
   "metadata": {},
   "outputs": [
    {
     "data": {
      "text/html": [
       "<div>\n",
       "<style scoped>\n",
       "    .dataframe tbody tr th:only-of-type {\n",
       "        vertical-align: middle;\n",
       "    }\n",
       "\n",
       "    .dataframe tbody tr th {\n",
       "        vertical-align: top;\n",
       "    }\n",
       "\n",
       "    .dataframe thead th {\n",
       "        text-align: right;\n",
       "    }\n",
       "</style>\n",
       "<table border=\"1\" class=\"dataframe\">\n",
       "  <thead>\n",
       "    <tr style=\"text-align: right;\">\n",
       "      <th></th>\n",
       "      <th>Average Time</th>\n",
       "      <th>Variation</th>\n",
       "    </tr>\n",
       "  </thead>\n",
       "  <tbody>\n",
       "    <tr>\n",
       "      <th>step_1</th>\n",
       "      <td>0.896191</td>\n",
       "      <td>Test</td>\n",
       "    </tr>\n",
       "    <tr>\n",
       "      <th>step_2</th>\n",
       "      <td>0.916725</td>\n",
       "      <td>Test</td>\n",
       "    </tr>\n",
       "    <tr>\n",
       "      <th>step_3</th>\n",
       "      <td>1.533908</td>\n",
       "      <td>Test</td>\n",
       "    </tr>\n",
       "    <tr>\n",
       "      <th>confirm</th>\n",
       "      <td>1.777454</td>\n",
       "      <td>Test</td>\n",
       "    </tr>\n",
       "    <tr>\n",
       "      <th>step_1</th>\n",
       "      <td>0.894871</td>\n",
       "      <td>Control</td>\n",
       "    </tr>\n",
       "    <tr>\n",
       "      <th>step_2</th>\n",
       "      <td>0.705861</td>\n",
       "      <td>Control</td>\n",
       "    </tr>\n",
       "    <tr>\n",
       "      <th>step_3</th>\n",
       "      <td>1.489183</td>\n",
       "      <td>Control</td>\n",
       "    </tr>\n",
       "    <tr>\n",
       "      <th>confirm</th>\n",
       "      <td>1.525230</td>\n",
       "      <td>Control</td>\n",
       "    </tr>\n",
       "  </tbody>\n",
       "</table>\n",
       "</div>"
      ],
      "text/plain": [
       "         Average Time Variation\n",
       "step_1       0.896191      Test\n",
       "step_2       0.916725      Test\n",
       "step_3       1.533908      Test\n",
       "confirm      1.777454      Test\n",
       "step_1       0.894871   Control\n",
       "step_2       0.705861   Control\n",
       "step_3       1.489183   Control\n",
       "confirm      1.525230   Control"
      ]
     },
     "execution_count": 1065,
     "metadata": {},
     "output_type": "execute_result"
    }
   ],
   "source": [
    "# Filter DataFrames for 'Test' and 'Control' groups\n",
    "df_test_time = df_web_time_spent[df_web_time_spent['Variation'] == 'Test']\n",
    "df_control_time = df_web_time_spent[df_web_time_spent['Variation'] == 'Control']\n",
    "\n",
    "# Calculate average time spent for 'Test' group\n",
    "average_time_per_step_test = df_test_time[['step_1', 'step_2', 'step_3', 'confirm']].mean()\n",
    "\n",
    "# Create a DataFrame for 'Test' group\n",
    "average_time_spent_test = pd.DataFrame({\n",
    "    'Average Time': average_time_per_step_test\n",
    "})\n",
    "average_time_spent_test['Variation'] = 'Test'\n",
    "\n",
    "# Calculate average time spent for 'Control' group\n",
    "average_time_per_step_control = df_control_time[['step_1', 'step_2', 'step_3', 'confirm']].mean()\n",
    "\n",
    "# Create a DataFrame for 'Control' group\n",
    "average_time_spent_control = pd.DataFrame({\n",
    "    'Average Time': average_time_per_step_control\n",
    "})\n",
    "average_time_spent_control['Variation'] = 'Control'\n",
    "\n",
    "# Combine both DataFramesdf_web_time_spent\n",
    "average_time_spent_combined = pd.concat([average_time_spent_test, average_time_spent_control])\n",
    "\n",
    "# Show the resulting DataFrame\n",
    "average_time_spent_combined"
   ]
  },
  {
   "cell_type": "markdown",
   "id": "2df2eeed-77e9-48e9-b4f6-8b5592d41c20",
   "metadata": {
    "jp-MarkdownHeadingCollapsed": true
   },
   "source": [
    "## Error Steps"
   ]
  },
  {
   "cell_type": "code",
   "execution_count": 1005,
   "id": "e571e43c-e734-4be7-b979-e839df0841cc",
   "metadata": {},
   "outputs": [],
   "source": [
    "df_web = df_web.sort_values(by=['ClientID', 'visit_id', 'date_time'])"
   ]
  },
  {
   "cell_type": "code",
   "execution_count": 1007,
   "id": "88bf14bc-2261-4fe3-8ca3-4d545703e7a2",
   "metadata": {},
   "outputs": [],
   "source": [
    "# Correct order of steps\n",
    "process_steps = ['start', 'step_1', 'step_2', 'step_3', 'confirm']\n",
    "\n",
    "# Create a dictionary to map each step to its index\n",
    "step_index = {step: i for i, step in enumerate(process_steps)}"
   ]
  },
  {
   "cell_type": "code",
   "execution_count": 1009,
   "id": "74639089-7cf6-4984-ad2e-0aa7d3278650",
   "metadata": {},
   "outputs": [],
   "source": [
    "# Compare each step with the previous one for each client and visit\n",
    "df_web['prev_step'] = df_web.groupby(['ClientID', 'visit_id'])['process_step'].shift(1)\n",
    "\n",
    "# Flag backward steps (error: when the previous step index is greater than the current step index)\n",
    "df_web['error_flag'] = df_web.apply(\n",
    "    lambda x: step_index.get(x['process_step'], -1) < step_index.get(x['prev_step'], -1) \n",
    "    if pd.notnull(x['prev_step']) else False, axis=1\n",
    ")"
   ]
  },
  {
   "cell_type": "code",
   "execution_count": 1010,
   "id": "ec361734-75d5-4f44-851c-247b396c048c",
   "metadata": {},
   "outputs": [],
   "source": [
    "# Count errors per process step for 'Test' group\n",
    "step_error_counts_test = df_test.groupby('process_step')['error_flag'].sum().reset_index()\n",
    "\n",
    "# Add 'Variation' column to identify the group\n",
    "step_error_counts_test['Variation'] = 'Test'\n",
    "\n",
    "# Count errors per process step for 'Control' group\n",
    "step_error_counts_control = df_control.groupby('process_step')['error_flag'].sum().reset_index()\n",
    "\n",
    "step_error_counts_control['Variation'] = 'Control'"
   ]
  },
  {
   "cell_type": "code",
   "execution_count": 1011,
   "id": "373a3d64-8f06-4229-a967-475bb3dee27a",
   "metadata": {},
   "outputs": [
    {
     "data": {
      "text/html": [
       "<div>\n",
       "<style scoped>\n",
       "    .dataframe tbody tr th:only-of-type {\n",
       "        vertical-align: middle;\n",
       "    }\n",
       "\n",
       "    .dataframe tbody tr th {\n",
       "        vertical-align: top;\n",
       "    }\n",
       "\n",
       "    .dataframe thead th {\n",
       "        text-align: right;\n",
       "    }\n",
       "</style>\n",
       "<table border=\"1\" class=\"dataframe\">\n",
       "  <thead>\n",
       "    <tr style=\"text-align: right;\">\n",
       "      <th></th>\n",
       "      <th>process_step</th>\n",
       "      <th>error_flag</th>\n",
       "      <th>Variation</th>\n",
       "    </tr>\n",
       "  </thead>\n",
       "  <tbody>\n",
       "    <tr>\n",
       "      <th>0</th>\n",
       "      <td>confirm</td>\n",
       "      <td>0</td>\n",
       "      <td>Test</td>\n",
       "    </tr>\n",
       "    <tr>\n",
       "      <th>1</th>\n",
       "      <td>start</td>\n",
       "      <td>10510</td>\n",
       "      <td>Test</td>\n",
       "    </tr>\n",
       "    <tr>\n",
       "      <th>2</th>\n",
       "      <td>step_1</td>\n",
       "      <td>3364</td>\n",
       "      <td>Test</td>\n",
       "    </tr>\n",
       "    <tr>\n",
       "      <th>3</th>\n",
       "      <td>step_2</td>\n",
       "      <td>2249</td>\n",
       "      <td>Test</td>\n",
       "    </tr>\n",
       "    <tr>\n",
       "      <th>4</th>\n",
       "      <td>step_3</td>\n",
       "      <td>5</td>\n",
       "      <td>Test</td>\n",
       "    </tr>\n",
       "  </tbody>\n",
       "</table>\n",
       "</div>"
      ],
      "text/plain": [
       "  process_step  error_flag Variation\n",
       "0      confirm           0      Test\n",
       "1        start       10510      Test\n",
       "2       step_1        3364      Test\n",
       "3       step_2        2249      Test\n",
       "4       step_3           5      Test"
      ]
     },
     "execution_count": 1011,
     "metadata": {},
     "output_type": "execute_result"
    }
   ],
   "source": [
    "step_error_counts_test"
   ]
  },
  {
   "cell_type": "code",
   "execution_count": 1012,
   "id": "f259e2e9-b9b6-48f0-a973-cb77a0f6e280",
   "metadata": {},
   "outputs": [
    {
     "data": {
      "text/html": [
       "<div>\n",
       "<style scoped>\n",
       "    .dataframe tbody tr th:only-of-type {\n",
       "        vertical-align: middle;\n",
       "    }\n",
       "\n",
       "    .dataframe tbody tr th {\n",
       "        vertical-align: top;\n",
       "    }\n",
       "\n",
       "    .dataframe thead th {\n",
       "        text-align: right;\n",
       "    }\n",
       "</style>\n",
       "<table border=\"1\" class=\"dataframe\">\n",
       "  <thead>\n",
       "    <tr style=\"text-align: right;\">\n",
       "      <th></th>\n",
       "      <th>process_step</th>\n",
       "      <th>error_flag</th>\n",
       "      <th>Variation</th>\n",
       "    </tr>\n",
       "  </thead>\n",
       "  <tbody>\n",
       "    <tr>\n",
       "      <th>0</th>\n",
       "      <td>confirm</td>\n",
       "      <td>0</td>\n",
       "      <td>Control</td>\n",
       "    </tr>\n",
       "    <tr>\n",
       "      <th>1</th>\n",
       "      <td>start</td>\n",
       "      <td>4808</td>\n",
       "      <td>Control</td>\n",
       "    </tr>\n",
       "    <tr>\n",
       "      <th>2</th>\n",
       "      <td>step_1</td>\n",
       "      <td>2296</td>\n",
       "      <td>Control</td>\n",
       "    </tr>\n",
       "    <tr>\n",
       "      <th>3</th>\n",
       "      <td>step_2</td>\n",
       "      <td>2301</td>\n",
       "      <td>Control</td>\n",
       "    </tr>\n",
       "    <tr>\n",
       "      <th>4</th>\n",
       "      <td>step_3</td>\n",
       "      <td>1</td>\n",
       "      <td>Control</td>\n",
       "    </tr>\n",
       "  </tbody>\n",
       "</table>\n",
       "</div>"
      ],
      "text/plain": [
       "  process_step  error_flag Variation\n",
       "0      confirm           0   Control\n",
       "1        start        4808   Control\n",
       "2       step_1        2296   Control\n",
       "3       step_2        2301   Control\n",
       "4       step_3           1   Control"
      ]
     },
     "execution_count": 1012,
     "metadata": {},
     "output_type": "execute_result"
    }
   ],
   "source": [
    "step_error_counts_control"
   ]
  }
 ],
 "metadata": {
  "kernelspec": {
   "display_name": "Python [conda env:base] *",
   "language": "python",
   "name": "conda-base-py"
  },
  "language_info": {
   "codemirror_mode": {
    "name": "ipython",
    "version": 3
   },
   "file_extension": ".py",
   "mimetype": "text/x-python",
   "name": "python",
   "nbconvert_exporter": "python",
   "pygments_lexer": "ipython3",
   "version": "3.12.7"
  }
 },
 "nbformat": 4,
 "nbformat_minor": 5
}
