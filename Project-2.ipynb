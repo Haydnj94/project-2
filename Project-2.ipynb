{
 "cells": [
  {
   "cell_type": "markdown",
   "id": "19de6317-682a-4843-b1b7-156449a66a43",
   "metadata": {},
   "source": [
    "# Metics & KPI's"
   ]
  },
  {
   "cell_type": "markdown",
   "id": "a095df7d-128a-44ee-abab-d78438bc9f0d",
   "metadata": {},
   "source": [
    "## KPI's"
   ]
  },
  {
   "cell_type": "raw",
   "id": "706824cb-d153-4113-946c-ce17a77e42e3",
   "metadata": {},
   "source": [
    "Core KPIs (Already Mentioned)\n",
    "\t•\tCompletion Rate → % of users who finished the final stage.\n",
    "\t•\tTime Spent per Step → Avg. time spent in each phase.\n",
    "\t•\tError Rate → % of users who encountered errors.\n",
    "\n",
    "Additional KPIs to Consider\n",
    "\n",
    "A. User Engagement & Drop-off Metrics\n",
    "\t•\tDrop-off Rate per Step → % of users who abandon the test at each phase.\n",
    "\t•\tTime to Completion → Total time users take to finish all steps.\n",
    "\t•\tBounce Rate (First Step Exit Rate) → % of users who leave after the first step.\n",
    "\n",
    "B. Performance & Usability Metrics\n",
    "\t•\tSuccess Rate per Step → % of users who complete each step without errors.\n",
    "\t•\tError Recovery Rate → % of users who recover from errors and proceed.\n",
    "\t•\tNavigation Efficiency → Avg. number of clicks or interactions needed per step.\n",
    "\t•\tTask Resubmission Rate → % of users who repeat a step due to errors.\n",
    "\n",
    "C. Behavioral Insights\n",
    "\t•\tAverage Number of Sessions per User → How many sessions it takes to complete.\n",
    "\t•\tUser Hesitation Time → Time between actions (indicating confusion).\n",
    "\t•\tAbandonment Reasons (if logged) → Why users leave (error, confusion, timeout).\n",
    "\n",
    "D. Comparative Metrics (Test vs. Controlled Group)\n",
    "\t•\t% Improvement in Completion Rate (Test vs. Control).\n",
    "\t•\t% Reduction in Errors (New software vs. old).\n",
    "\t•\tTime Savings per Step (Test group faster/slower than Control).\n",
    "\t•\tEngagement Score → Combination of time spent, clicks, and completion rates."
   ]
  },
  {
   "cell_type": "markdown",
   "id": "b1f95974-2a2a-4b2a-b00b-1a996acda8b8",
   "metadata": {
    "jp-MarkdownHeadingCollapsed": true
   },
   "source": [
    "# Initialize + Clean"
   ]
  },
  {
   "cell_type": "code",
   "execution_count": 370,
   "id": "1d5d95b0-df8a-4983-aa92-daf9a912cc58",
   "metadata": {},
   "outputs": [],
   "source": [
    "import pandas as pd\n",
    "import matplotlib.pyplot as plt\n",
    "import seaborn as sns\n",
    "import numpy as np"
   ]
  },
  {
   "cell_type": "code",
   "execution_count": 372,
   "id": "da1bcea5-3a55-4b19-9e3a-35c891ab7208",
   "metadata": {},
   "outputs": [],
   "source": [
    "final_demo = 'Data assets/df_final_demo.txt'\n",
    "experiments_clients = 'Data assets/df_final_experiment_clients.txt'\n",
    "web_1 = 'Data assets/df_final_web_data_pt_1.txt'\n",
    "web_2 = 'Data assets/df_final_web_data_pt_2.txt'\n",
    "\n",
    "# Read the text files into DataFrames\n",
    "df_final = pd.read_csv(final_demo)\n",
    "df_experiments = pd.read_csv(experiments_clients)\n",
    "df_web_1 = pd.read_csv(web_1)\n",
    "df_web_2 =pd.read_csv(web_2)\n",
    "\n",
    "# Combine the DataFrames into one (if needed)\n",
    "df_web = pd.concat([df_web_1, df_web_2], axis=0)"
   ]
  },
  {
   "cell_type": "code",
   "execution_count": 373,
   "id": "4b804edd-c437-4748-9663-77d87402010c",
   "metadata": {},
   "outputs": [],
   "source": [
    "df_final['gendr'] = df_final['gendr'].replace({'X': 'U'})\n",
    "df_final['gendr'] = df_final['gendr'].fillna('U')"
   ]
  },
  {
   "cell_type": "code",
   "execution_count": 374,
   "id": "30e0e906-e7c3-49ce-990b-d13e99849836",
   "metadata": {},
   "outputs": [
    {
     "data": {
      "text/html": [
       "<div>\n",
       "<style scoped>\n",
       "    .dataframe tbody tr th:only-of-type {\n",
       "        vertical-align: middle;\n",
       "    }\n",
       "\n",
       "    .dataframe tbody tr th {\n",
       "        vertical-align: top;\n",
       "    }\n",
       "\n",
       "    .dataframe thead th {\n",
       "        text-align: right;\n",
       "    }\n",
       "</style>\n",
       "<table border=\"1\" class=\"dataframe\">\n",
       "  <thead>\n",
       "    <tr style=\"text-align: right;\">\n",
       "      <th></th>\n",
       "      <th>client_id</th>\n",
       "      <th>visitor_id</th>\n",
       "      <th>visit_id</th>\n",
       "      <th>process_step</th>\n",
       "      <th>date_time</th>\n",
       "    </tr>\n",
       "  </thead>\n",
       "  <tbody>\n",
       "    <tr>\n",
       "      <th>0</th>\n",
       "      <td>9988021</td>\n",
       "      <td>580560515_7732621733</td>\n",
       "      <td>781255054_21935453173_531117</td>\n",
       "      <td>step_3</td>\n",
       "      <td>2017-04-17 15:27:07</td>\n",
       "    </tr>\n",
       "    <tr>\n",
       "      <th>1</th>\n",
       "      <td>9988021</td>\n",
       "      <td>580560515_7732621733</td>\n",
       "      <td>781255054_21935453173_531117</td>\n",
       "      <td>step_2</td>\n",
       "      <td>2017-04-17 15:26:51</td>\n",
       "    </tr>\n",
       "    <tr>\n",
       "      <th>2</th>\n",
       "      <td>9988021</td>\n",
       "      <td>580560515_7732621733</td>\n",
       "      <td>781255054_21935453173_531117</td>\n",
       "      <td>step_3</td>\n",
       "      <td>2017-04-17 15:19:22</td>\n",
       "    </tr>\n",
       "    <tr>\n",
       "      <th>3</th>\n",
       "      <td>9988021</td>\n",
       "      <td>580560515_7732621733</td>\n",
       "      <td>781255054_21935453173_531117</td>\n",
       "      <td>step_2</td>\n",
       "      <td>2017-04-17 15:19:13</td>\n",
       "    </tr>\n",
       "    <tr>\n",
       "      <th>4</th>\n",
       "      <td>9988021</td>\n",
       "      <td>580560515_7732621733</td>\n",
       "      <td>781255054_21935453173_531117</td>\n",
       "      <td>step_3</td>\n",
       "      <td>2017-04-17 15:18:04</td>\n",
       "    </tr>\n",
       "    <tr>\n",
       "      <th>...</th>\n",
       "      <td>...</td>\n",
       "      <td>...</td>\n",
       "      <td>...</td>\n",
       "      <td>...</td>\n",
       "      <td>...</td>\n",
       "    </tr>\n",
       "    <tr>\n",
       "      <th>755400</th>\n",
       "      <td>9668240</td>\n",
       "      <td>388766751_9038881013</td>\n",
       "      <td>922267647_3096648104_968866</td>\n",
       "      <td>start</td>\n",
       "      <td>2017-05-24 18:46:10</td>\n",
       "    </tr>\n",
       "    <tr>\n",
       "      <th>755401</th>\n",
       "      <td>9668240</td>\n",
       "      <td>388766751_9038881013</td>\n",
       "      <td>922267647_3096648104_968866</td>\n",
       "      <td>start</td>\n",
       "      <td>2017-05-24 18:45:29</td>\n",
       "    </tr>\n",
       "    <tr>\n",
       "      <th>755402</th>\n",
       "      <td>9668240</td>\n",
       "      <td>388766751_9038881013</td>\n",
       "      <td>922267647_3096648104_968866</td>\n",
       "      <td>step_1</td>\n",
       "      <td>2017-05-24 18:44:51</td>\n",
       "    </tr>\n",
       "    <tr>\n",
       "      <th>755403</th>\n",
       "      <td>9668240</td>\n",
       "      <td>388766751_9038881013</td>\n",
       "      <td>922267647_3096648104_968866</td>\n",
       "      <td>start</td>\n",
       "      <td>2017-05-24 18:44:34</td>\n",
       "    </tr>\n",
       "    <tr>\n",
       "      <th>755404</th>\n",
       "      <td>674799</td>\n",
       "      <td>947159805_81558194550</td>\n",
       "      <td>86152093_47511127657_716022</td>\n",
       "      <td>start</td>\n",
       "      <td>2017-06-03 12:17:09</td>\n",
       "    </tr>\n",
       "  </tbody>\n",
       "</table>\n",
       "<p>755405 rows × 5 columns</p>\n",
       "</div>"
      ],
      "text/plain": [
       "        client_id             visitor_id                      visit_id  \\\n",
       "0         9988021   580560515_7732621733  781255054_21935453173_531117   \n",
       "1         9988021   580560515_7732621733  781255054_21935453173_531117   \n",
       "2         9988021   580560515_7732621733  781255054_21935453173_531117   \n",
       "3         9988021   580560515_7732621733  781255054_21935453173_531117   \n",
       "4         9988021   580560515_7732621733  781255054_21935453173_531117   \n",
       "...           ...                    ...                           ...   \n",
       "755400    9668240   388766751_9038881013   922267647_3096648104_968866   \n",
       "755401    9668240   388766751_9038881013   922267647_3096648104_968866   \n",
       "755402    9668240   388766751_9038881013   922267647_3096648104_968866   \n",
       "755403    9668240   388766751_9038881013   922267647_3096648104_968866   \n",
       "755404     674799  947159805_81558194550   86152093_47511127657_716022   \n",
       "\n",
       "       process_step            date_time  \n",
       "0            step_3  2017-04-17 15:27:07  \n",
       "1            step_2  2017-04-17 15:26:51  \n",
       "2            step_3  2017-04-17 15:19:22  \n",
       "3            step_2  2017-04-17 15:19:13  \n",
       "4            step_3  2017-04-17 15:18:04  \n",
       "...             ...                  ...  \n",
       "755400        start  2017-05-24 18:46:10  \n",
       "755401        start  2017-05-24 18:45:29  \n",
       "755402       step_1  2017-05-24 18:44:51  \n",
       "755403        start  2017-05-24 18:44:34  \n",
       "755404        start  2017-06-03 12:17:09  \n",
       "\n",
       "[755405 rows x 5 columns]"
      ]
     },
     "execution_count": 374,
     "metadata": {},
     "output_type": "execute_result"
    }
   ],
   "source": [
    "df_combined = pd.merge(df_final, df_experiments, on= 'client_id').reset_index(drop = True)\n",
    "df_combined.dropna(subset=['Variation'], inplace = True)\n",
    "df_web.reset_index(drop=True)"
   ]
  },
  {
   "cell_type": "code",
   "execution_count": 380,
   "id": "e039e850-dab5-4314-bb4f-09a2eec49e10",
   "metadata": {},
   "outputs": [],
   "source": [
    "df_combined.rename(columns={\n",
    "                            'client_id': 'ClientID',\n",
    "                            'clnt_tenure_yr': 'Tenure(Y)',\n",
    "                            'clnt_tenure_mnth': 'Tenure(M)',\n",
    "                            'clnt_age': 'Age',\n",
    "                            'gendr': 'Gender',\n",
    "                            'num_accts': 'Accounts(#)',\n",
    "                            'bal': 'Balance',\n",
    "                            'calls_6_mnth': 'Calls',\n",
    "                            'logons_6_mnth': 'Logins',\n",
    "                            'Variation': 'Variation'\n",
    "                        }, inplace=True)"
   ]
  },
  {
   "cell_type": "code",
   "execution_count": 392,
   "id": "f9203ef5-d3f8-4d5a-91ed-eb34a963deb1",
   "metadata": {},
   "outputs": [
    {
     "name": "stdout",
     "output_type": "stream",
     "text": [
      "ClientID       0\n",
      "Tenure(Y)      0\n",
      "Tenure(M)      0\n",
      "Age            0\n",
      "Gender         0\n",
      "Accounts(#)    0\n",
      "Balance        0\n",
      "Calls          0\n",
      "Logins         0\n",
      "Variation      0\n",
      "dtype: int64\n"
     ]
    }
   ],
   "source": [
    "print(df_combined.isna().sum())"
   ]
  },
  {
   "cell_type": "code",
   "execution_count": 390,
   "id": "c569fbc6-1b17-40d3-982d-23b075ca7576",
   "metadata": {},
   "outputs": [],
   "source": [
    "df_combined = df_combined.dropna()"
   ]
  },
  {
   "cell_type": "code",
   "execution_count": 394,
   "id": "b88001bc-7d1f-4deb-bd62-16453a482abc",
   "metadata": {},
   "outputs": [
    {
     "name": "stderr",
     "output_type": "stream",
     "text": [
      "/var/folders/0d/nrxf3dnx3jq4b9fj3db32zgr0000gn/T/ipykernel_43554/23231104.py:2: SettingWithCopyWarning: \n",
      "A value is trying to be set on a copy of a slice from a DataFrame.\n",
      "Try using .loc[row_indexer,col_indexer] = value instead\n",
      "\n",
      "See the caveats in the documentation: https://pandas.pydata.org/pandas-docs/stable/user_guide/indexing.html#returning-a-view-versus-a-copy\n",
      "  df_combined['Tenure(Y)'] = df_combined['Tenure(Y)'].astype(int)\n",
      "/var/folders/0d/nrxf3dnx3jq4b9fj3db32zgr0000gn/T/ipykernel_43554/23231104.py:3: SettingWithCopyWarning: \n",
      "A value is trying to be set on a copy of a slice from a DataFrame.\n",
      "Try using .loc[row_indexer,col_indexer] = value instead\n",
      "\n",
      "See the caveats in the documentation: https://pandas.pydata.org/pandas-docs/stable/user_guide/indexing.html#returning-a-view-versus-a-copy\n",
      "  df_combined['Tenure(M)'] = df_combined['Tenure(M)'].astype(int)\n",
      "/var/folders/0d/nrxf3dnx3jq4b9fj3db32zgr0000gn/T/ipykernel_43554/23231104.py:4: SettingWithCopyWarning: \n",
      "A value is trying to be set on a copy of a slice from a DataFrame.\n",
      "Try using .loc[row_indexer,col_indexer] = value instead\n",
      "\n",
      "See the caveats in the documentation: https://pandas.pydata.org/pandas-docs/stable/user_guide/indexing.html#returning-a-view-versus-a-copy\n",
      "  df_combined['Accounts(#)'] = df_combined['Accounts(#)'].astype(int)\n",
      "/var/folders/0d/nrxf3dnx3jq4b9fj3db32zgr0000gn/T/ipykernel_43554/23231104.py:5: SettingWithCopyWarning: \n",
      "A value is trying to be set on a copy of a slice from a DataFrame.\n",
      "Try using .loc[row_indexer,col_indexer] = value instead\n",
      "\n",
      "See the caveats in the documentation: https://pandas.pydata.org/pandas-docs/stable/user_guide/indexing.html#returning-a-view-versus-a-copy\n",
      "  df_combined['Calls'] = df_combined['Calls'].astype(int)\n",
      "/var/folders/0d/nrxf3dnx3jq4b9fj3db32zgr0000gn/T/ipykernel_43554/23231104.py:6: SettingWithCopyWarning: \n",
      "A value is trying to be set on a copy of a slice from a DataFrame.\n",
      "Try using .loc[row_indexer,col_indexer] = value instead\n",
      "\n",
      "See the caveats in the documentation: https://pandas.pydata.org/pandas-docs/stable/user_guide/indexing.html#returning-a-view-versus-a-copy\n",
      "  df_combined['Logins'] = df_combined['Logins'].astype(int)\n",
      "/var/folders/0d/nrxf3dnx3jq4b9fj3db32zgr0000gn/T/ipykernel_43554/23231104.py:9: SettingWithCopyWarning: \n",
      "A value is trying to be set on a copy of a slice from a DataFrame.\n",
      "Try using .loc[row_indexer,col_indexer] = value instead\n",
      "\n",
      "See the caveats in the documentation: https://pandas.pydata.org/pandas-docs/stable/user_guide/indexing.html#returning-a-view-versus-a-copy\n",
      "  df_combined['Age'] = np.floor(df_combined['Age']).astype(int)\n"
     ]
    }
   ],
   "source": [
    "# Convert columns to integers\n",
    "df_combined['Tenure(Y)'] = df_combined['Tenure(Y)'].astype(int)\n",
    "df_combined['Tenure(M)'] = df_combined['Tenure(M)'].astype(int)\n",
    "df_combined['Accounts(#)'] = df_combined['Accounts(#)'].astype(int)\n",
    "df_combined['Calls'] = df_combined['Calls'].astype(int)\n",
    "df_combined['Logins'] = df_combined['Logins'].astype(int)\n",
    "\n",
    "# Convert Age to int and round down\n",
    "df_combined['Age'] = np.floor(df_combined['Age']).astype(int)"
   ]
  },
  {
   "cell_type": "code",
   "execution_count": 396,
   "id": "d4bfb0c7-44a9-4bb0-b0ae-629022b166c5",
   "metadata": {},
   "outputs": [
    {
     "data": {
      "text/html": [
       "<div>\n",
       "<style scoped>\n",
       "    .dataframe tbody tr th:only-of-type {\n",
       "        vertical-align: middle;\n",
       "    }\n",
       "\n",
       "    .dataframe tbody tr th {\n",
       "        vertical-align: top;\n",
       "    }\n",
       "\n",
       "    .dataframe thead th {\n",
       "        text-align: right;\n",
       "    }\n",
       "</style>\n",
       "<table border=\"1\" class=\"dataframe\">\n",
       "  <thead>\n",
       "    <tr style=\"text-align: right;\">\n",
       "      <th></th>\n",
       "      <th>ClientID</th>\n",
       "      <th>Tenure(Y)</th>\n",
       "      <th>Tenure(M)</th>\n",
       "      <th>Age</th>\n",
       "      <th>Gender</th>\n",
       "      <th>Accounts(#)</th>\n",
       "      <th>Balance</th>\n",
       "      <th>Calls</th>\n",
       "      <th>Logins</th>\n",
       "      <th>Variation</th>\n",
       "    </tr>\n",
       "  </thead>\n",
       "  <tbody>\n",
       "    <tr>\n",
       "      <th>0</th>\n",
       "      <td>836976</td>\n",
       "      <td>6</td>\n",
       "      <td>73</td>\n",
       "      <td>60</td>\n",
       "      <td>U</td>\n",
       "      <td>2</td>\n",
       "      <td>45105.30</td>\n",
       "      <td>6</td>\n",
       "      <td>9</td>\n",
       "      <td>Test</td>\n",
       "    </tr>\n",
       "    <tr>\n",
       "      <th>1</th>\n",
       "      <td>2304905</td>\n",
       "      <td>7</td>\n",
       "      <td>94</td>\n",
       "      <td>58</td>\n",
       "      <td>U</td>\n",
       "      <td>2</td>\n",
       "      <td>110860.30</td>\n",
       "      <td>6</td>\n",
       "      <td>9</td>\n",
       "      <td>Control</td>\n",
       "    </tr>\n",
       "    <tr>\n",
       "      <th>2</th>\n",
       "      <td>1439522</td>\n",
       "      <td>5</td>\n",
       "      <td>64</td>\n",
       "      <td>32</td>\n",
       "      <td>U</td>\n",
       "      <td>2</td>\n",
       "      <td>52467.79</td>\n",
       "      <td>6</td>\n",
       "      <td>9</td>\n",
       "      <td>Test</td>\n",
       "    </tr>\n",
       "    <tr>\n",
       "      <th>3</th>\n",
       "      <td>1562045</td>\n",
       "      <td>16</td>\n",
       "      <td>198</td>\n",
       "      <td>49</td>\n",
       "      <td>M</td>\n",
       "      <td>2</td>\n",
       "      <td>67454.65</td>\n",
       "      <td>3</td>\n",
       "      <td>6</td>\n",
       "      <td>Test</td>\n",
       "    </tr>\n",
       "    <tr>\n",
       "      <th>4</th>\n",
       "      <td>5126305</td>\n",
       "      <td>12</td>\n",
       "      <td>145</td>\n",
       "      <td>33</td>\n",
       "      <td>F</td>\n",
       "      <td>2</td>\n",
       "      <td>103671.75</td>\n",
       "      <td>0</td>\n",
       "      <td>3</td>\n",
       "      <td>Control</td>\n",
       "    </tr>\n",
       "    <tr>\n",
       "      <th>...</th>\n",
       "      <td>...</td>\n",
       "      <td>...</td>\n",
       "      <td>...</td>\n",
       "      <td>...</td>\n",
       "      <td>...</td>\n",
       "      <td>...</td>\n",
       "      <td>...</td>\n",
       "      <td>...</td>\n",
       "      <td>...</td>\n",
       "      <td>...</td>\n",
       "    </tr>\n",
       "    <tr>\n",
       "      <th>50495</th>\n",
       "      <td>1780858</td>\n",
       "      <td>21</td>\n",
       "      <td>262</td>\n",
       "      <td>68</td>\n",
       "      <td>M</td>\n",
       "      <td>3</td>\n",
       "      <td>372100.59</td>\n",
       "      <td>6</td>\n",
       "      <td>9</td>\n",
       "      <td>Test</td>\n",
       "    </tr>\n",
       "    <tr>\n",
       "      <th>50496</th>\n",
       "      <td>6967120</td>\n",
       "      <td>21</td>\n",
       "      <td>260</td>\n",
       "      <td>68</td>\n",
       "      <td>M</td>\n",
       "      <td>3</td>\n",
       "      <td>4279873.38</td>\n",
       "      <td>6</td>\n",
       "      <td>9</td>\n",
       "      <td>Control</td>\n",
       "    </tr>\n",
       "    <tr>\n",
       "      <th>50497</th>\n",
       "      <td>5826160</td>\n",
       "      <td>20</td>\n",
       "      <td>249</td>\n",
       "      <td>56</td>\n",
       "      <td>F</td>\n",
       "      <td>2</td>\n",
       "      <td>44837.16</td>\n",
       "      <td>2</td>\n",
       "      <td>5</td>\n",
       "      <td>Test</td>\n",
       "    </tr>\n",
       "    <tr>\n",
       "      <th>50498</th>\n",
       "      <td>8739285</td>\n",
       "      <td>19</td>\n",
       "      <td>229</td>\n",
       "      <td>69</td>\n",
       "      <td>F</td>\n",
       "      <td>2</td>\n",
       "      <td>44994.24</td>\n",
       "      <td>1</td>\n",
       "      <td>4</td>\n",
       "      <td>Test</td>\n",
       "    </tr>\n",
       "    <tr>\n",
       "      <th>50499</th>\n",
       "      <td>7468138</td>\n",
       "      <td>18</td>\n",
       "      <td>222</td>\n",
       "      <td>61</td>\n",
       "      <td>F</td>\n",
       "      <td>3</td>\n",
       "      <td>209278.15</td>\n",
       "      <td>0</td>\n",
       "      <td>3</td>\n",
       "      <td>Test</td>\n",
       "    </tr>\n",
       "  </tbody>\n",
       "</table>\n",
       "<p>50487 rows × 10 columns</p>\n",
       "</div>"
      ],
      "text/plain": [
       "       ClientID  Tenure(Y)  Tenure(M)  Age Gender  Accounts(#)     Balance  \\\n",
       "0        836976          6         73   60      U            2    45105.30   \n",
       "1       2304905          7         94   58      U            2   110860.30   \n",
       "2       1439522          5         64   32      U            2    52467.79   \n",
       "3       1562045         16        198   49      M            2    67454.65   \n",
       "4       5126305         12        145   33      F            2   103671.75   \n",
       "...         ...        ...        ...  ...    ...          ...         ...   \n",
       "50495   1780858         21        262   68      M            3   372100.59   \n",
       "50496   6967120         21        260   68      M            3  4279873.38   \n",
       "50497   5826160         20        249   56      F            2    44837.16   \n",
       "50498   8739285         19        229   69      F            2    44994.24   \n",
       "50499   7468138         18        222   61      F            3   209278.15   \n",
       "\n",
       "       Calls  Logins Variation  \n",
       "0          6       9      Test  \n",
       "1          6       9   Control  \n",
       "2          6       9      Test  \n",
       "3          3       6      Test  \n",
       "4          0       3   Control  \n",
       "...      ...     ...       ...  \n",
       "50495      6       9      Test  \n",
       "50496      6       9   Control  \n",
       "50497      2       5      Test  \n",
       "50498      1       4      Test  \n",
       "50499      0       3      Test  \n",
       "\n",
       "[50487 rows x 10 columns]"
      ]
     },
     "execution_count": 396,
     "metadata": {},
     "output_type": "execute_result"
    }
   ],
   "source": [
    "df_combined"
   ]
  },
  {
   "cell_type": "markdown",
   "id": "7f4b8f37-c677-4b16-908f-731cbcf6381b",
   "metadata": {},
   "source": [
    "# Initial Client behavior analysis"
   ]
  },
  {
   "cell_type": "markdown",
   "id": "5243f31b-5dd0-475e-a28b-fe26cc82622b",
   "metadata": {
    "jp-MarkdownHeadingCollapsed": true
   },
   "source": [
    "## Test vs. Control"
   ]
  },
  {
   "cell_type": "code",
   "execution_count": 398,
   "id": "de6a43b5-3f4d-40c8-a3c6-8801792d0e7b",
   "metadata": {},
   "outputs": [],
   "source": [
    "df_combined_var = df_combined['Variation'].value_counts()"
   ]
  },
  {
   "cell_type": "code",
   "execution_count": 400,
   "id": "046c6de7-47f8-49df-81d5-6a16c04cdce7",
   "metadata": {},
   "outputs": [
    {
     "name": "stderr",
     "output_type": "stream",
     "text": [
      "/var/folders/0d/nrxf3dnx3jq4b9fj3db32zgr0000gn/T/ipykernel_43554/508863236.py:1: FutureWarning: \n",
      "\n",
      "Passing `palette` without assigning `hue` is deprecated and will be removed in v0.14.0. Assign the `x` variable to `hue` and set `legend=False` for the same effect.\n",
      "\n",
      "  sns.barplot(x=df_combined_var .index, y=df_combined_var .values, palette=\"Set3\");\n"
     ]
    },
    {
     "data": {
      "image/png": "[encoded data removed]",
      "text/plain": [
       "<Figure size 640x480 with 1 Axes>"
      ]
     },
     "metadata": {},
     "output_type": "display_data"
    }
   ],
   "source": [
    "sns.barplot(x=df_combined_var .index, y=df_combined_var .values, palette=\"Set3\");"
   ]
  },
  {
   "cell_type": "code",
   "execution_count": 402,
   "id": "b1374b7f-fbd1-4952-90ba-15d6a46dfb3d",
   "metadata": {},
   "outputs": [
    {
     "data": {
      "text/plain": [
       "<Axes: ylabel='count'>"
      ]
     },
     "execution_count": 402,
     "metadata": {},
     "output_type": "execute_result"
    },
    {
     "data": {
      "image/png": "[encoded data removed]",
      "text/plain": [
       "<Figure size 640x480 with 1 Axes>"
      ]
     },
     "metadata": {},
     "output_type": "display_data"
    }
   ],
   "source": [
    "df_combined_var.plot.pie(autopct='%1.1f%%', startangle=360, colors=sns.color_palette(\"Set3\"))"
   ]
  },
  {
   "cell_type": "markdown",
   "id": "deae2301-fd4d-459f-a4a9-431e8f245656",
   "metadata": {
    "jp-MarkdownHeadingCollapsed": true
   },
   "source": [
    "## Clients Ages"
   ]
  },
  {
   "cell_type": "code",
   "execution_count": 405,
   "id": "f5aba5e7-dfa2-4bd2-8f28-f0072a01769e",
   "metadata": {},
   "outputs": [
    {
     "ename": "KeyError",
     "evalue": "'clnt_age'",
     "output_type": "error",
     "traceback": [
      "\u001b[0;31m---------------------------------------------------------------------------\u001b[0m",
      "\u001b[0;31mKeyError\u001b[0m                                  Traceback (most recent call last)",
      "File \u001b[0;32m/opt/anaconda3/lib/python3.12/site-packages/pandas/core/indexes/base.py:3805\u001b[0m, in \u001b[0;36mIndex.get_loc\u001b[0;34m(self, key)\u001b[0m\n\u001b[1;32m   3804\u001b[0m \u001b[38;5;28;01mtry\u001b[39;00m:\n\u001b[0;32m-> 3805\u001b[0m     \u001b[38;5;28;01mreturn\u001b[39;00m \u001b[38;5;28mself\u001b[39m\u001b[38;5;241m.\u001b[39m_engine\u001b[38;5;241m.\u001b[39mget_loc(casted_key)\n\u001b[1;32m   3806\u001b[0m \u001b[38;5;28;01mexcept\u001b[39;00m \u001b[38;5;167;01mKeyError\u001b[39;00m \u001b[38;5;28;01mas\u001b[39;00m err:\n",
      "File \u001b[0;32mindex.pyx:167\u001b[0m, in \u001b[0;36mpandas._libs.index.IndexEngine.get_loc\u001b[0;34m()\u001b[0m\n",
      "File \u001b[0;32mindex.pyx:196\u001b[0m, in \u001b[0;36mpandas._libs.index.IndexEngine.get_loc\u001b[0;34m()\u001b[0m\n",
      "File \u001b[0;32mpandas/_libs/hashtable_class_helper.pxi:7081\u001b[0m, in \u001b[0;36mpandas._libs.hashtable.PyObjectHashTable.get_item\u001b[0;34m()\u001b[0m\n",
      "File \u001b[0;32mpandas/_libs/hashtable_class_helper.pxi:7089\u001b[0m, in \u001b[0;36mpandas._libs.hashtable.PyObjectHashTable.get_item\u001b[0;34m()\u001b[0m\n",
      "\u001b[0;31mKeyError\u001b[0m: 'clnt_age'",
      "\nThe above exception was the direct cause of the following exception:\n",
      "\u001b[0;31mKeyError\u001b[0m                                  Traceback (most recent call last)",
      "Cell \u001b[0;32mIn[405], line 3\u001b[0m\n\u001b[1;32m      1\u001b[0m bins \u001b[38;5;241m=\u001b[39m [\u001b[38;5;241m0\u001b[39m, \u001b[38;5;241m20\u001b[39m, \u001b[38;5;241m40\u001b[39m, \u001b[38;5;241m60\u001b[39m, df_combined[\u001b[38;5;124m'\u001b[39m\u001b[38;5;124mAge\u001b[39m\u001b[38;5;124m'\u001b[39m]\u001b[38;5;241m.\u001b[39mmax()]\n\u001b[1;32m      2\u001b[0m labels \u001b[38;5;241m=\u001b[39m [\u001b[38;5;124m'\u001b[39m\u001b[38;5;124m0 - 20\u001b[39m\u001b[38;5;124m'\u001b[39m, \u001b[38;5;124m'\u001b[39m\u001b[38;5;124m21 - 40\u001b[39m\u001b[38;5;124m'\u001b[39m, \u001b[38;5;124m'\u001b[39m\u001b[38;5;124m41 - 60\u001b[39m\u001b[38;5;124m'\u001b[39m, \u001b[38;5;124m'\u001b[39m\u001b[38;5;124m60+\u001b[39m\u001b[38;5;124m'\u001b[39m]\n\u001b[0;32m----> 3\u001b[0m df_combined_cat_added \u001b[38;5;241m=\u001b[39m pd\u001b[38;5;241m.\u001b[39mcut(df_combined[\u001b[38;5;124m'\u001b[39m\u001b[38;5;124mclnt_age\u001b[39m\u001b[38;5;124m'\u001b[39m], bins\u001b[38;5;241m=\u001b[39mbins, labels\u001b[38;5;241m=\u001b[39mlabels, include_lowest\u001b[38;5;241m=\u001b[39m\u001b[38;5;28;01mTrue\u001b[39;00m)\n\u001b[1;32m      4\u001b[0m df_combined_cat_added \u001b[38;5;241m=\u001b[39m df_combined_cat_added\u001b[38;5;241m.\u001b[39mvalue_counts()\n",
      "File \u001b[0;32m/opt/anaconda3/lib/python3.12/site-packages/pandas/core/frame.py:4102\u001b[0m, in \u001b[0;36mDataFrame.__getitem__\u001b[0;34m(self, key)\u001b[0m\n\u001b[1;32m   4100\u001b[0m \u001b[38;5;28;01mif\u001b[39;00m \u001b[38;5;28mself\u001b[39m\u001b[38;5;241m.\u001b[39mcolumns\u001b[38;5;241m.\u001b[39mnlevels \u001b[38;5;241m>\u001b[39m \u001b[38;5;241m1\u001b[39m:\n\u001b[1;32m   4101\u001b[0m     \u001b[38;5;28;01mreturn\u001b[39;00m \u001b[38;5;28mself\u001b[39m\u001b[38;5;241m.\u001b[39m_getitem_multilevel(key)\n\u001b[0;32m-> 4102\u001b[0m indexer \u001b[38;5;241m=\u001b[39m \u001b[38;5;28mself\u001b[39m\u001b[38;5;241m.\u001b[39mcolumns\u001b[38;5;241m.\u001b[39mget_loc(key)\n\u001b[1;32m   4103\u001b[0m \u001b[38;5;28;01mif\u001b[39;00m is_integer(indexer):\n\u001b[1;32m   4104\u001b[0m     indexer \u001b[38;5;241m=\u001b[39m [indexer]\n",
      "File \u001b[0;32m/opt/anaconda3/lib/python3.12/site-packages/pandas/core/indexes/base.py:3812\u001b[0m, in \u001b[0;36mIndex.get_loc\u001b[0;34m(self, key)\u001b[0m\n\u001b[1;32m   3807\u001b[0m     \u001b[38;5;28;01mif\u001b[39;00m \u001b[38;5;28misinstance\u001b[39m(casted_key, \u001b[38;5;28mslice\u001b[39m) \u001b[38;5;129;01mor\u001b[39;00m (\n\u001b[1;32m   3808\u001b[0m         \u001b[38;5;28misinstance\u001b[39m(casted_key, abc\u001b[38;5;241m.\u001b[39mIterable)\n\u001b[1;32m   3809\u001b[0m         \u001b[38;5;129;01mand\u001b[39;00m \u001b[38;5;28many\u001b[39m(\u001b[38;5;28misinstance\u001b[39m(x, \u001b[38;5;28mslice\u001b[39m) \u001b[38;5;28;01mfor\u001b[39;00m x \u001b[38;5;129;01min\u001b[39;00m casted_key)\n\u001b[1;32m   3810\u001b[0m     ):\n\u001b[1;32m   3811\u001b[0m         \u001b[38;5;28;01mraise\u001b[39;00m InvalidIndexError(key)\n\u001b[0;32m-> 3812\u001b[0m     \u001b[38;5;28;01mraise\u001b[39;00m \u001b[38;5;167;01mKeyError\u001b[39;00m(key) \u001b[38;5;28;01mfrom\u001b[39;00m \u001b[38;5;21;01merr\u001b[39;00m\n\u001b[1;32m   3813\u001b[0m \u001b[38;5;28;01mexcept\u001b[39;00m \u001b[38;5;167;01mTypeError\u001b[39;00m:\n\u001b[1;32m   3814\u001b[0m     \u001b[38;5;66;03m# If we have a listlike key, _check_indexing_error will raise\u001b[39;00m\n\u001b[1;32m   3815\u001b[0m     \u001b[38;5;66;03m#  InvalidIndexError. Otherwise we fall through and re-raise\u001b[39;00m\n\u001b[1;32m   3816\u001b[0m     \u001b[38;5;66;03m#  the TypeError.\u001b[39;00m\n\u001b[1;32m   3817\u001b[0m     \u001b[38;5;28mself\u001b[39m\u001b[38;5;241m.\u001b[39m_check_indexing_error(key)\n",
      "\u001b[0;31mKeyError\u001b[0m: 'clnt_age'"
     ]
    }
   ],
   "source": [
    "bins = [0, 20, 40, 60, df_combined['Age'].max()]\n",
    "labels = ['0 - 20', '21 - 40', '41 - 60', '60+']\n",
    "df_combined_cat_added = pd.cut(df_combined['clnt_age'], bins=bins, labels=labels, include_lowest=True)\n",
    "df_combined_cat_added = df_combined_cat_added.value_counts()"
   ]
  },
  {
   "cell_type": "code",
   "execution_count": 407,
   "id": "def87ecf-ffe7-438d-8eb0-3e5013bc4cb0",
   "metadata": {},
   "outputs": [
    {
     "name": "stderr",
     "output_type": "stream",
     "text": [
      "/var/folders/0d/nrxf3dnx3jq4b9fj3db32zgr0000gn/T/ipykernel_43554/274807169.py:1: FutureWarning: \n",
      "\n",
      "Passing `palette` without assigning `hue` is deprecated and will be removed in v0.14.0. Assign the `x` variable to `hue` and set `legend=False` for the same effect.\n",
      "\n",
      "  sns.barplot(x=df_combined_cat_added.index, y=df_combined_cat_added.values, palette=\"Set3\");\n"
     ]
    },
    {
     "data": {
      "image/png": "[encoded data removed]",
      "text/plain": [
       "<Figure size 640x480 with 1 Axes>"
      ]
     },
     "metadata": {},
     "output_type": "display_data"
    }
   ],
   "source": [
    "sns.barplot(x=df_combined_cat_added.index, y=df_combined_cat_added.values, palette=\"Set3\");"
   ]
  },
  {
   "cell_type": "markdown",
   "id": "55a82576-b510-4942-a719-647b8c4bf17a",
   "metadata": {
    "jp-MarkdownHeadingCollapsed": true
   },
   "source": [
    "## Clients Sex"
   ]
  },
  {
   "cell_type": "code",
   "execution_count": 409,
   "id": "ba7be1db-85c0-42dd-8f6b-7da57f63529d",
   "metadata": {},
   "outputs": [],
   "source": [
    "df_combined_gendr_cat = df_combined['Gender'].value_counts()"
   ]
  },
  {
   "cell_type": "code",
   "execution_count": 411,
   "id": "a3e39a25-120c-4c7f-bb3d-8ca8a8619692",
   "metadata": {},
   "outputs": [
    {
     "name": "stderr",
     "output_type": "stream",
     "text": [
      "/var/folders/0d/nrxf3dnx3jq4b9fj3db32zgr0000gn/T/ipykernel_43554/3868163362.py:1: FutureWarning: \n",
      "\n",
      "Passing `palette` without assigning `hue` is deprecated and will be removed in v0.14.0. Assign the `x` variable to `hue` and set `legend=False` for the same effect.\n",
      "\n",
      "  sns.barplot(x=df_combined_gendr_cat.index, y=df_combined_gendr_cat.values, palette=\"Set3\");\n"
     ]
    },
    {
     "data": {
      "image/png": "[encoded data removed]",
      "text/plain": [
       "<Figure size 640x480 with 1 Axes>"
      ]
     },
     "metadata": {},
     "output_type": "display_data"
    }
   ],
   "source": [
    "sns.barplot(x=df_combined_gendr_cat.index, y=df_combined_gendr_cat.values, palette=\"Set3\");"
   ]
  },
  {
   "cell_type": "markdown",
   "id": "d7f4a540-298c-4578-8b25-8cbbf2e46034",
   "metadata": {
    "jp-MarkdownHeadingCollapsed": true
   },
   "source": [
    "## Clients Tenure"
   ]
  },
  {
   "cell_type": "code",
   "execution_count": 413,
   "id": "87545a18-dc0f-4343-b463-7fd5ac606d9e",
   "metadata": {},
   "outputs": [
    {
     "data": {
      "text/plain": [
       "count    50487.000000\n",
       "mean        12.031810\n",
       "std          6.860326\n",
       "min          2.000000\n",
       "25%          6.000000\n",
       "50%         11.000000\n",
       "75%         16.000000\n",
       "max         55.000000\n",
       "Name: Tenure(Y), dtype: float64"
      ]
     },
     "execution_count": 413,
     "metadata": {},
     "output_type": "execute_result"
    }
   ],
   "source": [
    "df_combined['Tenure(Y)'].describe()"
   ]
  },
  {
   "cell_type": "code",
   "execution_count": 417,
   "id": "c992ad10-be2f-44d4-b54b-3788f9dc5571",
   "metadata": {},
   "outputs": [],
   "source": [
    "bins = [0, 5, 10, 15, 20, 25, 30, 35, 40, df_combined['Tenure(Y)'].max()]\n",
    "labels = ['up to 5', '6 - 10', '11 - 15', '16 - 20', '21 - 25', '26 - 30', '31 - 35', '36 - 40', '41+']\n",
    "df_tenure_cat = pd.cut(df_combined['Tenure(Y)'], bins=bins, labels=labels, include_lowest=True)\n",
    "df_tenure_cat = df_tenure_cat.value_counts()"
   ]
  },
  {
   "cell_type": "code",
   "execution_count": 419,
   "id": "e912afca-1281-4aca-b0f8-936df9fc8599",
   "metadata": {},
   "outputs": [
    {
     "data": {
      "text/plain": [
       "Tenure(Y)\n",
       "6 - 10     15975\n",
       "11 - 15    13109\n",
       "up to 5     8729\n",
       "16 - 20     5710\n",
       "21 - 25     4487\n",
       "26 - 30     1762\n",
       "31 - 35      570\n",
       "36 - 40       93\n",
       "41+           52\n",
       "Name: count, dtype: int64"
      ]
     },
     "execution_count": 419,
     "metadata": {},
     "output_type": "execute_result"
    }
   ],
   "source": [
    "df_tenure_cat"
   ]
  },
  {
   "cell_type": "code",
   "execution_count": 421,
   "id": "1e91f19e-2af3-4473-b740-bff32711d4f4",
   "metadata": {},
   "outputs": [
    {
     "name": "stderr",
     "output_type": "stream",
     "text": [
      "/var/folders/0d/nrxf3dnx3jq4b9fj3db32zgr0000gn/T/ipykernel_43554/3156780658.py:1: FutureWarning: \n",
      "\n",
      "Passing `palette` without assigning `hue` is deprecated and will be removed in v0.14.0. Assign the `x` variable to `hue` and set `legend=False` for the same effect.\n",
      "\n",
      "  sns.barplot(x=df_tenure_cat.index, y=df_tenure_cat.values, palette=\"Set3\");\n"
     ]
    },
    {
     "data": {
      "image/png": "[encoded data removed]",
      "text/plain": [
       "<Figure size 640x480 with 1 Axes>"
      ]
     },
     "metadata": {},
     "output_type": "display_data"
    }
   ],
   "source": [
    "sns.barplot(x=df_tenure_cat.index, y=df_tenure_cat.values, palette=\"Set3\");"
   ]
  },
  {
   "cell_type": "markdown",
   "id": "5b26d640-2385-4e34-970e-1d80239cba2d",
   "metadata": {
    "jp-MarkdownHeadingCollapsed": true
   },
   "source": [
    "## Next"
   ]
  },
  {
   "cell_type": "code",
   "execution_count": 423,
   "id": "4c421aab-fca6-4a6d-912e-ead2093016e3",
   "metadata": {},
   "outputs": [
    {
     "data": {
      "text/html": [
       "<div>\n",
       "<style scoped>\n",
       "    .dataframe tbody tr th:only-of-type {\n",
       "        vertical-align: middle;\n",
       "    }\n",
       "\n",
       "    .dataframe tbody tr th {\n",
       "        vertical-align: top;\n",
       "    }\n",
       "\n",
       "    .dataframe thead th {\n",
       "        text-align: right;\n",
       "    }\n",
       "</style>\n",
       "<table border=\"1\" class=\"dataframe\">\n",
       "  <thead>\n",
       "    <tr style=\"text-align: right;\">\n",
       "      <th></th>\n",
       "      <th>client_id</th>\n",
       "      <th>visitor_id</th>\n",
       "      <th>visit_id</th>\n",
       "      <th>process_step</th>\n",
       "      <th>date_time</th>\n",
       "    </tr>\n",
       "  </thead>\n",
       "  <tbody>\n",
       "    <tr>\n",
       "      <th>0</th>\n",
       "      <td>9988021</td>\n",
       "      <td>580560515_7732621733</td>\n",
       "      <td>781255054_21935453173_531117</td>\n",
       "      <td>step_3</td>\n",
       "      <td>2017-04-17 15:27:07</td>\n",
       "    </tr>\n",
       "    <tr>\n",
       "      <th>1</th>\n",
       "      <td>9988021</td>\n",
       "      <td>580560515_7732621733</td>\n",
       "      <td>781255054_21935453173_531117</td>\n",
       "      <td>step_2</td>\n",
       "      <td>2017-04-17 15:26:51</td>\n",
       "    </tr>\n",
       "    <tr>\n",
       "      <th>2</th>\n",
       "      <td>9988021</td>\n",
       "      <td>580560515_7732621733</td>\n",
       "      <td>781255054_21935453173_531117</td>\n",
       "      <td>step_3</td>\n",
       "      <td>2017-04-17 15:19:22</td>\n",
       "    </tr>\n",
       "    <tr>\n",
       "      <th>3</th>\n",
       "      <td>9988021</td>\n",
       "      <td>580560515_7732621733</td>\n",
       "      <td>781255054_21935453173_531117</td>\n",
       "      <td>step_2</td>\n",
       "      <td>2017-04-17 15:19:13</td>\n",
       "    </tr>\n",
       "    <tr>\n",
       "      <th>4</th>\n",
       "      <td>9988021</td>\n",
       "      <td>580560515_7732621733</td>\n",
       "      <td>781255054_21935453173_531117</td>\n",
       "      <td>step_3</td>\n",
       "      <td>2017-04-17 15:18:04</td>\n",
       "    </tr>\n",
       "    <tr>\n",
       "      <th>...</th>\n",
       "      <td>...</td>\n",
       "      <td>...</td>\n",
       "      <td>...</td>\n",
       "      <td>...</td>\n",
       "      <td>...</td>\n",
       "    </tr>\n",
       "    <tr>\n",
       "      <th>412259</th>\n",
       "      <td>9668240</td>\n",
       "      <td>388766751_9038881013</td>\n",
       "      <td>922267647_3096648104_968866</td>\n",
       "      <td>start</td>\n",
       "      <td>2017-05-24 18:46:10</td>\n",
       "    </tr>\n",
       "    <tr>\n",
       "      <th>412260</th>\n",
       "      <td>9668240</td>\n",
       "      <td>388766751_9038881013</td>\n",
       "      <td>922267647_3096648104_968866</td>\n",
       "      <td>start</td>\n",
       "      <td>2017-05-24 18:45:29</td>\n",
       "    </tr>\n",
       "    <tr>\n",
       "      <th>412261</th>\n",
       "      <td>9668240</td>\n",
       "      <td>388766751_9038881013</td>\n",
       "      <td>922267647_3096648104_968866</td>\n",
       "      <td>step_1</td>\n",
       "      <td>2017-05-24 18:44:51</td>\n",
       "    </tr>\n",
       "    <tr>\n",
       "      <th>412262</th>\n",
       "      <td>9668240</td>\n",
       "      <td>388766751_9038881013</td>\n",
       "      <td>922267647_3096648104_968866</td>\n",
       "      <td>start</td>\n",
       "      <td>2017-05-24 18:44:34</td>\n",
       "    </tr>\n",
       "    <tr>\n",
       "      <th>412263</th>\n",
       "      <td>674799</td>\n",
       "      <td>947159805_81558194550</td>\n",
       "      <td>86152093_47511127657_716022</td>\n",
       "      <td>start</td>\n",
       "      <td>2017-06-03 12:17:09</td>\n",
       "    </tr>\n",
       "  </tbody>\n",
       "</table>\n",
       "<p>755405 rows × 5 columns</p>\n",
       "</div>"
      ],
      "text/plain": [
       "        client_id             visitor_id                      visit_id  \\\n",
       "0         9988021   580560515_7732621733  781255054_21935453173_531117   \n",
       "1         9988021   580560515_7732621733  781255054_21935453173_531117   \n",
       "2         9988021   580560515_7732621733  781255054_21935453173_531117   \n",
       "3         9988021   580560515_7732621733  781255054_21935453173_531117   \n",
       "4         9988021   580560515_7732621733  781255054_21935453173_531117   \n",
       "...           ...                    ...                           ...   \n",
       "412259    9668240   388766751_9038881013   922267647_3096648104_968866   \n",
       "412260    9668240   388766751_9038881013   922267647_3096648104_968866   \n",
       "412261    9668240   388766751_9038881013   922267647_3096648104_968866   \n",
       "412262    9668240   388766751_9038881013   922267647_3096648104_968866   \n",
       "412263     674799  947159805_81558194550   86152093_47511127657_716022   \n",
       "\n",
       "       process_step            date_time  \n",
       "0            step_3  2017-04-17 15:27:07  \n",
       "1            step_2  2017-04-17 15:26:51  \n",
       "2            step_3  2017-04-17 15:19:22  \n",
       "3            step_2  2017-04-17 15:19:13  \n",
       "4            step_3  2017-04-17 15:18:04  \n",
       "...             ...                  ...  \n",
       "412259        start  2017-05-24 18:46:10  \n",
       "412260        start  2017-05-24 18:45:29  \n",
       "412261       step_1  2017-05-24 18:44:51  \n",
       "412262        start  2017-05-24 18:44:34  \n",
       "412263        start  2017-06-03 12:17:09  \n",
       "\n",
       "[755405 rows x 5 columns]"
      ]
     },
     "execution_count": 423,
     "metadata": {},
     "output_type": "execute_result"
    }
   ],
   "source": [
    "df_web"
   ]
  },
  {
   "cell_type": "code",
   "execution_count": 425,
   "id": "327633dc-e280-4222-b3eb-dcde9eda893d",
   "metadata": {},
   "outputs": [],
   "source": [
    "df_web['date_time'] = pd.to_datetime(df_web['date_time'])\n",
    "\n",
    "# Sort by client_id, visit_id, and date_time\n",
    "df_web = df_web.sort_values(by=['client_id', 'visit_id', 'date_time'])\n",
    "\n",
    "# Group process steps into categories\n",
    "step_mapping = {\n",
    "    'start': 'start',    # Assuming 'step_1' is the start category\n",
    "    'step_1': 'step_1',\n",
    "    'step_2': 'step_2',\n",
    "    'step_3': 'step_3',\n",
    "    'confirm': 'confirm'   # You can adjust these mappings based on your data\n",
    "}\n",
    "\n",
    "# Apply the mapping to the 'process_step' column\n",
    "df_web['step_group'] = df_web['process_step'].map(step_mapping)\n",
    "\n",
    "# Calculate the time difference between consecutive rows (steps)\n",
    "df_web['time_diff'] = df_web.groupby(['client_id', 'visit_id'])['date_time'].diff()\n",
    "\n",
    "# Convert time difference to minutes\n",
    "df_web['time_diff_minutes'] = round(df_web['time_diff'].dt.total_seconds() / 60,2)\n",
    "\n",
    "# Now, sum the time differences for each category ('step_group') by client_id\n",
    "time_summary = df_web.groupby(['client_id', 'step_group'])['time_diff_minutes'].sum().reset_index()\n",
    "\n",
    "# Pivot to have a table with client_id as index and step groups as columns\n",
    "df_web_time_spent = time_summary.pivot(index='client_id', columns='step_group', values='time_diff_minutes')\n",
    "\n",
    "df_web_time_spent = df_web_time_spent[['start', 'step_1', 'step_2', 'step_3', 'confirm']]"
   ]
  },
  {
   "cell_type": "code",
   "execution_count": 427,
   "id": "77689a6b-05b3-407e-9d77-dd187f0e66d0",
   "metadata": {},
   "outputs": [],
   "source": [
    "df_web_time_spent['total_time'] = df_web_time_spent[['start', 'step_1', 'step_2', 'step_3', 'confirm']].sum(axis=1)"
   ]
  },
  {
   "cell_type": "code",
   "execution_count": 429,
   "id": "d23d7843-f562-4db8-9001-e08e934cb032",
   "metadata": {},
   "outputs": [
    {
     "data": {
      "text/html": [
       "<div>\n",
       "<style scoped>\n",
       "    .dataframe tbody tr th:only-of-type {\n",
       "        vertical-align: middle;\n",
       "    }\n",
       "\n",
       "    .dataframe tbody tr th {\n",
       "        vertical-align: top;\n",
       "    }\n",
       "\n",
       "    .dataframe thead th {\n",
       "        text-align: right;\n",
       "    }\n",
       "</style>\n",
       "<table border=\"1\" class=\"dataframe\">\n",
       "  <thead>\n",
       "    <tr style=\"text-align: right;\">\n",
       "      <th>step_group</th>\n",
       "      <th>start</th>\n",
       "      <th>step_1</th>\n",
       "      <th>step_2</th>\n",
       "      <th>step_3</th>\n",
       "      <th>confirm</th>\n",
       "      <th>total_time</th>\n",
       "    </tr>\n",
       "    <tr>\n",
       "      <th>client_id</th>\n",
       "      <th></th>\n",
       "      <th></th>\n",
       "      <th></th>\n",
       "      <th></th>\n",
       "      <th></th>\n",
       "      <th></th>\n",
       "    </tr>\n",
       "  </thead>\n",
       "  <tbody>\n",
       "    <tr>\n",
       "      <th>169</th>\n",
       "      <td>0.00</td>\n",
       "      <td>0.15</td>\n",
       "      <td>0.77</td>\n",
       "      <td>1.57</td>\n",
       "      <td>1.07</td>\n",
       "      <td>3.56</td>\n",
       "    </tr>\n",
       "    <tr>\n",
       "      <th>336</th>\n",
       "      <td>15.80</td>\n",
       "      <td>NaN</td>\n",
       "      <td>NaN</td>\n",
       "      <td>NaN</td>\n",
       "      <td>NaN</td>\n",
       "      <td>15.80</td>\n",
       "    </tr>\n",
       "    <tr>\n",
       "      <th>546</th>\n",
       "      <td>0.00</td>\n",
       "      <td>0.17</td>\n",
       "      <td>0.22</td>\n",
       "      <td>1.45</td>\n",
       "      <td>0.38</td>\n",
       "      <td>2.22</td>\n",
       "    </tr>\n",
       "    <tr>\n",
       "      <th>555</th>\n",
       "      <td>0.00</td>\n",
       "      <td>0.12</td>\n",
       "      <td>0.53</td>\n",
       "      <td>1.65</td>\n",
       "      <td>0.33</td>\n",
       "      <td>2.63</td>\n",
       "    </tr>\n",
       "    <tr>\n",
       "      <th>647</th>\n",
       "      <td>0.00</td>\n",
       "      <td>0.12</td>\n",
       "      <td>0.30</td>\n",
       "      <td>3.15</td>\n",
       "      <td>2.72</td>\n",
       "      <td>6.29</td>\n",
       "    </tr>\n",
       "    <tr>\n",
       "      <th>...</th>\n",
       "      <td>...</td>\n",
       "      <td>...</td>\n",
       "      <td>...</td>\n",
       "      <td>...</td>\n",
       "      <td>...</td>\n",
       "      <td>...</td>\n",
       "    </tr>\n",
       "    <tr>\n",
       "      <th>9999729</th>\n",
       "      <td>1.35</td>\n",
       "      <td>1.70</td>\n",
       "      <td>4.95</td>\n",
       "      <td>0.65</td>\n",
       "      <td>0.35</td>\n",
       "      <td>9.00</td>\n",
       "    </tr>\n",
       "    <tr>\n",
       "      <th>9999768</th>\n",
       "      <td>2.02</td>\n",
       "      <td>0.19</td>\n",
       "      <td>2.62</td>\n",
       "      <td>2.74</td>\n",
       "      <td>0.55</td>\n",
       "      <td>8.12</td>\n",
       "    </tr>\n",
       "    <tr>\n",
       "      <th>9999832</th>\n",
       "      <td>0.00</td>\n",
       "      <td>0.13</td>\n",
       "      <td>NaN</td>\n",
       "      <td>NaN</td>\n",
       "      <td>NaN</td>\n",
       "      <td>0.13</td>\n",
       "    </tr>\n",
       "    <tr>\n",
       "      <th>9999839</th>\n",
       "      <td>2.62</td>\n",
       "      <td>0.05</td>\n",
       "      <td>0.25</td>\n",
       "      <td>0.63</td>\n",
       "      <td>0.58</td>\n",
       "      <td>4.13</td>\n",
       "    </tr>\n",
       "    <tr>\n",
       "      <th>9999875</th>\n",
       "      <td>0.00</td>\n",
       "      <td>1.45</td>\n",
       "      <td>0.32</td>\n",
       "      <td>3.18</td>\n",
       "      <td>3.68</td>\n",
       "      <td>8.63</td>\n",
       "    </tr>\n",
       "  </tbody>\n",
       "</table>\n",
       "<p>120157 rows × 6 columns</p>\n",
       "</div>"
      ],
      "text/plain": [
       "step_group  start  step_1  step_2  step_3  confirm  total_time\n",
       "client_id                                                     \n",
       "169          0.00    0.15    0.77    1.57     1.07        3.56\n",
       "336         15.80     NaN     NaN     NaN      NaN       15.80\n",
       "546          0.00    0.17    0.22    1.45     0.38        2.22\n",
       "555          0.00    0.12    0.53    1.65     0.33        2.63\n",
       "647          0.00    0.12    0.30    3.15     2.72        6.29\n",
       "...           ...     ...     ...     ...      ...         ...\n",
       "9999729      1.35    1.70    4.95    0.65     0.35        9.00\n",
       "9999768      2.02    0.19    2.62    2.74     0.55        8.12\n",
       "9999832      0.00    0.13     NaN     NaN      NaN        0.13\n",
       "9999839      2.62    0.05    0.25    0.63     0.58        4.13\n",
       "9999875      0.00    1.45    0.32    3.18     3.68        8.63\n",
       "\n",
       "[120157 rows x 6 columns]"
      ]
     },
     "execution_count": 429,
     "metadata": {},
     "output_type": "execute_result"
    }
   ],
   "source": [
    "df_web_time_spent"
   ]
  },
  {
   "cell_type": "code",
   "execution_count": null,
   "id": "d26b1a01-079e-405c-8e04-e55bad8dfaca",
   "metadata": {},
   "outputs": [],
   "source": []
  }
 ],
 "metadata": {
  "kernelspec": {
   "display_name": "Python [conda env:base] *",
   "language": "python",
   "name": "conda-base-py"
  },
  "language_info": {
   "codemirror_mode": {
    "name": "ipython",
    "version": 3
   },
   "file_extension": ".py",
   "mimetype": "text/x-python",
   "name": "python",
   "nbconvert_exporter": "python",
   "pygments_lexer": "ipython3",
   "version": "3.12.7"
  }
 },
 "nbformat": 4,
 "nbformat_minor": 5
}
